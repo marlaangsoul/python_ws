{
 "cells": [
  {
   "cell_type": "code",
   "execution_count": 1,
   "id": "d066c7a9",
   "metadata": {},
   "outputs": [],
   "source": [
    "var1 = \"Hello python\""
   ]
  },
  {
   "cell_type": "code",
   "execution_count": 2,
   "id": "c2f681bd",
   "metadata": {},
   "outputs": [
    {
     "name": "stdout",
     "output_type": "stream",
     "text": [
      "Hello python\n",
      "1905125925232\n"
     ]
    }
   ],
   "source": [
    "print(var1)\n",
    "print( id(var1))"
   ]
  },
  {
   "cell_type": "code",
   "execution_count": 3,
   "id": "d42e451f",
   "metadata": {},
   "outputs": [
    {
     "name": "stdout",
     "output_type": "stream",
     "text": [
      "150.25\n",
      "1905125844720\n"
     ]
    }
   ],
   "source": [
    "var2 = 150.25\n",
    "print(var2)\n",
    "print(id(var2))"
   ]
  },
  {
   "cell_type": "code",
   "execution_count": 4,
   "id": "29bee095",
   "metadata": {},
   "outputs": [
    {
     "name": "stdout",
     "output_type": "stream",
     "text": [
      "True\n"
     ]
    }
   ],
   "source": [
    "var3 = True\n",
    "print(var3)"
   ]
  },
  {
   "cell_type": "code",
   "execution_count": 5,
   "id": "e07f268d",
   "metadata": {},
   "outputs": [
    {
     "name": "stdout",
     "output_type": "stream",
     "text": [
      "140719832662848\n"
     ]
    }
   ],
   "source": [
    "print(id(var3))"
   ]
  },
  {
   "cell_type": "code",
   "execution_count": 6,
   "id": "e8e7b131",
   "metadata": {},
   "outputs": [
    {
     "name": "stdout",
     "output_type": "stream",
     "text": [
      "['False', 'None', 'True', 'and', 'as', 'assert', 'async', 'await', 'break', 'class', 'continue', 'def', 'del', 'elif', 'else', 'except', 'finally', 'for', 'from', 'global', 'if', 'import', 'in', 'is', 'lambda', 'nonlocal', 'not', 'or', 'pass', 'raise', 'return', 'try', 'while', 'with', 'yield']\n"
     ]
    }
   ],
   "source": [
    "#예약어 확인 >> 또는 키워드란 문법 적으로 사용 되면 안되는 단어들..\n",
    "import keyword # 모듈 임포트\n",
    "python_keyword = keyword.kwlist\n",
    "print(python_keyword)\n"
   ]
  },
  {
   "cell_type": "code",
   "execution_count": 7,
   "id": "0e54ba86",
   "metadata": {},
   "outputs": [
    {
     "name": "stdout",
     "output_type": "stream",
     "text": [
      "hello python\n",
      "<class 'str'>\n"
     ]
    }
   ],
   "source": [
    "var1=\"hello python\"\n",
    "print(var1)\n",
    "print(type(var1))"
   ]
  },
  {
   "cell_type": "code",
   "execution_count": 8,
   "id": "7b3109f2",
   "metadata": {},
   "outputs": [
    {
     "name": "stdout",
     "output_type": "stream",
     "text": [
      "100\n",
      "<class 'int'>\n"
     ]
    }
   ],
   "source": [
    "var1 = 100\n",
    "print(var1)\n",
    "print(type(var1))"
   ]
  },
  {
   "cell_type": "code",
   "execution_count": 10,
   "id": "560bbd65",
   "metadata": {},
   "outputs": [
    {
     "name": "stdout",
     "output_type": "stream",
     "text": [
      "150.25\n",
      "<class 'float'>\n"
     ]
    }
   ],
   "source": [
    "var2 = 150.25\n",
    "print(var2)\n",
    "print(type(var2))"
   ]
  },
  {
   "cell_type": "code",
   "execution_count": 12,
   "id": "eed7dae6",
   "metadata": {},
   "outputs": [
    {
     "name": "stdout",
     "output_type": "stream",
     "text": [
      "False\n",
      "<class 'bool'>\n"
     ]
    }
   ],
   "source": [
    "var3 = False\n",
    "print(var3)\n",
    "print(type(var3))"
   ]
  },
  {
   "cell_type": "code",
   "execution_count": 13,
   "id": "71925a7c",
   "metadata": {},
   "outputs": [
    {
     "name": "stdout",
     "output_type": "stream",
     "text": [
      "30\n"
     ]
    }
   ],
   "source": [
    "a = int(10.5)\n",
    "b = int(20.42)\n",
    "add = a+b\n",
    "print(add)"
   ]
  },
  {
   "cell_type": "code",
   "execution_count": 14,
   "id": "2817f180",
   "metadata": {},
   "outputs": [
    {
     "name": "stdout",
     "output_type": "stream",
     "text": [
      "30.0\n"
     ]
    }
   ],
   "source": [
    "# 정수를 실수로 바꾸자.\n",
    "a=float(10)\n",
    "b=float(20)\n",
    "add2 = a+b\n",
    "print(add2)"
   ]
  },
  {
   "cell_type": "code",
   "execution_count": 16,
   "id": "145f5289",
   "metadata": {},
   "outputs": [
    {
     "name": "stdout",
     "output_type": "stream",
     "text": [
      "1\n",
      "0\n"
     ]
    }
   ],
   "source": [
    "# 논리형을 정수로 바꾸자.\n",
    "print(int(True))\n",
    "print(int(False))"
   ]
  },
  {
   "cell_type": "code",
   "execution_count": 18,
   "id": "0ad2d51d",
   "metadata": {},
   "outputs": [
    {
     "name": "stdout",
     "output_type": "stream",
     "text": [
      "100\n"
     ]
    }
   ],
   "source": [
    "st = '10'\n",
    "print(int(st)**2)"
   ]
  },
  {
   "cell_type": "code",
   "execution_count": 22,
   "id": "afbd7fdc",
   "metadata": {},
   "outputs": [],
   "source": [
    "num1 = 100\n",
    "num2 = 20"
   ]
  },
  {
   "cell_type": "code",
   "execution_count": 27,
   "id": "6a0c8677",
   "metadata": {},
   "outputs": [
    {
     "name": "stdout",
     "output_type": "stream",
     "text": [
      "add = 120\n"
     ]
    }
   ],
   "source": [
    "add = num1 +num2\n",
    "print('add =',add)"
   ]
  },
  {
   "cell_type": "code",
   "execution_count": 29,
   "id": "bae644cb",
   "metadata": {},
   "outputs": [
    {
     "name": "stdout",
     "output_type": "stream",
     "text": [
      "sub= 80\n"
     ]
    }
   ],
   "source": [
    "sub=num1 -num2\n",
    "print('sub=',sub)"
   ]
  },
  {
   "cell_type": "code",
   "execution_count": 30,
   "id": "5d6a3bec",
   "metadata": {},
   "outputs": [
    {
     "name": "stdout",
     "output_type": "stream",
     "text": [
      "mul= 2000\n"
     ]
    }
   ],
   "source": [
    "mul = num1*num2\n",
    "print('mul=', mul)"
   ]
  },
  {
   "cell_type": "code",
   "execution_count": 31,
   "id": "eee93b17",
   "metadata": {},
   "outputs": [
    {
     "name": "stdout",
     "output_type": "stream",
     "text": [
      "div= 5.0\n"
     ]
    }
   ],
   "source": [
    "div=num1/num2\n",
    "print('div=',div)"
   ]
  },
  {
   "cell_type": "code",
   "execution_count": 33,
   "id": "e4da8727",
   "metadata": {},
   "outputs": [
    {
     "name": "stdout",
     "output_type": "stream",
     "text": [
      "div2= 0\n"
     ]
    }
   ],
   "source": [
    "div2 = num1%num2\n",
    "print('div2=',div2)"
   ]
  },
  {
   "cell_type": "code",
   "execution_count": 34,
   "id": "ff422a36",
   "metadata": {},
   "outputs": [
    {
     "name": "stdout",
     "output_type": "stream",
     "text": [
      "square= 10000\n"
     ]
    }
   ],
   "source": [
    "square=num1**2\n",
    "print('square=',square)"
   ]
  },
  {
   "cell_type": "code",
   "execution_count": 37,
   "id": "33480827",
   "metadata": {},
   "outputs": [
    {
     "name": "stdout",
     "output_type": "stream",
     "text": [
      "False\n",
      "True\n"
     ]
    }
   ],
   "source": [
    "#동등비교\n",
    "# 두 변수의 값이 같은지 비교\n",
    "bool_result = num1 == num2\n",
    "print(bool_result)\n",
    "\n",
    "bool_result = num1 !=num2\n",
    "print(bool_result)"
   ]
  },
  {
   "cell_type": "code",
   "execution_count": 40,
   "id": "76f0164d",
   "metadata": {},
   "outputs": [
    {
     "name": "stdout",
     "output_type": "stream",
     "text": [
      "True\n",
      "True\n",
      "False\n",
      "False\n"
     ]
    }
   ],
   "source": [
    "bool_result=num1>num2\n",
    "print(bool_result)\n",
    "bool_result=num1>=num2\n",
    "print(bool_result)\n",
    "bool_result=num1<num2\n",
    "print(bool_result)\n",
    "bool_result=num1<=num2\n",
    "print(bool_result)"
   ]
  },
  {
   "cell_type": "code",
   "execution_count": 42,
   "id": "ade5b788",
   "metadata": {},
   "outputs": [
    {
     "name": "stdout",
     "output_type": "stream",
     "text": [
      "False\n"
     ]
    }
   ],
   "source": [
    "log_result = num1>= 50 and num2 <=10\n",
    "print(log_result)"
   ]
  },
  {
   "cell_type": "code",
   "execution_count": 43,
   "id": "e24ce559",
   "metadata": {},
   "outputs": [
    {
     "name": "stdout",
     "output_type": "stream",
     "text": [
      "True\n"
     ]
    }
   ],
   "source": [
    "log_result = num1>= 50 or num2 <=10\n",
    "print(log_result)"
   ]
  },
  {
   "cell_type": "code",
   "execution_count": 44,
   "id": "a8b59f34",
   "metadata": {},
   "outputs": [
    {
     "name": "stdout",
     "output_type": "stream",
     "text": [
      "True\n"
     ]
    }
   ],
   "source": [
    "log_result = num1 >=50\n",
    "print(log_result)"
   ]
  },
  {
   "cell_type": "code",
   "execution_count": 45,
   "id": "4d0135ee",
   "metadata": {},
   "outputs": [
    {
     "name": "stdout",
     "output_type": "stream",
     "text": [
      "False\n"
     ]
    }
   ],
   "source": [
    "log_result = not(num1>=50)\n",
    "print(log_result) "
   ]
  },
  {
   "cell_type": "code",
   "execution_count": 46,
   "id": "c2dbdf14",
   "metadata": {},
   "outputs": [
    {
     "name": "stdout",
     "output_type": "stream",
     "text": [
      "11 21\n"
     ]
    }
   ],
   "source": [
    "i = tot = 10\n",
    "i += 1\n",
    "tot += i\n",
    "print(i,tot)"
   ]
  },
  {
   "cell_type": "code",
   "execution_count": 47,
   "id": "8634d1e5",
   "metadata": {},
   "outputs": [
    {
     "name": "stdout",
     "output_type": "stream",
     "text": [
      "2\n"
     ]
    }
   ],
   "source": [
    "cnt = 0\n",
    "cnt = cnt + 1\n",
    "cnt += 1\n",
    "print(cnt)"
   ]
  },
  {
   "cell_type": "code",
   "execution_count": 4,
   "id": "08d4f2e8",
   "metadata": {},
   "outputs": [
    {
     "name": "stdout",
     "output_type": "stream",
     "text": [
      "0\n"
     ]
    }
   ],
   "source": [
    "cnt = 0\n",
    "tot = 0\n",
    "tot += cnt\n",
    "print(tot)"
   ]
  },
  {
   "cell_type": "code",
   "execution_count": null,
   "id": "bd8a4640",
   "metadata": {},
   "outputs": [],
   "source": []
  }
 ],
 "metadata": {
  "kernelspec": {
   "display_name": "Python 3 (ipykernel)",
   "language": "python",
   "name": "python3"
  },
  "language_info": {
   "codemirror_mode": {
    "name": "ipython",
    "version": 3
   },
   "file_extension": ".py",
   "mimetype": "text/x-python",
   "name": "python",
   "nbconvert_exporter": "python",
   "pygments_lexer": "ipython3",
   "version": "3.8.13"
  }
 },
 "nbformat": 4,
 "nbformat_minor": 5
}
