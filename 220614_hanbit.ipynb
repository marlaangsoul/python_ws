{
 "cells": [
  {
   "cell_type": "markdown",
   "id": "9fc970f6",
   "metadata": {},
   "source": [
    "https://www.hanbit.co.kr/myhanbit/myhanbit.html\n",
    "\n",
    "로그인 후 가는 페이지."
   ]
  },
  {
   "cell_type": "code",
   "execution_count": 23,
   "id": "4b2d5784",
   "metadata": {},
   "outputs": [],
   "source": [
    "import requests\n",
    "from bs4 import BeautifulSoup"
   ]
  },
  {
   "cell_type": "code",
   "execution_count": 65,
   "id": "68ee776d",
   "metadata": {},
   "outputs": [],
   "source": [
    "url = 'https://www.hanbit.co.kr/member/login_proc.php'\n",
    "data = {\n",
    "    'm_id' : 'marlaangsoul',\n",
    "    'm_passwd' : 'qhhyun91$H'\n",
    "}"
   ]
  },
  {
   "cell_type": "code",
   "execution_count": 67,
   "id": "8b83aba8",
   "metadata": {},
   "outputs": [
    {
     "name": "stdout",
     "output_type": "stream",
     "text": [
      "200\n",
      "<script>location.href='https://www.hanbit.co.kr';</script>\n"
     ]
    }
   ],
   "source": [
    "#session\n",
    "s = requests.Session()\n",
    "\n",
    "resp = s.post(url, data=data)\n",
    "print(resp.status_code)\n",
    "print(resp.text)"
   ]
  },
  {
   "cell_type": "code",
   "execution_count": 68,
   "id": "af79df28",
   "metadata": {},
   "outputs": [
    {
     "data": {
      "text/plain": [
       "200"
      ]
     },
     "execution_count": 68,
     "metadata": {},
     "output_type": "execute_result"
    }
   ],
   "source": [
    "resp.status_code"
   ]
  },
  {
   "cell_type": "code",
   "execution_count": 69,
   "id": "8a61c436",
   "metadata": {},
   "outputs": [
    {
     "name": "stdout",
     "output_type": "stream",
     "text": [
      "[<div class=\"sm_mymileage\">\n",
      "<dl class=\"mileage_section1\">\n",
      "<dt>마일리지</dt>\n",
      "<dd><span>2,000</span> 점</dd>\n",
      "</dl>\n",
      "<dl class=\"mileage_section2\">\n",
      "<dt>한빛이코인</dt>\n",
      "<dd><span>0</span> 원</dd>\n",
      "</dl>\n",
      "</div>]\n",
      "2,000 0\n"
     ]
    }
   ],
   "source": [
    "mypage = 'http://www.hanbit.co.kr/myhanbit/myhanbit.html'\n",
    "resp = s.get(mypage)\n",
    "\n",
    "soup = BeautifulSoup(resp.text)\n",
    "mileages = soup.select('div.sm_mymileage')\n",
    "print(mileages)                 \n",
    "mileage = soup.select_one('dl.mileage_section1 span').get_text()\n",
    "ecoin = soup.select_one('dl.mileage_section2 span').get_text()\n",
    "print(mileage, ecoin)"
   ]
  }
 ],
 "metadata": {
  "kernelspec": {
   "display_name": "Python 3 (ipykernel)",
   "language": "python",
   "name": "python3"
  },
  "language_info": {
   "codemirror_mode": {
    "name": "ipython",
    "version": 3
   },
   "file_extension": ".py",
   "mimetype": "text/x-python",
   "name": "python",
   "nbconvert_exporter": "python",
   "pygments_lexer": "ipython3",
   "version": "3.8.13"
  }
 },
 "nbformat": 4,
 "nbformat_minor": 5
}
