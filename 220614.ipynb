{
 "cells": [
  {
   "cell_type": "markdown",
   "id": "684b6c88",
   "metadata": {},
   "source": [
    "https://maninbooks.com/front/mypage/basketList2.do\n",
    "\n",
    "로그인 후 가는 페이지"
   ]
  },
  {
   "cell_type": "code",
   "execution_count": null,
   "id": "9f090867",
   "metadata": {},
   "outputs": [],
   "source": [
    "import requests\n",
    "from bs4 import BeautifulSoup"
   ]
  },
  {
   "cell_type": "code",
   "execution_count": null,
   "id": "20249c2e",
   "metadata": {},
   "outputs": [],
   "source": [
    "url = 'https://maninbooks.com/front/common/loginForm.do'\n",
    "data = {\n",
    "    'id' : 'marlaangsoul',\n",
    "    'pwd' : 'qhhyun91$M'\n",
    "}\n"
   ]
  },
  {
   "cell_type": "code",
   "execution_count": null,
   "id": "6f24554e",
   "metadata": {},
   "outputs": [],
   "source": [
    "#Session\n",
    "s = requests.Session()\n",
    "response = s.post(url, data=data)"
   ]
  },
  {
   "cell_type": "code",
   "execution_count": null,
   "id": "9961a9ba",
   "metadata": {},
   "outputs": [],
   "source": [
    "response.status_code"
   ]
  },
  {
   "cell_type": "code",
   "execution_count": null,
   "id": "7e5a611b",
   "metadata": {},
   "outputs": [],
   "source": [
    "if response.status_code == 200:\n",
    "    "
   ]
  },
  {
   "cell_type": "code",
   "execution_count": null,
   "id": "2f66a0ef",
   "metadata": {},
   "outputs": [],
   "source": [
    "mypage = 'https://maninbooks.com/front/mypage/basketList2.do'\n",
    "response2 = s.get(mypage)"
   ]
  },
  {
   "cell_type": "code",
   "execution_count": null,
   "id": "c07e4c10",
   "metadata": {},
   "outputs": [],
   "source": [
    "if response2.status_code == 200:\n",
    "    text = response2.text"
   ]
  },
  {
   "cell_type": "code",
   "execution_count": null,
   "id": "30160290",
   "metadata": {},
   "outputs": [],
   "source": [
    "text"
   ]
  },
  {
   "cell_type": "code",
   "execution_count": null,
   "id": "84db6a27",
   "metadata": {},
   "outputs": [],
   "source": [
    "soup = BeautifulSoup(response2.text)\n",
    "td = soup.select('td.a_bbslist555')\n",
    "print(td)                 \n",
    "orderTb = soup.select_one('td.a_bbslist55:nth-child(3)')\n",
    "print(mileage.get_text())"
   ]
  }
 ],
 "metadata": {
  "kernelspec": {
   "display_name": "Python 3 (ipykernel)",
   "language": "python",
   "name": "python3"
  },
  "language_info": {
   "codemirror_mode": {
    "name": "ipython",
    "version": 3
   },
   "file_extension": ".py",
   "mimetype": "text/x-python",
   "name": "python",
   "nbconvert_exporter": "python",
   "pygments_lexer": "ipython3",
   "version": "3.8.13"
  }
 },
 "nbformat": 4,
 "nbformat_minor": 5
}
