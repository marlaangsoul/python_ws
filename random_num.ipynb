{
 "cells": [
  {
   "cell_type": "code",
   "execution_count": 1,
   "id": "752516f5",
   "metadata": {},
   "outputs": [],
   "source": [
    "import random"
   ]
  },
  {
   "cell_type": "code",
   "execution_count": 23,
   "id": "5d445384",
   "metadata": {},
   "outputs": [
    {
     "name": "stdout",
     "output_type": "stream",
     "text": [
      "14\n"
     ]
    }
   ],
   "source": [
    "todaynum = random.randint(1,58)\n",
    "\n",
    "print(todaynum)"
   ]
  },
  {
   "cell_type": "markdown",
   "id": "538d2e47",
   "metadata": {},
   "source": [
    "\n",
    "lottoOne = set()\n",
    "while True:\n",
    "    lottoOne.add(random.randint(1,45))\n",
    "    if len(lottoOne) == 6:\n",
    "        break\n",
    "lottoOne"
   ]
  },
  {
   "cell_type": "code",
   "execution_count": 27,
   "id": "77752763",
   "metadata": {},
   "outputs": [
    {
     "name": "stdout",
     "output_type": "stream",
     "text": [
      "5\n"
     ]
    }
   ],
   "source": [
    "print(random.randint(1,58))"
   ]
  }
 ],
 "metadata": {
  "kernelspec": {
   "display_name": "Python 3 (ipykernel)",
   "language": "python",
   "name": "python3"
  },
  "language_info": {
   "codemirror_mode": {
    "name": "ipython",
    "version": 3
   },
   "file_extension": ".py",
   "mimetype": "text/x-python",
   "name": "python",
   "nbconvert_exporter": "python",
   "pygments_lexer": "ipython3",
   "version": "3.8.13"
  }
 },
 "nbformat": 4,
 "nbformat_minor": 5
}
