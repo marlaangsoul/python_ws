{
 "cells": [
  {
   "cell_type": "code",
   "execution_count": 1,
   "id": "b4bd8f78",
   "metadata": {},
   "outputs": [
    {
     "name": "stdout",
     "output_type": "stream",
     "text": [
      "hello world\n"
     ]
    }
   ],
   "source": [
    "print(\"hello world\")"
   ]
  },
  {
   "cell_type": "code",
   "execution_count": 3,
   "id": "0457e269",
   "metadata": {},
   "outputs": [
    {
     "data": {
      "text/plain": [
       "111111111111111111111111111111111111111111111111111111111111111111111111111111111"
      ]
     },
     "execution_count": 3,
     "metadata": {},
     "output_type": "execute_result"
    }
   ],
   "source": [
    "a = 111111111111111111111111111111111111111111111111111111111111111111111111111111111\n",
    "a"
   ]
  },
  {
   "cell_type": "code",
   "execution_count": 5,
   "id": "1d41052d",
   "metadata": {},
   "outputs": [],
   "source": [
    "import this"
   ]
  },
  {
   "cell_type": "code",
   "execution_count": 6,
   "id": "77a2895d",
   "metadata": {},
   "outputs": [],
   "source": [
    "import turtle as t\n",
    "t.shape('turtle')"
   ]
  },
  {
   "cell_type": "code",
   "execution_count": 1,
   "id": "33048e30",
   "metadata": {},
   "outputs": [
    {
     "ename": "NameError",
     "evalue": "name 't' is not defined",
     "output_type": "error",
     "traceback": [
      "\u001b[1;31m---------------------------------------------------------------------------\u001b[0m",
      "\u001b[1;31mNameError\u001b[0m                                 Traceback (most recent call last)",
      "Input \u001b[1;32mIn [1]\u001b[0m, in \u001b[0;36m<cell line: 2>\u001b[1;34m()\u001b[0m\n\u001b[0;32m      1\u001b[0m shape \u001b[38;5;241m=\u001b[39m \u001b[38;5;241m8\u001b[39m\n\u001b[0;32m      2\u001b[0m \u001b[38;5;28;01mfor\u001b[39;00m i \u001b[38;5;129;01min\u001b[39;00m \u001b[38;5;28mrange\u001b[39m(shape):\n\u001b[1;32m----> 3\u001b[0m     \u001b[43mt\u001b[49m\u001b[38;5;241m.\u001b[39mforward(\u001b[38;5;241m100\u001b[39m)\n",
      "\u001b[1;31mNameError\u001b[0m: name 't' is not defined"
     ]
    }
   ],
   "source": [
    "shape = 8\n",
    "for i in range(shape):\n",
    "    t.forward(100)"
   ]
  },
  {
   "cell_type": "code",
   "execution_count": null,
   "id": "280176c1",
   "metadata": {},
   "outputs": [],
   "source": []
  },
  {
   "cell_type": "code",
   "execution_count": 6,
   "id": "a5318f96",
   "metadata": {},
   "outputs": [
    {
     "ename": "NameError",
     "evalue": "name 't' is not defined",
     "output_type": "error",
     "traceback": [
      "\u001b[1;31m---------------------------------------------------------------------------\u001b[0m",
      "\u001b[1;31mNameError\u001b[0m                                 Traceback (most recent call last)",
      "Input \u001b[1;32mIn [6]\u001b[0m, in \u001b[0;36m<cell line: 1>\u001b[1;34m()\u001b[0m\n\u001b[1;32m----> 1\u001b[0m \u001b[38;5;28mprint\u001b[39m(\u001b[43mt\u001b[49m) \u001b[38;5;66;03m#값을 보는 함수\u001b[39;00m\n\u001b[0;32m      2\u001b[0m \u001b[38;5;28mid\u001b[39m(t) \u001b[38;5;66;03m#주소 보는 함수\u001b[39;00m\n\u001b[0;32m      3\u001b[0m \u001b[38;5;28mtype\u001b[39m(t)\n",
      "\u001b[1;31mNameError\u001b[0m: name 't' is not defined"
     ]
    }
   ],
   "source": [
    "print(t) #값을 보는 함수\n",
    "id(t) #주소 보는 함수\n",
    "type(t) #타입 보는 함수"
   ]
  },
  {
   "cell_type": "code",
   "execution_count": 10,
   "id": "3e3cb979",
   "metadata": {},
   "outputs": [
    {
     "data": {
      "text/plain": [
       "'hello world'"
      ]
     },
     "execution_count": 10,
     "metadata": {},
     "output_type": "execute_result"
    }
   ],
   "source": [
    "var1='hello world' # '',\"\"\n",
    "var1"
   ]
  },
  {
   "cell_type": "code",
   "execution_count": 13,
   "id": "4c50f0da",
   "metadata": {},
   "outputs": [],
   "source": [
    "var2 = None"
   ]
  },
  {
   "cell_type": "code",
   "execution_count": 14,
   "id": "7a7c7cba",
   "metadata": {},
   "outputs": [
    {
     "ename": "NameError",
     "evalue": "name 'var3' is not defined",
     "output_type": "error",
     "traceback": [
      "\u001b[1;31m---------------------------------------------------------------------------\u001b[0m",
      "\u001b[1;31mNameError\u001b[0m                                 Traceback (most recent call last)",
      "Input \u001b[1;32mIn [14]\u001b[0m, in \u001b[0;36m<cell line: 1>\u001b[1;34m()\u001b[0m\n\u001b[1;32m----> 1\u001b[0m \u001b[38;5;28mprint\u001b[39m(\u001b[43mvar3\u001b[49m)\n",
      "\u001b[1;31mNameError\u001b[0m: name 'var3' is not defined"
     ]
    }
   ],
   "source": [
    "print(var3)"
   ]
  },
  {
   "cell_type": "code",
   "execution_count": 16,
   "id": "8efdb408",
   "metadata": {},
   "outputs": [
    {
     "data": {
      "text/plain": [
       "2768264015344"
      ]
     },
     "execution_count": 16,
     "metadata": {},
     "output_type": "execute_result"
    }
   ],
   "source": [
    "id(var1)"
   ]
  },
  {
   "cell_type": "code",
   "execution_count": 18,
   "id": "01c21ada",
   "metadata": {},
   "outputs": [
    {
     "data": {
      "text/plain": [
       "['False',\n",
       " 'None',\n",
       " 'True',\n",
       " 'and',\n",
       " 'as',\n",
       " 'assert',\n",
       " 'async',\n",
       " 'await',\n",
       " 'break',\n",
       " 'class',\n",
       " 'continue',\n",
       " 'def',\n",
       " 'del',\n",
       " 'elif',\n",
       " 'else',\n",
       " 'except',\n",
       " 'finally',\n",
       " 'for',\n",
       " 'from',\n",
       " 'global',\n",
       " 'if',\n",
       " 'import',\n",
       " 'in',\n",
       " 'is',\n",
       " 'lambda',\n",
       " 'nonlocal',\n",
       " 'not',\n",
       " 'or',\n",
       " 'pass',\n",
       " 'raise',\n",
       " 'return',\n",
       " 'try',\n",
       " 'while',\n",
       " 'with',\n",
       " 'yield']"
      ]
     },
     "execution_count": 18,
     "metadata": {},
     "output_type": "execute_result"
    }
   ],
   "source": [
    "import keyword\n",
    "keyword.kwlist"
   ]
  },
  {
   "cell_type": "code",
   "execution_count": 20,
   "id": "0a0027e7",
   "metadata": {},
   "outputs": [
    {
     "name": "stdout",
     "output_type": "stream",
     "text": [
      "<class 'str'>\n"
     ]
    },
    {
     "data": {
      "text/plain": [
       "str"
      ]
     },
     "execution_count": 20,
     "metadata": {},
     "output_type": "execute_result"
    }
   ],
   "source": [
    "var1 = 'hellow world'\n",
    "print(type(var1))\n",
    "type(var1)"
   ]
  },
  {
   "cell_type": "code",
   "execution_count": 22,
   "id": "25a29858",
   "metadata": {},
   "outputs": [
    {
     "name": "stdout",
     "output_type": "stream",
     "text": [
      "<class 'float'>\n"
     ]
    }
   ],
   "source": [
    "var2 = 100.0\n",
    "print(type(var2))"
   ]
  },
  {
   "cell_type": "code",
   "execution_count": 25,
   "id": "45158ebe",
   "metadata": {},
   "outputs": [
    {
     "name": "stdout",
     "output_type": "stream",
     "text": [
      "<class 'bool'>\n"
     ]
    }
   ],
   "source": [
    "var3 = True\n",
    "print(type(var3))"
   ]
  },
  {
   "cell_type": "code",
   "execution_count": 27,
   "id": "11e6845e",
   "metadata": {},
   "outputs": [
    {
     "data": {
      "text/plain": [
       "'11'"
      ]
     },
     "execution_count": 27,
     "metadata": {},
     "output_type": "execute_result"
    }
   ],
   "source": [
    "'1' + str(1)"
   ]
  },
  {
   "cell_type": "code",
   "execution_count": 29,
   "id": "68a44be6",
   "metadata": {},
   "outputs": [
    {
     "data": {
      "text/plain": [
       "'*****'"
      ]
     },
     "execution_count": 29,
     "metadata": {},
     "output_type": "execute_result"
    }
   ],
   "source": [
    "'*' * 5"
   ]
  },
  {
   "cell_type": "code",
   "execution_count": 31,
   "id": "91840247",
   "metadata": {},
   "outputs": [
    {
     "data": {
      "text/plain": [
       "'lbhlbhlbhlbhlbh'"
      ]
     },
     "execution_count": 31,
     "metadata": {},
     "output_type": "execute_result"
    }
   ],
   "source": [
    "'lbh' * 5"
   ]
  },
  {
   "cell_type": "code",
   "execution_count": 33,
   "id": "bf632ab8",
   "metadata": {},
   "outputs": [
    {
     "data": {
      "text/plain": [
       "4"
      ]
     },
     "execution_count": 33,
     "metadata": {},
     "output_type": "execute_result"
    }
   ],
   "source": [
    "2 ** 2"
   ]
  },
  {
   "cell_type": "code",
   "execution_count": 35,
   "id": "f8e92448",
   "metadata": {},
   "outputs": [
    {
     "data": {
      "text/plain": [
       "100"
      ]
     },
     "execution_count": 35,
     "metadata": {},
     "output_type": "execute_result"
    }
   ],
   "source": [
    "10 ** 2\n"
   ]
  },
  {
   "cell_type": "code",
   "execution_count": 38,
   "id": "55ae2f34",
   "metadata": {},
   "outputs": [
    {
     "data": {
      "text/plain": [
       "(1.6666666666666667, 1, 2)"
      ]
     },
     "execution_count": 38,
     "metadata": {},
     "output_type": "execute_result"
    }
   ],
   "source": [
    "5/3, 5//3, 5%3"
   ]
  },
  {
   "cell_type": "code",
   "execution_count": 41,
   "id": "c5dc4231",
   "metadata": {},
   "outputs": [
    {
     "ename": "SyntaxError",
     "evalue": "invalid syntax (3519662242.py, line 1)",
     "output_type": "error",
     "traceback": [
      "\u001b[1;36m  Input \u001b[1;32mIn [41]\u001b[1;36m\u001b[0m\n\u001b[1;33m    =, *\u001b[0m\n\u001b[1;37m    ^\u001b[0m\n\u001b[1;31mSyntaxError\u001b[0m\u001b[1;31m:\u001b[0m invalid syntax\n"
     ]
    }
   ],
   "source": [
    "=, *"
   ]
  },
  {
   "cell_type": "code",
   "execution_count": 46,
   "id": "c9ab430a",
   "metadata": {},
   "outputs": [
    {
     "data": {
      "text/plain": [
       "(11, 21)"
      ]
     },
     "execution_count": 46,
     "metadata": {},
     "output_type": "execute_result"
    }
   ],
   "source": [
    "i = tot = 10\n",
    "i += 1 # i = i+1\n",
    "tot += i\n",
    "i, tot"
   ]
  },
  {
   "cell_type": "code",
   "execution_count": 49,
   "id": "9732a145",
   "metadata": {},
   "outputs": [
    {
     "data": {
      "text/plain": [
       "(10, 20)"
      ]
     },
     "execution_count": 49,
     "metadata": {},
     "output_type": "execute_result"
    }
   ],
   "source": [
    "v1 = 10\n",
    "v2 = 20\n",
    "\n",
    "v1,v2"
   ]
  },
  {
   "cell_type": "code",
   "execution_count": 53,
   "id": "3ea56ba9",
   "metadata": {},
   "outputs": [
    {
     "data": {
      "text/plain": [
       "(10, 20)"
      ]
     },
     "execution_count": 53,
     "metadata": {},
     "output_type": "execute_result"
    }
   ],
   "source": [
    "temp = v1\n",
    "v1 = v2\n",
    "v2 = temp\n",
    "\n",
    "v1, v2"
   ]
  },
  {
   "cell_type": "code",
   "execution_count": 56,
   "id": "f74036e8",
   "metadata": {},
   "outputs": [],
   "source": [
    "v1,v2 = v2,v1"
   ]
  },
  {
   "cell_type": "code",
   "execution_count": 58,
   "id": "cb7861ef",
   "metadata": {},
   "outputs": [
    {
     "data": {
      "text/plain": [
       "(20, 10)"
      ]
     },
     "execution_count": 58,
     "metadata": {},
     "output_type": "execute_result"
    }
   ],
   "source": [
    "v1,v2 = v2,v1\n",
    "v1,v2"
   ]
  },
  {
   "cell_type": "code",
   "execution_count": 62,
   "id": "c1590afa",
   "metadata": {},
   "outputs": [],
   "source": [
    "lst = [1,2,3,4,5]\n",
    "v1,*v2 = lst"
   ]
  },
  {
   "cell_type": "code",
   "execution_count": 3,
   "id": "f6fb87ce",
   "metadata": {},
   "outputs": [],
   "source": [
    "#(v1, v2) = (v2, v1)"
   ]
  },
  {
   "cell_type": "code",
   "execution_count": 7,
   "id": "6106c003",
   "metadata": {},
   "outputs": [
    {
     "name": "stdout",
     "output_type": "stream",
     "text": [
      "숫자를 넣으세요 >>test\n"
     ]
    }
   ],
   "source": [
    "i = input('숫자를 넣으세요 >>')"
   ]
  },
  {
   "cell_type": "code",
   "execution_count": 8,
   "id": "c50fc8d5",
   "metadata": {},
   "outputs": [
    {
     "data": {
      "text/plain": [
       "'test'"
      ]
     },
     "execution_count": 8,
     "metadata": {},
     "output_type": "execute_result"
    }
   ],
   "source": [
    "i"
   ]
  },
  {
   "cell_type": "code",
   "execution_count": 9,
   "id": "72cb4fc3",
   "metadata": {},
   "outputs": [
    {
     "data": {
      "text/plain": [
       "str"
      ]
     },
     "execution_count": 9,
     "metadata": {},
     "output_type": "execute_result"
    }
   ],
   "source": [
    "type(i)"
   ]
  },
  {
   "cell_type": "code",
   "execution_count": 10,
   "id": "de5371f4",
   "metadata": {},
   "outputs": [
    {
     "name": "stdout",
     "output_type": "stream",
     "text": [
      "숫자를 넣으세요51\n"
     ]
    },
    {
     "data": {
      "text/plain": [
       "(51, int)"
      ]
     },
     "execution_count": 10,
     "metadata": {},
     "output_type": "execute_result"
    }
   ],
   "source": [
    "i = int(input('숫자를 넣으세요'))\n",
    "i, type(i)"
   ]
  },
  {
   "cell_type": "code",
   "execution_count": 11,
   "id": "3a7865d7",
   "metadata": {},
   "outputs": [
    {
     "name": "stdout",
     "output_type": "stream",
     "text": [
      ">>124\n"
     ]
    }
   ],
   "source": [
    "num2 = float(input('>>'))"
   ]
  },
  {
   "cell_type": "code",
   "execution_count": 12,
   "id": "42ff47d6",
   "metadata": {},
   "outputs": [
    {
     "data": {
      "text/plain": [
       "124.0"
      ]
     },
     "execution_count": 12,
     "metadata": {},
     "output_type": "execute_result"
    }
   ],
   "source": [
    "num2"
   ]
  },
  {
   "cell_type": "code",
   "execution_count": 13,
   "id": "0b1e80b3",
   "metadata": {},
   "outputs": [
    {
     "name": "stdout",
     "output_type": "stream",
     "text": [
      "1 2 3\n"
     ]
    }
   ],
   "source": [
    "print(1,2,3)"
   ]
  },
  {
   "cell_type": "code",
   "execution_count": 14,
   "id": "422d3ee8",
   "metadata": {},
   "outputs": [
    {
     "name": "stdout",
     "output_type": "stream",
     "text": [
      "1|2|3\n",
      "1 2 3\n"
     ]
    }
   ],
   "source": [
    "print(1,2,3, sep='|')\n",
    "print(1,2,3)"
   ]
  },
  {
   "cell_type": "code",
   "execution_count": 17,
   "id": "b3a8a6ad",
   "metadata": {},
   "outputs": [
    {
     "name": "stdout",
     "output_type": "stream",
     "text": [
      "**\n"
     ]
    }
   ],
   "source": [
    "print('*', end ='')\n",
    "print('*')"
   ]
  },
  {
   "cell_type": "code",
   "execution_count": 18,
   "id": "9396d104",
   "metadata": {},
   "outputs": [
    {
     "name": "stdout",
     "output_type": "stream",
     "text": [
      "Help on built-in function print in module builtins:\n",
      "\n",
      "print(...)\n",
      "    print(value, ..., sep=' ', end='\\n', file=sys.stdout, flush=False)\n",
      "    \n",
      "    Prints the values to a stream, or to sys.stdout by default.\n",
      "    Optional keyword arguments:\n",
      "    file:  a file-like object (stream); defaults to the current sys.stdout.\n",
      "    sep:   string inserted between values, default a space.\n",
      "    end:   string appended after the last value, default a newline.\n",
      "    flush: whether to forcibly flush the stream.\n",
      "\n"
     ]
    }
   ],
   "source": [
    "help(print)"
   ]
  },
  {
   "cell_type": "code",
   "execution_count": 19,
   "id": "91ecada1",
   "metadata": {},
   "outputs": [
    {
     "name": "stdout",
     "output_type": "stream",
     "text": [
      "value =  10 20\n"
     ]
    }
   ],
   "source": [
    "print('value = ', 10,20)"
   ]
  },
  {
   "cell_type": "code",
   "execution_count": 20,
   "id": "eac05d93",
   "metadata": {},
   "outputs": [
    {
     "data": {
      "text/plain": [
       "'   3.142'"
      ]
     },
     "execution_count": 20,
     "metadata": {},
     "output_type": "execute_result"
    }
   ],
   "source": [
    "# 3가지 양식을 만드는 방법 + format()\n",
    "format(3.14159, '8.3f')"
   ]
  },
  {
   "cell_type": "code",
   "execution_count": 25,
   "id": "18d212f7",
   "metadata": {},
   "outputs": [
    {
     "ename": "ValueError",
     "evalue": "Format specifier missing precision",
     "output_type": "error",
     "traceback": [
      "\u001b[1;31m---------------------------------------------------------------------------\u001b[0m",
      "\u001b[1;31mValueError\u001b[0m                                Traceback (most recent call last)",
      "Input \u001b[1;32mIn [25]\u001b[0m, in \u001b[0;36m<cell line: 1>\u001b[1;34m()\u001b[0m\n\u001b[1;32m----> 1\u001b[0m \u001b[38;5;28mprint\u001b[39m(\u001b[38;5;28;43mformat\u001b[39;49m\u001b[43m(\u001b[49m\u001b[38;5;241;43m33800000\u001b[39;49m\u001b[43m,\u001b[49m\u001b[43m \u001b[49m\u001b[38;5;124;43m'\u001b[39;49m\u001b[38;5;124;43m3.d\u001b[39;49m\u001b[38;5;124;43m'\u001b[39;49m\u001b[43m)\u001b[49m)\n",
      "\u001b[1;31mValueError\u001b[0m: Format specifier missing precision"
     ]
    }
   ],
   "source": [
    "print(format(33800000000, '3.d'))"
   ]
  },
  {
   "cell_type": "code",
   "execution_count": 28,
   "id": "6b8316eb",
   "metadata": {},
   "outputs": [
    {
     "data": {
      "text/plain": [
       "'2*1=2'"
      ]
     },
     "execution_count": 28,
     "metadata": {},
     "output_type": "execute_result"
    }
   ],
   "source": [
    "dan = 2\n",
    "n = 1\n",
    "str(dan) + '*' + str(n) + '=' + str(dan*n)"
   ]
  },
  {
   "cell_type": "code",
   "execution_count": 38,
   "id": "148a9332",
   "metadata": {},
   "outputs": [
    {
     "name": "stdout",
     "output_type": "stream",
     "text": [
      "2*1=2\n",
      "2 *1 = 2\n",
      "2 *1 = 2\n",
      "2 *1 = 2\n"
     ]
    }
   ],
   "source": [
    "dan = 2\n",
    "n =1\n",
    "\n",
    "print(str(dan) + '*' + str(n) + '=' + str(dan*n))\n",
    "\n",
    "# %\n",
    "f1 = '%s *%s = %s'\n",
    "print(f1 % (dan, n, dan*n))\n",
    "\n",
    "# '{}'.format()\n",
    "f2 = '{0} *{1} = {2}'\n",
    "print(f2.format(dan,n,dan*n))\n",
    "\n",
    "# f'{v}'\n",
    "f3 = f'{dan} *{n} = {dan*n}'\n",
    "print(f3)"
   ]
  },
  {
   "cell_type": "code",
   "execution_count": 32,
   "id": "1950729f",
   "metadata": {},
   "outputs": [
    {
     "name": "stdout",
     "output_type": "stream",
     "text": [
      "10,12,a :\n"
     ]
    }
   ],
   "source": [
    "print('%d,%o,%x :' % (10, 10, 10))\n",
    "# 여러개 넣을 때는 가로"
   ]
  },
  {
   "cell_type": "code",
   "execution_count": 39,
   "id": "fa6ec24d",
   "metadata": {},
   "outputs": [
    {
     "name": "stdout",
     "output_type": "stream",
     "text": [
      "id input:lbh\n",
      "select * form member id = lbh\n"
     ]
    }
   ],
   "source": [
    "uid = input('id input:')\n",
    "query = f'select * form member id = {uid}'\n",
    "print(query)"
   ]
  },
  {
   "cell_type": "code",
   "execution_count": 40,
   "id": "50513464",
   "metadata": {},
   "outputs": [
    {
     "data": {
      "text/plain": [
       "('aaa', 'bbbb', 'cccc', 'dddd', '3333')"
      ]
     },
     "execution_count": 40,
     "metadata": {},
     "output_type": "execute_result"
    }
   ],
   "source": [
    "\"aaa\", 'bbbb', \"\"\"cccc\"\"\", '''dddd''',str(3333)"
   ]
  },
  {
   "cell_type": "code",
   "execution_count": 42,
   "id": "1026bb11",
   "metadata": {},
   "outputs": [],
   "source": [
    "s = '''선택하세요.\n",
    "1.select\n",
    "2.insert\n",
    "3.update\n",
    "'''"
   ]
  },
  {
   "cell_type": "code",
   "execution_count": 43,
   "id": "e80c2633",
   "metadata": {},
   "outputs": [
    {
     "data": {
      "text/plain": [
       "'선택하세요.\\n1.select\\n2.insert\\n3.update\\n'"
      ]
     },
     "execution_count": 43,
     "metadata": {},
     "output_type": "execute_result"
    }
   ],
   "source": [
    "s"
   ]
  },
  {
   "cell_type": "code",
   "execution_count": 44,
   "id": "0222b97f",
   "metadata": {},
   "outputs": [
    {
     "name": "stdout",
     "output_type": "stream",
     "text": [
      "선택하세요.\n",
      "1.select\n",
      "2.insert\n",
      "3.update\n",
      "\n"
     ]
    }
   ],
   "source": [
    "print(s)"
   ]
  },
  {
   "cell_type": "code",
   "execution_count": 46,
   "id": "86837b28",
   "metadata": {},
   "outputs": [],
   "source": [
    "string=\"python\""
   ]
  },
  {
   "cell_type": "code",
   "execution_count": 51,
   "id": "b54ba9c1",
   "metadata": {},
   "outputs": [
    {
     "data": {
      "text/plain": [
       "('p', 'y', 't', 'n', 'o')"
      ]
     },
     "execution_count": 51,
     "metadata": {},
     "output_type": "execute_result"
    }
   ],
   "source": [
    "string[0], string[1],string[2], string[-1], string [-2]"
   ]
  },
  {
   "cell_type": "code",
   "execution_count": 52,
   "id": "80d40c03",
   "metadata": {},
   "outputs": [],
   "source": [
    "# : [0:1]"
   ]
  },
  {
   "cell_type": "code",
   "execution_count": 54,
   "id": "b1ebe09e",
   "metadata": {},
   "outputs": [],
   "source": [
    "s= 'this is one line string'"
   ]
  },
  {
   "cell_type": "code",
   "execution_count": 55,
   "id": "052b822b",
   "metadata": {},
   "outputs": [
    {
     "name": "stdout",
     "output_type": "stream",
     "text": [
      "this is one line string\n"
     ]
    }
   ],
   "source": [
    "print(s)"
   ]
  },
  {
   "cell_type": "code",
   "execution_count": 58,
   "id": "38b76966",
   "metadata": {},
   "outputs": [
    {
     "data": {
      "text/plain": [
       "(3000875058160, 3000875058160)"
      ]
     },
     "execution_count": 58,
     "metadata": {},
     "output_type": "execute_result"
    }
   ],
   "source": [
    "s1 = s[:]\n",
    "s2 = s\n",
    "id(s1), id(s2)"
   ]
  },
  {
   "cell_type": "code",
   "execution_count": 59,
   "id": "24175d0c",
   "metadata": {},
   "outputs": [
    {
     "data": {
      "text/plain": [
       "True"
      ]
     },
     "execution_count": 59,
     "metadata": {},
     "output_type": "execute_result"
    }
   ],
   "source": [
    "s1 is s2"
   ]
  },
  {
   "cell_type": "code",
   "execution_count": 62,
   "id": "0b9025ab",
   "metadata": {},
   "outputs": [
    {
     "data": {
      "text/plain": [
       "(3000882614384, 3000875058160)"
      ]
     },
     "execution_count": 62,
     "metadata": {},
     "output_type": "execute_result"
    }
   ],
   "source": [
    "s1 = s[10:]\n",
    "s2 = s\n",
    "id(s1), id(s2)"
   ]
  },
  {
   "cell_type": "code",
   "execution_count": 64,
   "id": "539e8677",
   "metadata": {},
   "outputs": [
    {
     "name": "stdout",
     "output_type": "stream",
     "text": [
      "<class 'list'>\n"
     ]
    }
   ],
   "source": [
    "lst = [1,2,3]\n",
    "lst[0], lst[1],lst[2]\n",
    "lst[:2]\n",
    "lst1 = lst\n",
    "lst2 = lst[:]\n",
    "lst3 = lst.copy()\n",
    "lst1 is lst2\n",
    "\n",
    "print(type(lst))"
   ]
  },
  {
   "cell_type": "code",
   "execution_count": 69,
   "id": "857fb091",
   "metadata": {},
   "outputs": [
    {
     "data": {
      "text/plain": [
       "2"
      ]
     },
     "execution_count": 69,
     "metadata": {},
     "output_type": "execute_result"
    }
   ],
   "source": [
    "s.count('t')"
   ]
  },
  {
   "cell_type": "code",
   "execution_count": 72,
   "id": "3b893908",
   "metadata": {},
   "outputs": [
    {
     "data": {
      "text/plain": [
       "'that is one line string'"
      ]
     },
     "execution_count": 72,
     "metadata": {},
     "output_type": "execute_result"
    }
   ],
   "source": [
    "s.replace('this', 'that')"
   ]
  },
  {
   "cell_type": "code",
   "execution_count": 73,
   "id": "c3d81d5f",
   "metadata": {},
   "outputs": [],
   "source": [
    "s2 = s.replace('this', 'that')"
   ]
  },
  {
   "cell_type": "code",
   "execution_count": 75,
   "id": "fa69c81a",
   "metadata": {},
   "outputs": [
    {
     "data": {
      "text/plain": [
       "'this is one line string'"
      ]
     },
     "execution_count": 75,
     "metadata": {},
     "output_type": "execute_result"
    }
   ],
   "source": [
    "s"
   ]
  },
  {
   "cell_type": "code",
   "execution_count": 74,
   "id": "25c973cc",
   "metadata": {},
   "outputs": [
    {
     "data": {
      "text/plain": [
       "'that is one line string'"
      ]
     },
     "execution_count": 74,
     "metadata": {},
     "output_type": "execute_result"
    }
   ],
   "source": [
    "s2"
   ]
  },
  {
   "cell_type": "code",
   "execution_count": 84,
   "id": "2ecf0565",
   "metadata": {},
   "outputs": [
    {
     "data": {
      "text/plain": [
       "'this is\\nmulti line\\nstring'"
      ]
     },
     "execution_count": 84,
     "metadata": {},
     "output_type": "execute_result"
    }
   ],
   "source": [
    "lines = '''this is\n",
    "multi line\n",
    "string'''\n",
    "lines"
   ]
  },
  {
   "cell_type": "code",
   "execution_count": 85,
   "id": "fd012887",
   "metadata": {},
   "outputs": [
    {
     "data": {
      "text/plain": [
       "['this is', 'multi line', 'string']"
      ]
     },
     "execution_count": 85,
     "metadata": {},
     "output_type": "execute_result"
    }
   ],
   "source": [
    "lines.split('\\n')"
   ]
  },
  {
   "cell_type": "code",
   "execution_count": 86,
   "id": "595e6067",
   "metadata": {},
   "outputs": [
    {
     "name": "stdout",
     "output_type": "stream",
     "text": [
      "this is\n",
      "multi line\n",
      "string\n"
     ]
    }
   ],
   "source": [
    "for i in lines.split('\\n'):\n",
    "    print(i)"
   ]
  },
  {
   "cell_type": "code",
   "execution_count": 88,
   "id": "aac2263a",
   "metadata": {},
   "outputs": [
    {
     "name": "stdout",
     "output_type": "stream",
     "text": [
      "출력\n",
      ",\t\n"
     ]
    }
   ],
   "source": [
    "print('출력\\n,\\t')"
   ]
  },
  {
   "cell_type": "code",
   "execution_count": 89,
   "id": "472686a5",
   "metadata": {},
   "outputs": [
    {
     "name": "stdout",
     "output_type": "stream",
     "text": [
      "출력 \\n 입력\n",
      "path= c:\\python\test\n",
      "path= c:\\python\\test\n"
     ]
    }
   ],
   "source": [
    "print(r'출력 \\n 입력')\n",
    "print('path=', 'c:\\python\\test')\n",
    "print('path=', r'c:\\python\\test')"
   ]
  },
  {
   "cell_type": "code",
   "execution_count": null,
   "id": "fc004560",
   "metadata": {},
   "outputs": [],
   "source": [
    "#con = '''\n",
    "if 조건식'''"
   ]
  },
  {
   "cell_type": "code",
   "execution_count": 90,
   "id": "0ce9fd7b",
   "metadata": {},
   "outputs": [
    {
     "name": "stdout",
     "output_type": "stream",
     "text": [
      "나는 홍길동 입니다."
     ]
    }
   ],
   "source": [
    "string = \"나는 홍길동 입니다.\"\n",
    "for c in string :\n",
    "    print(c, end = '')\n",
    "    "
   ]
  }
 ],
 "metadata": {
  "kernelspec": {
   "display_name": "Python 3 (ipykernel)",
   "language": "python",
   "name": "python3"
  },
  "language_info": {
   "codemirror_mode": {
    "name": "ipython",
    "version": 3
   },
   "file_extension": ".py",
   "mimetype": "text/x-python",
   "name": "python",
   "nbconvert_exporter": "python",
   "pygments_lexer": "ipython3",
   "version": "3.8.13"
  }
 },
 "nbformat": 4,
 "nbformat_minor": 5
}
