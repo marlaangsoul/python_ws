{
 "cells": [
  {
   "cell_type": "code",
   "execution_count": 1,
   "id": "a7c047cb",
   "metadata": {},
   "outputs": [],
   "source": [
    "i = 1;"
   ]
  },
  {
   "cell_type": "code",
   "execution_count": 5,
   "id": "7d508b74",
   "metadata": {},
   "outputs": [
    {
     "name": "stdout",
     "output_type": "stream",
     "text": [
      "sign= -1\n"
     ]
    }
   ],
   "source": [
    "idx = tot = 0\n",
    "sign = -1\n",
    "print('sign=', i * sign)  # sign= -1"
   ]
  },
  {
   "cell_type": "code",
   "execution_count": 7,
   "id": "71a0e88b",
   "metadata": {},
   "outputs": [
    {
     "name": "stdout",
     "output_type": "stream",
     "text": [
      "sign= -1\n",
      "-1 -5 -9 -13 -17 -21 -25 -29 -33 -37 -41 -45 -49 -53 -57 -61 -65 -69 -73 -77 -81 -85 -89 -93 -97 \n",
      "tot = 50\n"
     ]
    }
   ],
   "source": [
    "i = 1;\n",
    "sign = -1\n",
    "print('sign=', i * sign)  # sign= -1\n",
    "\n",
    "idx = tot = 0  # 값 위치, 합\n",
    "loc = 1  # 수열 위치\n",
    "\n",
    "while idx < 100:\n",
    "    if idx % 2 != 0:  # 값 위치 홀수\n",
    "        if loc % 2 != 0:  # 수열 홀수 위치\n",
    "            tmp = idx * sign  # 부호 변경\n",
    "            print(tmp, end=' ')  # -1 -5 -9 -13 -17\n",
    "            tot += tmp  # 누적합\n",
    "        else:  # 수열 짝수 위치\n",
    "            tot += idx\n",
    "        loc += 1  # 수열 위치 변경(홀수값 내에서 위치)\n",
    "\n",
    "    idx += 1  # 값 위치 변경\n",
    "\n",
    "print('\\ntot = %d' % tot)  # tot = 50\n"
   ]
  },
  {
   "cell_type": "code",
   "execution_count": 8,
   "id": "b5b9d0a6",
   "metadata": {},
   "outputs": [
    {
     "name": "stdout",
     "output_type": "stream",
     "text": [
      "숫자 입력 : 589\n",
      "589\n",
      "숫자 입력 : 56\n",
      "56\n",
      "숫자 입력 : 56\n",
      "56\n",
      "숫자 입력 : 56\n",
      "56\n",
      "숫자 입력 : 56\n",
      "56\n",
      "숫자 입력 : 4\n",
      "4\n",
      "숫자 입력 : 6\n",
      "6\n",
      "숫자 입력 : 542\n",
      "542\n",
      "숫자 입력 : 10\n",
      "프로그램 종료\n",
      "[589, 56, 56, 56, 56, 4, 6, 542]\n"
     ]
    }
   ],
   "source": [
    "# 무한 loop : exit 조건식 포함\n",
    "numData = []\n",
    "\n",
    "while True :\n",
    "    num = int(input(\"숫자 입력 : \"))\n",
    "\n",
    "    if num % 10 == 0 : # exit 조건식\n",
    "        print(\"프로그램 종료\")\n",
    "        break\n",
    "    else :\n",
    "        print(num)\n",
    "        numData.append(num)\n",
    "\n",
    "print(numData)"
   ]
  },
  {
   "cell_type": "markdown",
   "id": "fd19a944",
   "metadata": {},
   "source": [
    "random module\n",
    "random 모듈은 컴퓨터에서 의해서 임의 난수를 발생시키는 함수들을 제공\n",
    "예를 들면 모집단으로 부터 임의 값을 추출하는 샘플링 작업이나 동전을 던져서 앞면이 나올 확률을 구하기 위해서 컴퓨터로 시뮬레이션하는 경우 필요"
   ]
  },
  {
   "cell_type": "code",
   "execution_count": 56,
   "id": "cb5cbd13",
   "metadata": {},
   "outputs": [
    {
     "name": "stdout",
     "output_type": "stream",
     "text": [
      "r= 0.528709344514967\n"
     ]
    }
   ],
   "source": [
    "#  random module 추가\n",
    "import random #\n",
    "\n",
    "# 0~1 사이 난수 실수\n",
    "random.seed()\n",
    "r = random.random()\n",
    "print('r=', r)  # r= 0.3940"
   ]
  },
  {
   "cell_type": "code",
   "execution_count": 57,
   "id": "f5a37054",
   "metadata": {},
   "outputs": [],
   "source": [
    "# [실습] 난수 0.01 미만이면 종료 후 난수 갯수 출력"
   ]
  },
  {
   "cell_type": "code",
   "execution_count": 65,
   "id": "3a9d185a",
   "metadata": {},
   "outputs": [
    {
     "name": "stdout",
     "output_type": "stream",
     "text": [
      "0.2808175564253461\n",
      "0.07912465148536829\n",
      "0.7101100451502026\n",
      "0.25659144799705524\n",
      "0.5816996579698385\n",
      "0.5015198469591065\n",
      "0.73665135256553\n",
      "0.27467986811789113\n",
      "0.860306856789227\n",
      "0.2663800210121102\n",
      "0.6619683100537597\n",
      "0.15624238910782795\n",
      "0.5250952002252852\n",
      "0.41453366012298887\n",
      "0.15083099980617698\n",
      "0.3728928474692661\n",
      "0.4558721253996971\n",
      "0.3349324933487592\n",
      "0.5596548515347443\n",
      "0.35156038727271954\n",
      "0.2728076306078364\n",
      "0.24353942476960055\n",
      "0.42528111073418684\n",
      "0.46829882458765293\n",
      "0.2354219183212205\n",
      "0.1576877200880914\n",
      "0.01 미만 난수 : 0.0040526600398702595\n",
      "난수 개수 =  25\n"
     ]
    }
   ],
   "source": [
    "cnt = 0\n",
    "while True:\n",
    "    r = random.random()\n",
    "    print(random.random())\n",
    "    if r < 0.01:\n",
    "        print(f'0.01 미만 난수 : {r}')\n",
    "        break\n",
    "    else:\n",
    "        cnt += 1\n",
    "print('난수 개수 = ', cnt)"
   ]
  },
  {
   "cell_type": "code",
   "execution_count": 81,
   "id": "321df744",
   "metadata": {},
   "outputs": [
    {
     "name": "stdout",
     "output_type": "stream",
     "text": [
      "['홍길동', '이순신', '유관순']\n",
      "유관순\n",
      "유관순 있음\n",
      "random.randint\n",
      "이순신\n"
     ]
    }
   ],
   "source": [
    "# 이름 list\n",
    "names = ['홍길동', '이순신', '유관순']\n",
    "print(names)  # 전체 이름, 특정 이름 출력\n",
    "print(names[2])\n",
    "\n",
    "if '유관순' in names:\n",
    "    print('유관순 있음')\n",
    "else:\n",
    "    print('유관순 없음')\n",
    "\n",
    "# 이름 선택 : 0~2 난수 정수\n",
    "print('random.randint')\n",
    "idx = random.randint(0, 2)\n",
    "print(names[idx])  # 이순신"
   ]
  },
  {
   "cell_type": "code",
   "execution_count": 90,
   "id": "48efd135",
   "metadata": {},
   "outputs": [
    {
     "name": "stdout",
     "output_type": "stream",
     "text": [
      "random.choices\n",
      "['홍길동', '홍길동']\n"
     ]
    }
   ],
   "source": [
    "print('random.choices')\n",
    "name = random.choices(names, k=2)\n",
    "print(name)  # ['이순신', '홍길동'] -> random 선택"
   ]
  }
 ],
 "metadata": {
  "kernelspec": {
   "display_name": "Python 3 (ipykernel)",
   "language": "python",
   "name": "python3"
  },
  "language_info": {
   "codemirror_mode": {
    "name": "ipython",
    "version": 3
   },
   "file_extension": ".py",
   "mimetype": "text/x-python",
   "name": "python",
   "nbconvert_exporter": "python",
   "pygments_lexer": "ipython3",
   "version": "3.8.13"
  }
 },
 "nbformat": 4,
 "nbformat_minor": 5
}
