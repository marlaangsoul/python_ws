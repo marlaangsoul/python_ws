{
 "cells": [
  {
   "cell_type": "code",
   "execution_count": null,
   "id": "cda12e7b",
   "metadata": {},
   "outputs": [],
   "source": [
    "num = int(input('1~100 >>>'))\n",
    "if num%2 ==0 :\n",
    "    print('짝수')\n",
    "else:\n",
    "    print('홀수')"
   ]
  },
  {
   "cell_type": "code",
   "execution_count": null,
   "id": "de555367",
   "metadata": {},
   "outputs": [],
   "source": [
    "import datetime\n",
    "today = datetime.datetime.now()\n",
    "print(type(today))"
   ]
  },
  {
   "cell_type": "code",
   "execution_count": null,
   "id": "20a900c5",
   "metadata": {},
   "outputs": [],
   "source": [
    "import datetime\n",
    "today = datetime.datetime.now()\n",
    "if today.weekday() >= 5: # 요일값 0 월 1 화 ~ 5토, 6일\n",
    "    print(\"주말\")\n",
    "else:\n",
    "    print('평일')"
   ]
  },
  {
   "cell_type": "code",
   "execution_count": null,
   "id": "b9650639",
   "metadata": {},
   "outputs": [],
   "source": [
    "grade = ''\n",
    "num = 90\n",
    "if num >= 90:\n",
    "    grade = 'a'\n",
    "elif num>=80:\n",
    "    grade = 'b'\n",
    "elif num>=70:\n",
    "    grade = 'c'\n",
    "elif num>=60:\n",
    "    grade = 'd'\n",
    "elif num>=50:\n",
    "    grade = 'e'\n",
    "else :\n",
    "    grade = 'f'\n",
    "\n",
    "print(f'num= {num}, garde={grade}')"
   ]
  },
  {
   "cell_type": "code",
   "execution_count": null,
   "id": "6bc69b4a",
   "metadata": {},
   "outputs": [],
   "source": [
    "# 삼항 연산자\n",
    "grade = \"합격\" if num >= 60 else \"불합격\"\n",
    "print('3항 연산자 :', grade)"
   ]
  },
  {
   "cell_type": "code",
   "execution_count": null,
   "id": "961c2ed4",
   "metadata": {},
   "outputs": [],
   "source": [
    "s = input('str >>')\n",
    "if 'hong' is s"
   ]
  },
  {
   "cell_type": "code",
   "execution_count": null,
   "id": "52d267d7",
   "metadata": {},
   "outputs": [],
   "source": [
    "grade = ''\n",
    "num = 96\n",
    "if num >= 90:\n",
    "    grade = 'a'\n",
    "    if num >95:\n",
    "        grade = 'a+'\n",
    "elif num>=80:\n",
    "    grade = 'b'\n",
    "elif num>=70:\n",
    "    grade = 'c'\n",
    "elif num>=60:\n",
    "    grade = 'd'\n",
    "elif num>=50:\n",
    "    grade = 'e'\n",
    "else :\n",
    "    grade = 'f'\n",
    "\n",
    "print(f'num= {num}, garde={grade}')"
   ]
  },
  {
   "cell_type": "code",
   "execution_count": null,
   "id": "e54ed196",
   "metadata": {},
   "outputs": [],
   "source": [
    "# while : 횟수가 정해지지 않았을 때\n",
    "# for, range() : 횟수가 정해 졌을때 \n",
    "# range가 파이썬에서는 중요하다."
   ]
  },
  {
   "cell_type": "code",
   "execution_count": null,
   "id": "1eb1bdde",
   "metadata": {},
   "outputs": [],
   "source": [
    "idx = tot = 0\n",
    "while idx < 5:\n",
    "    idx += 1\n",
    "    tot += idx\n",
    "    idx += 1\n",
    "print(idx, tot)"
   ]
  },
  {
   "cell_type": "markdown",
   "id": "7ec4b7b2",
   "metadata": {},
   "source": [
    "###  1 ~ 100까지 3의 배수 합"
   ]
  },
  {
   "cell_type": "code",
   "execution_count": null,
   "id": "132513be",
   "metadata": {},
   "outputs": [],
   "source": [
    "# numb = temp = summ = 0\n",
    "# while numb <= 100:\n",
    "#     if numb % 3 ==0:\n",
    "#         temp = numb\n",
    "#         summ += temp\n",
    "#     elif numb % 3 ==0: \n",
    "#         break\n",
    "#     else :\n",
    "#         numb == 100\n",
    "# print(summ)"
   ]
  },
  {
   "cell_type": "markdown",
   "id": "0c49b64f",
   "metadata": {},
   "source": [
    "### 1 ~ 100까지 3의 배수의 합"
   ]
  },
  {
   "cell_type": "code",
   "execution_count": null,
   "id": "a13a66d7",
   "metadata": {},
   "outputs": [],
   "source": [
    "#cnt = tot = 0\n",
    "# while cnt < 100:\n",
    "#     cnt =cnt +1\n",
    "#     if cnt % 3 == 0:\n",
    "#         tot = tot + cnt\n",
    "#         print(cnt, end = '')\n",
    "\n",
    "# tot"
   ]
  },
  {
   "cell_type": "code",
   "execution_count": null,
   "id": "03118ced",
   "metadata": {},
   "outputs": [],
   "source": [
    "cnt = tot = 0\n",
    "dataset=[]\n",
    "while cnt < 100:\n",
    "    cnt =cnt +1\n",
    "    if cnt % 3 == 0:\n",
    "        tot = tot + cnt\n",
    "        dataset.append(cnt)\n",
    "\n",
    "print(tot)\n",
    "print(dataset)"
   ]
  },
  {
   "cell_type": "code",
   "execution_count": null,
   "id": "02ffd19d",
   "metadata": {
    "scrolled": true
   },
   "outputs": [],
   "source": [
    "cnt = tot = 0\n",
    "dataset=[]\n",
    "while cnt < 100:\n",
    "    cnt =cnt +1\n",
    "    if cnt % 3 == 0:\n",
    "        tot = tot + cnt\n",
    "        dataset.append(cnt)\n",
    "\n",
    "print(tot)\n",
    "print(dataset, end = '')"
   ]
  },
  {
   "cell_type": "code",
   "execution_count": null,
   "id": "18f78f9d",
   "metadata": {},
   "outputs": [],
   "source": [
    "#1~100 사이에서 5의 배수이면서 (and) 3의 배수가 아닌 합의 계산하기"
   ]
  },
  {
   "cell_type": "code",
   "execution_count": null,
   "id": "e1842fdb",
   "metadata": {},
   "outputs": [],
   "source": [
    "-1, 3, -5, 7, -9 ~ 99 합을 구하시오."
   ]
  },
  {
   "cell_type": "code",
   "execution_count": null,
   "id": "2249b3d6",
   "metadata": {},
   "outputs": [],
   "source": [
    "tot = idx = loc = 0\n",
    "sign = -1\n",
    "while idx < 100:\n",
    "    idx += 1\n",
    "    if idx % 2 == 1:\n",
    "        if loc % 2 == 0:\n",
    "            tot += (idx*sign)\n",
    "            print(idx*sign, end = ' ')    \n",
    "        else:\n",
    "            tot += idx\n",
    "            print(idx, end = ' ')\n",
    "        loc += 1\n",
    "tot\n"
   ]
  },
  {
   "cell_type": "code",
   "execution_count": null,
   "id": "82457a06",
   "metadata": {},
   "outputs": [],
   "source": [
    "tot = idx = loc = 0\n",
    "sign = -1\n",
    "while idx < 100:\n",
    "    idx += 1\n",
    "    if idx % 2 == 1:\n",
    "        if loc % 2 == 0:\n",
    "            tot += (idx*sign)\n",
    "            print(idx*sign, end = ' ')    \n",
    "        else:\n",
    "            tot += idx\n",
    "            print(idx, end = ' ')\n",
    "        loc += 1\n",
    "tot"
   ]
  },
  {
   "cell_type": "code",
   "execution_count": null,
   "id": "b8f6cdc5",
   "metadata": {},
   "outputs": [],
   "source": []
  },
  {
   "cell_type": "code",
   "execution_count": null,
   "id": "5152238c",
   "metadata": {},
   "outputs": [],
   "source": [
    "num1 = range(10) # 0~4\n",
    "print('num1 : ', num1) # range(0, 10)"
   ]
  },
  {
   "cell_type": "code",
   "execution_count": null,
   "id": "423e8bd6",
   "metadata": {},
   "outputs": [],
   "source": [
    "names = ['hong', 'lee', 'u']\n",
    "print(names)\n",
    "print(names[1])\n",
    "print(names[random.randint(0.2)])"
   ]
  },
  {
   "cell_type": "code",
   "execution_count": null,
   "id": "67498189",
   "metadata": {},
   "outputs": [],
   "source": [
    "random.choies(names,k=2)"
   ]
  },
  {
   "cell_type": "code",
   "execution_count": 4,
   "id": "0eaf988f",
   "metadata": {},
   "outputs": [],
   "source": [
    "i = 0\n",
    "while i < 10:\n",
    "    i += 1\n",
    "    if i == 3:\n",
    "        continue # 자기 자신의 반복문으로 가는 것.\n",
    "        if i == 6:\n",
    "            break\n",
    "        print(i)"
   ]
  },
  {
   "cell_type": "code",
   "execution_count": null,
   "id": "cdeb7c29",
   "metadata": {},
   "outputs": [],
   "source": [
    "# com random 1 ~ 100\n",
    "# user 값 맞추기. \n"
   ]
  },
  {
   "cell_type": "code",
   "execution_count": null,
   "id": "5c8e04fa",
   "metadata": {},
   "outputs": [],
   "source": []
  }
 ],
 "metadata": {
  "kernelspec": {
   "display_name": "Python 3 (ipykernel)",
   "language": "python",
   "name": "python3"
  },
  "language_info": {
   "codemirror_mode": {
    "name": "ipython",
    "version": 3
   },
   "file_extension": ".py",
   "mimetype": "text/x-python",
   "name": "python",
   "nbconvert_exporter": "python",
   "pygments_lexer": "ipython3",
   "version": "3.8.13"
  }
 },
 "nbformat": 4,
 "nbformat_minor": 5
}
