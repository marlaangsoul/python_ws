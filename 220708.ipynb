{
 "cells": [
  {
   "cell_type": "markdown",
   "id": "ceb103db",
   "metadata": {},
   "source": [
    "## 파이썬 자료구조\n",
    "- 열거형 객체 : 하나의 메모리 영역에 여러 개의 자료가 나열된 집합 자료구조\n",
    "- 자료구조 : 열거형 객체가 메모리에 배정될 때 기억공간에 적재되는 구조\n",
    "- 순서가 있는 자료구조와 순서가 없는 자료구조로 구분\n",
    "### 순서 있는 자료구조 Sequence Data Structure\n",
    "- str, list, tuple 클래스\n",
    "#### str\n",
    "- 문자들의 모음\n",
    "- 일정한 순서를 갖는다.\n",
    "- 색인을 이용하여 원소를 참조할 수 있다."
   ]
  },
  {
   "cell_type": "code",
   "execution_count": 1,
   "id": "3e9d1bf5",
   "metadata": {},
   "outputs": [
    {
     "name": "stdout",
     "output_type": "stream",
     "text": [
      "string\n",
      "<class 'str'>\n",
      "s\n",
      "g\n"
     ]
    }
   ],
   "source": [
    "# str 클래스 형식\n",
    "str_var = str(object='string')\n",
    "print(str_var)\n",
    "print(type(str_var))\n",
    "print(str_var[0])\n",
    "print(str_var[-1])"
   ]
  },
  {
   "cell_type": "code",
   "execution_count": 2,
   "id": "88011bd8",
   "metadata": {},
   "outputs": [
    {
     "name": "stdout",
     "output_type": "stream",
     "text": [
      "string\n",
      "<class 'str'>\n",
      "s\n",
      "g\n"
     ]
    }
   ],
   "source": [
    "# str 클래스 간편 형식\n",
    "str_var2 = 'string'\n",
    "print(str_var2)\n",
    "print(type(str_var2))\n",
    "print(str_var2[0])\n",
    "print(str_var2[-1])"
   ]
  },
  {
   "cell_type": "markdown",
   "id": "7e3dccbb",
   "metadata": {},
   "source": [
    "list [ ] or list()\n",
    "- 1차원 배열 구조\n",
    "    - 형식) list변수 = [값1, 값2,..]\n",
    "- 다양한 자료형 저장 가능\n",
    "- index 사용(순서 있음)\n",
    "    - 형식) list변수[index]\n",
    "- 값 수정(추가,삽입,수정,삭제)\n"
   ]
  },
  {
   "cell_type": "markdown",
   "id": "64828699",
   "metadata": {},
   "source": [
    "단일 list"
   ]
  },
  {
   "cell_type": "code",
   "execution_count": 3,
   "id": "eb5f4dd0",
   "metadata": {
    "scrolled": true
   },
   "outputs": [
    {
     "name": "stdout",
     "output_type": "stream",
     "text": [
      "[1, 2, 3, 4, 5]\n",
      "<class 'list'>\n",
      "[1]\n",
      "[1, 2]\n",
      "[1, 2, 3]\n",
      "[1, 2, 3, 4]\n",
      "[1, 2, 3, 4, 5]\n"
     ]
    }
   ],
   "source": [
    "# 단일 list 예\n",
    "lst = [1,2,3,4,5]\n",
    "print(lst)\n",
    "print(type(lst))\n",
    "for i in lst :\n",
    "    print(lst[:i]) # i 전까지"
   ]
  },
  {
   "cell_type": "code",
   "execution_count": 4,
   "id": "9d0b92c3",
   "metadata": {},
   "outputs": [
    {
     "name": "stdout",
     "output_type": "stream",
     "text": [
      "[1, 2, 3, 4, 5]\n",
      "[2, 3, 4, 5]\n",
      "[3, 4, 5]\n",
      "[4, 5]\n",
      "[5]\n"
     ]
    }
   ],
   "source": [
    "for i in lst :\n",
    "    print(lst[i-1: ])"
   ]
  },
  {
   "cell_type": "code",
   "execution_count": 5,
   "id": "9c5a1533",
   "metadata": {},
   "outputs": [
    {
     "name": "stdout",
     "output_type": "stream",
     "text": [
      "[1, 2, 3, 4, 5, 6, 7, 8, 9, 10]\n",
      "[1, 2, 3, 4, 5]\n",
      "[6, 7, 8, 9, 10]\n"
     ]
    }
   ],
   "source": [
    "x = list(range(1, 11))\n",
    "print(x)\n",
    "print(x[:5]) # [1, 2, 3, 4, 5]\n",
    "print(x[-5:]) # [96, 97, 98, 99, 100]"
   ]
  },
  {
   "cell_type": "code",
   "execution_count": 9,
   "id": "c949ae55",
   "metadata": {},
   "outputs": [
    {
     "name": "stdout",
     "output_type": "stream",
     "text": [
      "index 2씩 증가 \n",
      "[1, 3, 5, 7, 9]\n",
      "[2, 4, 6, 8, 10]\n"
     ]
    }
   ],
   "source": [
    "print('index 2씩 증가 ')\n",
    "print(x[::2]) # 홀수 \n",
    "print(x[1::2]) # 짝수(index 1부터 시작) "
   ]
  },
  {
   "cell_type": "markdown",
   "id": "916fa77e",
   "metadata": {},
   "source": [
    "중첩 list 생성"
   ]
  },
  {
   "cell_type": "code",
   "execution_count": 10,
   "id": "6ca71a3f",
   "metadata": {},
   "outputs": [
    {
     "name": "stdout",
     "output_type": "stream",
     "text": [
      "10\n",
      "['a', 'b', 'c']\n",
      "a\n",
      "['b', 'c']\n"
     ]
    }
   ],
   "source": [
    "a = ['a', 'b', 'c']  # list 생성 \n",
    "b = [10, 20, a, 5, True, '문자열'] # 서로 다른 type 가능\n",
    "print(b[0]) # 10\n",
    "print(b[2]) # ['a', 'b', 'c'] -> 중첩 list \n",
    "print(b[2][0]) # a  -> 중첩 list 1번 원소 \n",
    "print(b[2][1:]) # ['b', 'c'] -> 중첩 list 2번 이후 원소 "
   ]
  },
  {
   "cell_type": "code",
   "execution_count": 11,
   "id": "9eae6d37",
   "metadata": {},
   "outputs": [
    {
     "name": "stdout",
     "output_type": "stream",
     "text": [
      "<class 'list'> <class 'list'>\n",
      "1602522780224 1602522767744\n"
     ]
    }
   ],
   "source": [
    "# 자료구조 확인\n",
    "print(type(a), type(b)) # <class 'list'>\n",
    "print(id(a), id(b)) # 40648584 40647432"
   ]
  },
  {
   "cell_type": "code",
   "execution_count": 12,
   "id": "73bbf12d",
   "metadata": {
    "scrolled": true
   },
   "outputs": [
    {
     "name": "stdout",
     "output_type": "stream",
     "text": [
      "['one', 'two', 'three', 'four']\n",
      "4\n",
      "['one', 'two', 'three', 'four', 'five']\n",
      "['one', 'two', 'three', 'four']\n",
      "['one', 'two', 'three', '4']\n"
     ]
    }
   ],
   "source": [
    "# 추가,삭제,수정,삽입\n",
    "num = ['one', 'two', 'three', 'four']\n",
    "\n",
    "print(num) # ['one', 'two', 'three', 'four']\n",
    "print(len(num)) # 4\n",
    "\n",
    "num.append('five') # 추가\n",
    "print(num) # ['one', 'two', 'three', 'four', 'five']\n",
    "\n",
    "num.remove('five') # 삭제 \n",
    "print(num)\n",
    "\n",
    "num[3] = '4' # 수정 \n",
    "print(num)"
   ]
  },
  {
   "cell_type": "markdown",
   "id": "07f7aca1",
   "metadata": {},
   "source": [
    "list 연산\n"
   ]
  },
  {
   "cell_type": "code",
   "execution_count": 13,
   "id": "f59e9e53",
   "metadata": {},
   "outputs": [
    {
     "name": "stdout",
     "output_type": "stream",
     "text": [
      "[1, 2, 3, 4, 1.5, 2.5]\n"
     ]
    }
   ],
   "source": [
    "# list 결합 \n",
    "x =  [1, 2, 3, 4]\n",
    "y = [1.5, 2.5]\n",
    "z = x + y  # new object\n",
    "print(z) # [1, 2, 3, 4, 1.5, 2.5]"
   ]
  },
  {
   "cell_type": "code",
   "execution_count": 14,
   "id": "e6c45a3e",
   "metadata": {},
   "outputs": [
    {
     "name": "stdout",
     "output_type": "stream",
     "text": [
      "['one', 'two', 'three', '4']\n"
     ]
    }
   ],
   "source": [
    "print(num)"
   ]
  },
  {
   "cell_type": "code",
   "execution_count": 15,
   "id": "8ddcf038",
   "metadata": {},
   "outputs": [],
   "source": [
    "num.append('five')"
   ]
  },
  {
   "cell_type": "code",
   "execution_count": 16,
   "id": "edc7d1f1",
   "metadata": {},
   "outputs": [
    {
     "name": "stdout",
     "output_type": "stream",
     "text": [
      "['one', 'two', 'three', '4', 'five']\n"
     ]
    }
   ],
   "source": [
    "print(num)"
   ]
  },
  {
   "cell_type": "code",
   "execution_count": 17,
   "id": "16996819",
   "metadata": {},
   "outputs": [
    {
     "name": "stdout",
     "output_type": "stream",
     "text": [
      "[1, 2, 3, 4, 1.5, 2.5]\n"
     ]
    }
   ],
   "source": [
    "# list 확장 \n",
    "x.extend(y)  # x 확장 \n",
    "print(x) # [1, 2, 3, 4, 1.5, 2.5]"
   ]
  },
  {
   "cell_type": "code",
   "execution_count": 18,
   "id": "a967778b",
   "metadata": {
    "scrolled": true
   },
   "outputs": [
    {
     "name": "stdout",
     "output_type": "stream",
     "text": [
      "[1, 2, 3, 4, 1.5, 2.5, [1.5, 2.5]]\n"
     ]
    }
   ],
   "source": [
    "# list 추가 \n",
    "x.append(y) # x 추가 \n",
    "print(x) # [1, 2, 3, 4, 1.5, 2.5, [1.5, 2.5]]"
   ]
  },
  {
   "cell_type": "code",
   "execution_count": 19,
   "id": "d8bac7b0",
   "metadata": {},
   "outputs": [
    {
     "name": "stdout",
     "output_type": "stream",
     "text": [
      "[1, 2, 3, 4, 1, 2, 3, 4]\n"
     ]
    }
   ],
   "source": [
    "# list 제곱  \n",
    "lst = [1, 2, 3, 4] # list 생성\n",
    "\n",
    "# lst 원소를 2개씩 생성하여 result 저장\n",
    "result = lst * 2 # 각 원소 연산 안됨 \n",
    "print(result) # [1, 2, 3, 4, 1, 2, 3, 4]"
   ]
  },
  {
   "cell_type": "code",
   "execution_count": 20,
   "id": "8bd4e72b",
   "metadata": {
    "scrolled": true
   },
   "outputs": [
    {
     "name": "stdout",
     "output_type": "stream",
     "text": [
      "1.5 * 2 =  3.0\n"
     ]
    }
   ],
   "source": [
    "# list 사칙연산 : 원소 대상 \n",
    "print('1.5 * 2 = ', y[0] * 2) # 1.5 * 2 =  3.0"
   ]
  },
  {
   "cell_type": "code",
   "execution_count": 21,
   "id": "b2ca5f7a",
   "metadata": {
    "scrolled": true
   },
   "outputs": [
    {
     "name": "stdout",
     "output_type": "stream",
     "text": [
      "[1, 2, 3, 4, 1, 2, 3, 4]\n",
      "[1, 1, 2, 2, 3, 3, 4, 4]\n",
      "[4, 4, 3, 3, 2, 2, 1, 1]\n"
     ]
    }
   ],
   "source": [
    "# list 정렬과 원소 찾기\n",
    "print(result) # [1, 2, 3, 4, 1, 2, 3, 4]\n",
    "\n",
    "result.sort() # 오름차순 정렬 \n",
    "print(result) #[1, 1, 2, 2, 3, 3, 4, 4]\n",
    "\n",
    "result.sort(reverse = True) # 내림차순 정렬 \n",
    "print(result) # [4, 4, 3, 3, 2, 2, 1, 1]"
   ]
  },
  {
   "cell_type": "code",
   "execution_count": 22,
   "id": "a134534f",
   "metadata": {},
   "outputs": [],
   "source": [
    "# list에서 원소 찾기\n",
    "tmp='''\n",
    "if '원소' in list : \n",
    "    참 실행문 : list에 '원소' 포함 \n",
    "else :\n",
    "    거짓 실행문 : 미 포함 \n",
    "'''\n"
   ]
  },
  {
   "cell_type": "code",
   "execution_count": 23,
   "id": "238b84e6",
   "metadata": {
    "scrolled": true
   },
   "outputs": [
    {
     "name": "stdout",
     "output_type": "stream",
     "text": [
      "[2, 5, 3, 4, 1]\n",
      "있음\n"
     ]
    }
   ],
   "source": [
    "import random\n",
    "\n",
    "r = []\n",
    "for i in range(5) :\n",
    "    r.append(random.randint(1,5))\n",
    "\n",
    "print(r)\n",
    "    \n",
    "if 4 in r :\n",
    "    print('있음')\n",
    "else :\n",
    "    print('없음')\n"
   ]
  },
  {
   "cell_type": "markdown",
   "id": "d2e9d562",
   "metadata": {},
   "source": [
    "### 리스트 내포\n",
    "- list에 for문 포함\n",
    "- 형식1) 변수 = [ 실행문 for ]\n",
    "    - 실행순서 : 1.for문 > 2.실행문 > 3.변수 저장\n",
    "- 형식2) 변수 = [ 실행문 for if ]\n",
    "    - 실행순서 : 1.for문 > 2.if > [3.실행문 > 4.변수 저장]\n"
   ]
  },
  {
   "cell_type": "code",
   "execution_count": 24,
   "id": "39c7b38c",
   "metadata": {},
   "outputs": [],
   "source": [
    "# x변량에 제곱 계산\n",
    "x = [2,4,1,5,7]\n",
    "# print(x ** 2) # error"
   ]
  },
  {
   "cell_type": "code",
   "execution_count": 25,
   "id": "41bacdc4",
   "metadata": {},
   "outputs": [
    {
     "name": "stdout",
     "output_type": "stream",
     "text": [
      "[4, 16, 1, 25, 49]\n"
     ]
    }
   ],
   "source": [
    "lst = [ i ** 2   for i in x ]\n",
    "print(lst) # [4, 16, 1, 25, 49]\n"
   ]
  },
  {
   "cell_type": "code",
   "execution_count": 27,
   "id": "a9381479",
   "metadata": {},
   "outputs": [
    {
     "ename": "TypeError",
     "evalue": "not all arguments converted during string formatting",
     "output_type": "error",
     "traceback": [
      "\u001b[1;31m---------------------------------------------------------------------------\u001b[0m",
      "\u001b[1;31mTypeError\u001b[0m                                 Traceback (most recent call last)",
      "Input \u001b[1;32mIn [27]\u001b[0m, in \u001b[0;36m<cell line: 2>\u001b[1;34m()\u001b[0m\n\u001b[0;32m      1\u001b[0m \u001b[38;5;66;03m# 1~10 -> 2의 배수 추출 -> i*2 -> list 저장\u001b[39;00m\n\u001b[1;32m----> 2\u001b[0m lst2 \u001b[38;5;241m=\u001b[39m [ i\u001b[38;5;241m*\u001b[39m\u001b[38;5;241m2\u001b[39m  \u001b[38;5;28;01mfor\u001b[39;00m i \u001b[38;5;129;01min\u001b[39;00m num  \u001b[38;5;28;01mif\u001b[39;00m i\u001b[38;5;241m%\u001b[39m\u001b[38;5;241m2\u001b[39m \u001b[38;5;241m==\u001b[39m \u001b[38;5;241m0\u001b[39m  ]\n\u001b[0;32m      3\u001b[0m \u001b[38;5;28mprint\u001b[39m(lst2)\n",
      "Input \u001b[1;32mIn [27]\u001b[0m, in \u001b[0;36m<listcomp>\u001b[1;34m(.0)\u001b[0m\n\u001b[0;32m      1\u001b[0m \u001b[38;5;66;03m# 1~10 -> 2의 배수 추출 -> i*2 -> list 저장\u001b[39;00m\n\u001b[1;32m----> 2\u001b[0m lst2 \u001b[38;5;241m=\u001b[39m [ i\u001b[38;5;241m*\u001b[39m\u001b[38;5;241m2\u001b[39m  \u001b[38;5;28;01mfor\u001b[39;00m i \u001b[38;5;129;01min\u001b[39;00m num  \u001b[38;5;28;01mif\u001b[39;00m \u001b[43mi\u001b[49m\u001b[38;5;241;43m%\u001b[39;49m\u001b[38;5;241;43m2\u001b[39;49m \u001b[38;5;241m==\u001b[39m \u001b[38;5;241m0\u001b[39m  ]\n\u001b[0;32m      3\u001b[0m \u001b[38;5;28mprint\u001b[39m(lst2)\n",
      "\u001b[1;31mTypeError\u001b[0m: not all arguments converted during string formatting"
     ]
    }
   ],
   "source": [
    "# 1~10 -> 2의 배수 추출 -> i*2 -> list 저장\n",
    "lst2 = [ i*2  for i in num  if i%2 == 0  ]\n",
    "print(lst2)"
   ]
  }
 ],
 "metadata": {
  "kernelspec": {
   "display_name": "Python 3 (ipykernel)",
   "language": "python",
   "name": "python3"
  },
  "language_info": {
   "codemirror_mode": {
    "name": "ipython",
    "version": 3
   },
   "file_extension": ".py",
   "mimetype": "text/x-python",
   "name": "python",
   "nbconvert_exporter": "python",
   "pygments_lexer": "ipython3",
   "version": "3.8.13"
  }
 },
 "nbformat": 4,
 "nbformat_minor": 5
}
