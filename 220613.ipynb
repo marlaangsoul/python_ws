{
 "cells": [
  {
   "cell_type": "markdown",
   "id": "72277f17",
   "metadata": {},
   "source": [
    "https://book.naver.com/search/search.nhn\n",
    "?\n",
    "sm=sta_hty.book\n",
    "&sug=\n",
    "&where=nexearch\n",
    "&query=%ED%8C%8C%EC%9D%B4%EC%8D%AC\n",
    "\n",
    "\n",
    "\n",
    "\n",
    "user-agent: Mozilla/5.0 (iPhone; CPU iPhone OS 13_2_3 like Mac OS X) AppleWebKit/605.1.15 (KHTML, like Gecko) Version/13.0.3 Mobile/15E148 Safari/604.1"
   ]
  },
  {
   "cell_type": "markdown",
   "id": "1963e8ad",
   "metadata": {},
   "source": [
    "CSS 선택자 사용하기\n",
    "select_one(선택자) : 요소 하나 추출\n",
    "select(선택자) : 요소 리스트로 추출"
   ]
  },
  {
   "cell_type": "code",
   "execution_count": 9,
   "id": "fcac7cd3",
   "metadata": {},
   "outputs": [],
   "source": [
    "import urllib.request\n",
    "import urllib.parse"
   ]
  },
  {
   "cell_type": "code",
   "execution_count": 8,
   "id": "8d4c0ee0",
   "metadata": {},
   "outputs": [],
   "source": [
    "import requests"
   ]
  },
  {
   "cell_type": "code",
   "execution_count": 10,
   "id": "975b74e2",
   "metadata": {
    "scrolled": false
   },
   "outputs": [
    {
     "name": "stdout",
     "output_type": "stream",
     "text": [
      "https://book.naver.com/search/search.nhn?sm=sta_hty.book&sug=&where=enxearch&query=%ED%8C%8C%EC%9D%B4%EC%8D%AC\n"
     ]
    }
   ],
   "source": [
    "url = 'https://book.naver.com/search/search.nhn'\n",
    "values = {\n",
    "    'sm':'sta_hty.book','sug':''\n",
    "    , 'where':'enxearch','query':'파이썬'}\n",
    "params = urllib.parse.urlencode(values)\n",
    "header_info = {'user-agent': 'Mozilla/5.0 (Linux; Android 6.0; Nexus 5 Build/MRA58N) AppleWebKit/537.36 (KHTML, like Gecko) Chrome/77.0.3865.90 Mobile Safari/537.36'} \n",
    "response = requests.get(url, headers=header_info, params=params)\n",
    "url = url + '?' + params\n",
    "print(url)"
   ]
  },
  {
   "cell_type": "code",
   "execution_count": 11,
   "id": "45310731",
   "metadata": {},
   "outputs": [],
   "source": [
    "#get\n",
    "response_get = requests.get(url,params=params)\n",
    "#post\n",
    "response_post = requests.get(url,data=params)"
   ]
  },
  {
   "cell_type": "code",
   "execution_count": 16,
   "id": "34939a40",
   "metadata": {},
   "outputs": [
    {
     "name": "stdout",
     "output_type": "stream",
     "text": [
      "200\n"
     ]
    }
   ],
   "source": [
    "status_code = response.status_code\n",
    "print(status_code)\n",
    "if response.status_code == 200:\n",
    "    mtext = response.text"
   ]
  },
  {
   "cell_type": "code",
   "execution_count": 17,
   "id": "6e252bf7",
   "metadata": {},
   "outputs": [],
   "source": [
    "from bs4 import BeautifulSoup"
   ]
  },
  {
   "cell_type": "code",
   "execution_count": 20,
   "id": "ed3e633b",
   "metadata": {},
   "outputs": [],
   "source": [
    "msoup = BeautifulSoup(mtext,'html.parser')"
   ]
  },
  {
   "cell_type": "code",
   "execution_count": 21,
   "id": "fa39e385",
   "metadata": {},
   "outputs": [
    {
     "ename": "NameError",
     "evalue": "name 'div_book_group' is not defined",
     "output_type": "error",
     "traceback": [
      "\u001b[1;31m---------------------------------------------------------------------------\u001b[0m",
      "\u001b[1;31mNameError\u001b[0m                                 Traceback (most recent call last)",
      "Input \u001b[1;32mIn [21]\u001b[0m, in \u001b[0;36m<cell line: 3>\u001b[1;34m()\u001b[0m\n\u001b[0;32m      1\u001b[0m div_book_info \u001b[38;5;241m=\u001b[39m msoup\u001b[38;5;241m.\u001b[39mselect_one(\u001b[38;5;124m'\u001b[39m\u001b[38;5;124mdiv.book_info\u001b[39m\u001b[38;5;124m'\u001b[39m)\n\u001b[0;32m      2\u001b[0m \u001b[38;5;66;03m#print(div_book_info)\u001b[39;00m\n\u001b[1;32m----> 3\u001b[0m auther \u001b[38;5;241m=\u001b[39m \u001b[43mdiv_book_group\u001b[49m\u001b[38;5;241m.\u001b[39mselect_one(\u001b[38;5;124m'\u001b[39m\u001b[38;5;124mdiv.info_box > span.info\u001b[39m\u001b[38;5;124m'\u001b[39m)\n",
      "\u001b[1;31mNameError\u001b[0m: name 'div_book_group' is not defined"
     ]
    }
   ],
   "source": [
    "div_book_info = msoup.select_one('div.book_info')\n",
    "#print(div_book_info)\n",
    "auther = div_book_group.select_one('div.info_box > span.info')\n",
    "#auther.text"
   ]
  },
  {
   "cell_type": "code",
   "execution_count": 22,
   "id": "4b487ec0",
   "metadata": {},
   "outputs": [
    {
     "name": "stdout",
     "output_type": "stream",
     "text": [
      "16\n"
     ]
    }
   ],
   "source": [
    "# 책 리스트 추출(크롬에서 모바일 페이지 선택자 확인)\n",
    "div_book_info_list = msoup.select('div.api_subject_bx')\n",
    "print(len(div_book_info_list))\n"
   ]
  },
  {
   "cell_type": "code",
   "execution_count": 25,
   "id": "d80d5219",
   "metadata": {},
   "outputs": [],
   "source": [
    "import re\n",
    "href_data = msoup.find_all(href=re.compile(r'^http://'))\n",
    "# for i in href_data:\n",
    "#     print(i.attrs['href'])\n"
   ]
  },
  {
   "cell_type": "code",
   "execution_count": 29,
   "id": "472901fd",
   "metadata": {},
   "outputs": [],
   "source": [
    "msoup.select_one('_tab_book_wrap')"
   ]
  },
  {
   "cell_type": "code",
   "execution_count": 30,
   "id": "49bd5dea",
   "metadata": {},
   "outputs": [
    {
     "data": {
      "text/plain": [
       "bs4.element.Tag"
      ]
     },
     "execution_count": 30,
     "metadata": {},
     "output_type": "execute_result"
    }
   ],
   "source": [
    "type(msoup.select_one('title'))"
   ]
  },
  {
   "cell_type": "markdown",
   "id": "05f78bd4",
   "metadata": {},
   "source": [
    "msoup.select_one('title').get_text()"
   ]
  },
  {
   "cell_type": "code",
   "execution_count": 37,
   "id": "283d4fa6",
   "metadata": {},
   "outputs": [
    {
     "name": "stdout",
     "output_type": "stream",
     "text": [
      "<div id=\"_tab_book_wrap\"><section class=\"sc sp_nbook _bookListWrapper _prs_bok _sap_list\"><div class=\"api_subject_bx\"> <div class=\"book_group\"> <a class=\"book_thumb _lp_load\" href=\"#\" lp-api=\"?_lp_type=cm&amp;col_prs=csa&amp;format=text&amp;nqx_theme=%7B+%22theme%22%3A%7B%22main%22%3A%7B%22name%22%3A%22book_info%22%2C%22os%22%3A21982844%2C%22pkid%22%3A20000%7D%7D+%7D&amp;ptype=chi&amp;query=%ED%8C%8C%EC%9D%B4%EC%8D%AC&amp;sm=igr_brg&amp;tab=info&amp;tab_prs=csa&amp;where=bridge\" onclick=\"return tCR('a=bok.img&amp;r=1&amp;i=98000001_0000000000000000014F6E7C');\"> <img alt=\"만들면서 배우는 파이썬과 40개의 작품들\" onerror=\"on_noimage_book(this, 87, 123, 'bg_nimg2');\" src=\"https://search.pstatic.net/common/?src=https%3A%2F%2Fbookthumb-phinf.pstatic.net%2Fcover%2F219%2F828%2F21982844.jpg%3Ftype%3Dw150%26udate%3D20220503&amp;type=m174_246&amp;refresh=true&amp;expire=3\" width=\"87\"/> <span class=\"sticker_best\">베스트<br>셀러</br></span> </a> <div class=\"book_info\"> <a class=\"title_area _ellipsis _lp_load\" href=\"#\" lp-api=\"?_lp_type=cm&amp;col_prs=csa&amp;format=text&amp;nqx_theme=%7B+%22theme%22%3A%7B%22main%22%3A%7B%22name%22%3A%22book_info%22%2C%22os%22%3A21982844%2C%22pkid%22%3A20000%7D%7D+%7D&amp;ptype=chi&amp;query=%ED%8C%8C%EC%9D%B4%EC%8D%AC&amp;sm=igr_brg&amp;tab=info&amp;tab_prs=csa&amp;where=bridge\" onclick=\"return tCR('a=bok.tit&amp;r=1&amp;i=98000001_0000000000000000014F6E7C');\"> <strong class=\"title _text\">만들면서 배우는 파이썬과 40개의 작품들 (자동화, 크롤링, 이미지처리, 데이터분석, 웹페이지, GUI 프로그램, 게임)</strong> </a> <div class=\"list_info\"> <div class=\"item\"> <em class=\"item_title\">저자</em> <div class=\"item_info type_writer\"> <div class=\"info_box\"><span class=\"info\"><span>장문철</span></span></div> </div> </div> <div class=\"item\"> <em class=\"item_title\">출판</em> <div class=\"item_info elss\"> <span class=\"info\">앤써북</span> <time class=\"info\" datetime=\"yyyy-mm-dd\">2022.02.28.</time> </div> </div> <div class=\"item\"> <em class=\"item_title\">리뷰</em> <a class=\"item_info elss _lp_load\" href=\"#\" lp-api=\"?_lp_type=cm&amp;col_prs=rvw&amp;format=text&amp;nqx_theme=%7B+%22theme%22%3A%7B%22main%22%3A%7B%22name%22%3A%22book_info%22%2C%22os%22%3A21982844%2C%22pkid%22%3A20000%7D%7D+%7D&amp;ptype=chi&amp;q_material=book_21982844&amp;query=%ED%8C%8C%EC%9D%B4%EC%8D%AC&amp;sm=igr_brg&amp;tab=review&amp;tab_prs=csa&amp;where=bridge\" onclick=\"return tCR('a=bok.review&amp;r=1&amp;i=98000001_0000000000000000014F6E7C');\"> 11건 </a> </div> <div class=\"item\"> <em class=\"item_title\">도서</em> <a class=\"item_info elss _lp_load\" href=\"#\" lp-api=\"?_lp_type=cm&amp;col_prs=csa&amp;format=text&amp;nqx_theme=%7B+%22theme%22%3A%7B%22main%22%3A%7B%22name%22%3A%22book_info%22%2C%22os%22%3A21982844%2C%22pkid%22%3A20000%7D%7D+%7D&amp;ptype=chi&amp;query=%ED%8C%8C%EC%9D%B4%EC%8D%AC&amp;sm=igr_brg&amp;tab=purchase&amp;tab_prs=csa&amp;where=bridge\" lp-scroll=\"._tab_root\" onclick=\"return tCR('a=bok.buyb&amp;r=1&amp;i=98000001_0000000000000000014F6E7C');\"> <div class=\"price_box\"> <span class=\"base\"><strong>16,920</strong>원</span> </div> <span class=\"store spbk_af\">판매처 <span class=\"num\">7</span>건</span> </a> </div> </div> </div> </div> </div><div class=\"api_subject_bx\"> <div class=\"book_group\"> <a class=\"book_thumb _lp_load\" href=\"#\" lp-api=\"?_lp_type=cm&amp;col_prs=csa&amp;format=text&amp;nqx_theme=%7B+%22theme%22%3A%7B%22main%22%3A%7B%22name%22%3A%22book_info%22%2C%22os%22%3A22449999%2C%22pkid%22%3A20000%7D%7D+%7D&amp;ptype=chi&amp;query=%ED%8C%8C%EC%9D%B4%EC%8D%AC&amp;sm=igr_brg&amp;tab=info&amp;tab_prs=csa&amp;where=bridge\" onclick=\"return tCR('a=bok.img&amp;r=2&amp;i=98000001_000000000000000001568F4F');\"> <img alt=\"Do it! 점프 투 파이썬\" onerror=\"on_noimage_book(this, 87, 123, 'bg_nimg2');\" src=\"https://search.pstatic.net/common/?src=https%3A%2F%2Fbookthumb-phinf.pstatic.net%2Fcover%2F224%2F499%2F22449999.jpg%3Ftype%3Dw150%26udate%3D20220531&amp;type=m174_246&amp;refresh=true&amp;expire=3\" width=\"87\"/> <span class=\"sticker_best\">베스트<br>셀러</br></span> </a> <div class=\"book_info\"> <a class=\"title_area _ellipsis _lp_load\" href=\"#\" lp-api=\"?_lp_type=cm&amp;col_prs=csa&amp;format=text&amp;nqx_theme=%7B+%22theme%22%3A%7B%22main%22%3A%7B%22name%22%3A%22book_info%22%2C%22os%22%3A22449999%2C%22pkid%22%3A20000%7D%7D+%7D&amp;ptype=chi&amp;query=%ED%8C%8C%EC%9D%B4%EC%8D%AC&amp;sm=igr_brg&amp;tab=info&amp;tab_prs=csa&amp;where=bridge\" onclick=\"return tCR('a=bok.tit&amp;r=2&amp;i=98000001_000000000000000001568F4F');\"> <strong class=\"title _text\">Do it! 점프 투 파이썬 (실무에 쓰는 라이브러리는 이 책에 다 있다!,라이브러리 예제 편)</strong> </a> <div class=\"list_info\"> <div class=\"item\"> <em class=\"item_title\">저자</em> <div class=\"item_info type_writer\"> <div class=\"info_box\"><span class=\"info\"><span>박응용</span></span></div> </div> </div> <div class=\"item\"> <em class=\"item_title\">출판</em> <div class=\"item_info elss\"> <span class=\"info\">이지스퍼블리싱</span> <time class=\"info\" datetime=\"yyyy-mm-dd\">2022.05.25.</time> </div> </div> <div class=\"item\"> <em class=\"item_title\">도서</em> <a class=\"item_info elss _lp_load\" href=\"#\" lp-api=\"?_lp_type=cm&amp;col_prs=csa&amp;format=text&amp;nqx_theme=%7B+%22theme%22%3A%7B%22main%22%3A%7B%22name%22%3A%22book_info%22%2C%22os%22%3A22449999%2C%22pkid%22%3A20000%7D%7D+%7D&amp;ptype=chi&amp;query=%ED%8C%8C%EC%9D%B4%EC%8D%AC&amp;sm=igr_brg&amp;tab=purchase&amp;tab_prs=csa&amp;where=bridge\" lp-scroll=\"._tab_root\" onclick=\"return tCR('a=bok.buyb&amp;r=2&amp;i=98000001_000000000000000001568F4F');\"> <div class=\"price_box\"> <span class=\"base\"><strong>23,400</strong>원</span> </div> <span class=\"store spbk_af\">판매처 <span class=\"num\">7</span>건</span> </a> </div> <div class=\"item\"> <em class=\"item_title\">e북</em> <a class=\"item_info elss _lp_load\" href=\"#\" lp-api=\"?_lp_type=cm&amp;col_prs=csa&amp;format=text&amp;nqx_theme=%7B+%22theme%22%3A%7B%22main%22%3A%7B%22name%22%3A%22book_info%22%2C%22os%22%3A22449999%2C%22pkid%22%3A20000%7D%7D+%7D&amp;ptype=chi&amp;query=%ED%8C%8C%EC%9D%B4%EC%8D%AC&amp;sm=igr_brg&amp;tab=purchase&amp;tab_prs=csa&amp;where=bridge&amp;x_csa=eBook\" lp-scroll=\"._tab_root\" onclick=\"return tCR('a=bok.buyeb&amp;r=2&amp;i=98000001_000000000000000001568F4F');\"> <div class=\"price_box\"> <span class=\"base\"><strong>16,200</strong>원</span> </div> <span class=\"store spbk_af\">판매처 <span class=\"num\">4</span>건</span> </a> </div> </div> </div> </div> </div><div class=\"api_subject_bx\"> <div class=\"book_group\"> <a class=\"book_thumb _lp_load\" href=\"#\" lp-api=\"?_lp_type=cm&amp;col_prs=csa&amp;format=text&amp;nqx_theme=%7B+%22theme%22%3A%7B%22main%22%3A%7B%22name%22%3A%22book_info%22%2C%22os%22%3A22425526%2C%22pkid%22%3A20000%7D%7D+%7D&amp;ptype=chi&amp;query=%ED%8C%8C%EC%9D%B4%EC%8D%AC&amp;sm=igr_brg&amp;tab=info&amp;tab_prs=csa&amp;where=bridge\" onclick=\"return tCR('a=bok.img&amp;r=3&amp;i=98000001_000000000000000001562FB6');\"> <img alt=\"일잘러의 비밀, 엑셀 대신 파이썬으로 업무 자동화하기\" onerror=\"on_noimage_book(this, 87, 123, 'bg_nimg2');\" src=\"https://search.pstatic.net/common/?src=https%3A%2F%2Fbookthumb-phinf.pstatic.net%2Fcover%2F224%2F255%2F22425526.jpg%3Ftype%3Dw150%26udate%3D20220608&amp;type=m174_246&amp;refresh=true&amp;expire=3\" width=\"87\"/> <span class=\"sticker_best\">베스트<br>셀러</br></span> </a> <div class=\"book_info\"> <a class=\"title_area _ellipsis _lp_load\" href=\"#\" lp-api=\"?_lp_type=cm&amp;col_prs=csa&amp;format=text&amp;nqx_theme=%7B+%22theme%22%3A%7B%22main%22%3A%7B%22name%22%3A%22book_info%22%2C%22os%22%3A22425526%2C%22pkid%22%3A20000%7D%7D+%7D&amp;ptype=chi&amp;query=%ED%8C%8C%EC%9D%B4%EC%8D%AC&amp;sm=igr_brg&amp;tab=info&amp;tab_prs=csa&amp;where=bridge\" onclick=\"return tCR('a=bok.tit&amp;r=3&amp;i=98000001_000000000000000001562FB6');\"> <strong class=\"title _text\">일잘러의 비밀, 엑셀 대신 파이썬으로 업무 자동화하기 (엑셀 반복 업무로 지친 직장인, 파이썬으로 칼퇴하자)</strong> </a> <div class=\"list_info\"> <div class=\"item\"> <em class=\"item_title\">저자</em> <div class=\"item_info type_writer\"> <div class=\"info_box\"><span class=\"info\"><span>포스코인재창조원</span></span></div> </div> </div> <div class=\"item\"> <em class=\"item_title\">출판</em> <div class=\"item_info elss\"> <span class=\"info\">한빛미디어</span> <time class=\"info\" datetime=\"yyyy-mm-dd\">2022.04.25.</time> </div> </div> <div class=\"item\"> <em class=\"item_title\">리뷰</em> <a class=\"item_info elss _lp_load\" href=\"#\" lp-api=\"?_lp_type=cm&amp;col_prs=rvw&amp;format=text&amp;nqx_theme=%7B+%22theme%22%3A%7B%22main%22%3A%7B%22name%22%3A%22book_info%22%2C%22os%22%3A22425526%2C%22pkid%22%3A20000%7D%7D+%7D&amp;ptype=chi&amp;q_material=book_22425526&amp;query=%ED%8C%8C%EC%9D%B4%EC%8D%AC&amp;sm=igr_brg&amp;tab=review&amp;tab_prs=csa&amp;where=bridge\" onclick=\"return tCR('a=bok.review&amp;r=3&amp;i=98000001_000000000000000001562FB6');\"> 18건 </a> </div> <div class=\"item\"> <em class=\"item_title\">도서</em> <a class=\"item_info elss _lp_load\" href=\"#\" lp-api=\"?_lp_type=cm&amp;col_prs=csa&amp;format=text&amp;nqx_theme=%7B+%22theme%22%3A%7B%22main%22%3A%7B%22name%22%3A%22book_info%22%2C%22os%22%3A22425526%2C%22pkid%22%3A20000%7D%7D+%7D&amp;ptype=chi&amp;query=%ED%8C%8C%EC%9D%B4%EC%8D%AC&amp;sm=igr_brg&amp;tab=purchase&amp;tab_prs=csa&amp;where=bridge\" lp-scroll=\"._tab_root\" onclick=\"return tCR('a=bok.buyb&amp;r=3&amp;i=98000001_000000000000000001562FB6');\"> <div class=\"price_box\"> <span class=\"base\"><strong>21,600</strong>원</span> </div> <span class=\"store spbk_af\">판매처 <span class=\"num\">7</span>건</span> </a> </div> <div class=\"item\"> <em class=\"item_title\">e북</em> <a class=\"item_info elss _lp_load\" href=\"#\" lp-api=\"?_lp_type=cm&amp;col_prs=csa&amp;format=text&amp;nqx_theme=%7B+%22theme%22%3A%7B%22main%22%3A%7B%22name%22%3A%22book_info%22%2C%22os%22%3A22425526%2C%22pkid%22%3A20000%7D%7D+%7D&amp;ptype=chi&amp;query=%ED%8C%8C%EC%9D%B4%EC%8D%AC&amp;sm=igr_brg&amp;tab=purchase&amp;tab_prs=csa&amp;where=bridge&amp;x_csa=eBook\" lp-scroll=\"._tab_root\" onclick=\"return tCR('a=bok.buyeb&amp;r=3&amp;i=98000001_000000000000000001562FB6');\"> <div class=\"price_box\"> <span class=\"base\"><strong>17,280</strong>원</span> </div> <span class=\"store spbk_af\">판매처 <span class=\"num\">4</span>건</span> </a> </div> </div> </div> </div> </div><div class=\"api_subject_bx\"> <div class=\"book_group\"> <a class=\"book_thumb _lp_load\" href=\"#\" lp-api=\"?_lp_type=cm&amp;col_prs=csa&amp;format=text&amp;nqx_theme=%7B+%22theme%22%3A%7B%22main%22%3A%7B%22name%22%3A%22book_info%22%2C%22os%22%3A15052904%2C%22pkid%22%3A20000%7D%7D+%7D&amp;ptype=chi&amp;query=%ED%8C%8C%EC%9D%B4%EC%8D%AC&amp;sm=igr_brg&amp;tab=info&amp;tab_prs=csa&amp;where=bridge\" onclick=\"return tCR('a=bok.img&amp;r=4&amp;i=98000001_000000000000000000E5B068');\"> <img alt=\"Do it! 점프 투 파이썬\" onerror=\"on_noimage_book(this, 87, 123, 'bg_nimg2');\" src=\"https://search.pstatic.net/common/?src=https%3A%2F%2Fbookthumb-phinf.pstatic.net%2Fcover%2F150%2F529%2F15052904.jpg%3Ftype%3Dw150%26udate%3D20220507&amp;type=m174_246&amp;refresh=true&amp;expire=3\" width=\"87\"/> <span class=\"sticker_best\">베스트<br>셀러</br></span> </a> <div class=\"book_info\"> <a class=\"title_area _ellipsis _lp_load\" href=\"#\" lp-api=\"?_lp_type=cm&amp;col_prs=csa&amp;format=text&amp;nqx_theme=%7B+%22theme%22%3A%7B%22main%22%3A%7B%22name%22%3A%22book_info%22%2C%22os%22%3A15052904%2C%22pkid%22%3A20000%7D%7D+%7D&amp;ptype=chi&amp;query=%ED%8C%8C%EC%9D%B4%EC%8D%AC&amp;sm=igr_brg&amp;tab=info&amp;tab_prs=csa&amp;where=bridge\" onclick=\"return tCR('a=bok.tit&amp;r=4&amp;i=98000001_000000000000000000E5B068');\"> <strong class=\"title _text\">Do it! 점프 투 파이썬</strong> </a> <div class=\"list_info\"> <div class=\"item\"> <em class=\"item_title\">저자</em> <div class=\"item_info type_writer\"> <div class=\"info_box\"><span class=\"info\"><span>박응용</span></span></div> </div> </div> <div class=\"item\"> <em class=\"item_title\">출판</em> <div class=\"item_info elss\"> <span class=\"info\">이지스퍼블리싱</span> <time class=\"info\" datetime=\"yyyy-mm-dd\">2019.06.20.</time> </div> </div> <div class=\"item\"> <em class=\"item_title\">리뷰</em> <a class=\"item_info elss _lp_load\" href=\"#\" lp-api=\"?_lp_type=cm&amp;col_prs=rvw&amp;format=text&amp;nqx_theme=%7B+%22theme%22%3A%7B%22main%22%3A%7B%22name%22%3A%22book_info%22%2C%22os%22%3A15052904%2C%22pkid%22%3A20000%7D%7D+%7D&amp;ptype=chi&amp;q_material=book_15052904&amp;query=%ED%8C%8C%EC%9D%B4%EC%8D%AC&amp;sm=igr_brg&amp;tab=review&amp;tab_prs=csa&amp;where=bridge\" onclick=\"return tCR('a=bok.review&amp;r=4&amp;i=98000001_000000000000000000E5B068');\"> 64건 </a> </div> <div class=\"item\"> <em class=\"item_title\">도서</em> <a class=\"item_info elss _lp_load\" href=\"#\" lp-api=\"?_lp_type=cm&amp;col_prs=csa&amp;format=text&amp;nqx_theme=%7B+%22theme%22%3A%7B%22main%22%3A%7B%22name%22%3A%22book_info%22%2C%22os%22%3A15052904%2C%22pkid%22%3A20000%7D%7D+%7D&amp;ptype=chi&amp;query=%ED%8C%8C%EC%9D%B4%EC%8D%AC&amp;sm=igr_brg&amp;tab=purchase&amp;tab_prs=csa&amp;where=bridge\" lp-scroll=\"._tab_root\" onclick=\"return tCR('a=bok.buyb&amp;r=4&amp;i=98000001_000000000000000000E5B068');\"> <div class=\"price_box\"> <span class=\"base\"><strong>16,920</strong>원</span> </div> <span class=\"store spbk_af\">판매처 <span class=\"num\">7</span>건</span> </a> </div> <div class=\"item\"> <em class=\"item_title\">e북</em> <a class=\"item_info elss _lp_load\" href=\"#\" lp-api=\"?_lp_type=cm&amp;col_prs=csa&amp;format=text&amp;nqx_theme=%7B+%22theme%22%3A%7B%22main%22%3A%7B%22name%22%3A%22book_info%22%2C%22os%22%3A15052904%2C%22pkid%22%3A20000%7D%7D+%7D&amp;ptype=chi&amp;query=%ED%8C%8C%EC%9D%B4%EC%8D%AC&amp;sm=igr_brg&amp;tab=purchase&amp;tab_prs=csa&amp;where=bridge&amp;x_csa=eBook\" lp-scroll=\"._tab_root\" onclick=\"return tCR('a=bok.buyeb&amp;r=4&amp;i=98000001_000000000000000000E5B068');\"> <div class=\"price_box\"> <span class=\"base\"><strong>11,700</strong>원</span> </div> <span class=\"store spbk_af\">판매처 <span class=\"num\">4</span>건</span> </a> </div> </div> </div> </div> </div><div class=\"api_subject_bx\"> <div class=\"book_group\"> <a class=\"book_thumb _lp_load\" href=\"#\" lp-api=\"?_lp_type=cm&amp;col_prs=csa&amp;format=text&amp;nqx_theme=%7B+%22theme%22%3A%7B%22main%22%3A%7B%22name%22%3A%22book_info%22%2C%22os%22%3A16439154%2C%22pkid%22%3A20000%7D%7D+%7D&amp;ptype=chi&amp;query=%ED%8C%8C%EC%9D%B4%EC%8D%AC&amp;sm=igr_brg&amp;tab=info&amp;tab_prs=csa&amp;where=bridge\" onclick=\"return tCR('a=bok.img&amp;r=5&amp;i=98000001_000000000000000000FAD772');\"> <img alt=\"이것이 취업을 위한 코딩 테스트다 with 파이썬\" onerror=\"on_noimage_book(this, 87, 123, 'bg_nimg2');\" src=\"https://search.pstatic.net/common/?src=https%3A%2F%2Fbookthumb-phinf.pstatic.net%2Fcover%2F164%2F391%2F16439154.jpg%3Ftype%3Dw150%26udate%3D20200928&amp;type=m174_246&amp;refresh=true&amp;expire=3\" width=\"87\"/> <span class=\"sticker_best\">베스트<br/>셀러</span> </a> <div class=\"book_info\"> <a class=\"title_area _ellipsis _lp_load\" href=\"#\" lp-api=\"?_lp_type=cm&amp;col_prs=csa&amp;format=text&amp;nqx_theme=%7B+%22theme%22%3A%7B%22main%22%3A%7B%22name%22%3A%22book_info%22%2C%22os%22%3A16439154%2C%22pkid%22%3A20000%7D%7D+%7D&amp;ptype=chi&amp;query=%ED%8C%8C%EC%9D%B4%EC%8D%AC&amp;sm=igr_brg&amp;tab=info&amp;tab_prs=csa&amp;where=bridge\" onclick=\"return tCR('a=bok.tit&amp;r=5&amp;i=98000001_000000000000000000FAD772');\"> <strong class=\"title _text\">이것이 취업을 위한 코딩 테스트다 with 파이썬 (취업과 이직을 결정하는 알고리즘 인터뷰 완벽 가이드)</strong> </a> <div class=\"list_info\"> <div class=\"item\"> <em class=\"item_title\">저자</em> <div class=\"item_info type_writer\"> <div class=\"info_box\"><span class=\"info\"><span>나동빈</span></span></div> </div> </div> <div class=\"item\"> <em class=\"item_title\">출판</em> <div class=\"item_info elss\"> <span class=\"info\">한빛미디어</span> <time class=\"info\" datetime=\"yyyy-mm-dd\">2020.08.05.</time> </div> </div> <div class=\"item\"> <em class=\"item_title\">리뷰</em> <a class=\"item_info elss _lp_load\" href=\"#\" lp-api=\"?_lp_type=cm&amp;col_prs=rvw&amp;format=text&amp;nqx_theme=%7B+%22theme%22%3A%7B%22main%22%3A%7B%22name%22%3A%22book_info%22%2C%22os%22%3A16439154%2C%22pkid%22%3A20000%7D%7D+%7D&amp;ptype=chi&amp;q_material=book_16439154&amp;query=%ED%8C%8C%EC%9D%B4%EC%8D%AC&amp;sm=igr_brg&amp;tab=review&amp;tab_prs=csa&amp;where=bridge\" onclick=\"return tCR('a=bok.review&amp;r=5&amp;i=98000001_000000000000000000FAD772');\"> 29건 </a> </div> <div class=\"item\"> <em class=\"item_title\">도서</em> <a class=\"item_info elss _lp_load\" href=\"#\" lp-api=\"?_lp_type=cm&amp;col_prs=csa&amp;format=text&amp;nqx_theme=%7B+%22theme%22%3A%7B%22main%22%3A%7B%22name%22%3A%22book_info%22%2C%22os%22%3A16439154%2C%22pkid%22%3A20000%7D%7D+%7D&amp;ptype=chi&amp;query=%ED%8C%8C%EC%9D%B4%EC%8D%AC&amp;sm=igr_brg&amp;tab=purchase&amp;tab_prs=csa&amp;where=bridge\" lp-scroll=\"._tab_root\" onclick=\"return tCR('a=bok.buyb&amp;r=5&amp;i=98000001_000000000000000000FAD772');\"> <div class=\"price_box\"> <span class=\"base\"><strong>30,600</strong>원</span> </div> <span class=\"store spbk_af\">판매처 <span class=\"num\">7</span>건</span> </a> </div> <div class=\"item\"> <em class=\"item_title\">e북</em> <a class=\"item_info elss _lp_load\" href=\"#\" lp-api=\"?_lp_type=cm&amp;col_prs=csa&amp;format=text&amp;nqx_theme=%7B+%22theme%22%3A%7B%22main%22%3A%7B%22name%22%3A%22book_info%22%2C%22os%22%3A16439154%2C%22pkid%22%3A20000%7D%7D+%7D&amp;ptype=chi&amp;query=%ED%8C%8C%EC%9D%B4%EC%8D%AC&amp;sm=igr_brg&amp;tab=purchase&amp;tab_prs=csa&amp;where=bridge&amp;x_csa=eBook\" lp-scroll=\"._tab_root\" onclick=\"return tCR('a=bok.buyeb&amp;r=5&amp;i=98000001_000000000000000000FAD772');\"> <div class=\"price_box\"> <span class=\"base\"><strong>24,480</strong>원</span> </div> <span class=\"store spbk_af\">판매처 <span class=\"num\">4</span>건</span> </a> </div> </div> </div> </div> </div><div class=\"api_subject_bx\"> <div class=\"book_group\"> <a class=\"book_thumb _lp_load\" href=\"#\" lp-api=\"?_lp_type=cm&amp;col_prs=csa&amp;format=text&amp;nqx_theme=%7B+%22theme%22%3A%7B%22main%22%3A%7B%22name%22%3A%22book_info%22%2C%22os%22%3A22423722%2C%22pkid%22%3A20000%7D%7D+%7D&amp;ptype=chi&amp;query=%ED%8C%8C%EC%9D%B4%EC%8D%AC&amp;sm=igr_brg&amp;tab=info&amp;tab_prs=csa&amp;where=bridge\" onclick=\"return tCR('a=bok.img&amp;r=6&amp;i=98000001_0000000000000000015628AA');\"> <img alt=\"Do it! 쉽게 배우는 파이썬 데이터 분석\" onerror=\"on_noimage_book(this, 87, 123, 'bg_nimg2');\" src=\"https://search.pstatic.net/common/?src=https%3A%2F%2Fbookthumb-phinf.pstatic.net%2Fcover%2F224%2F237%2F22423722.jpg%3Ftype%3Dw150%26udate%3D20220601&amp;type=m174_246&amp;refresh=true&amp;expire=3\" width=\"87\"/> <span class=\"sticker_best\">베스트<br/>셀러</span> </a> <div class=\"book_info\"> <a class=\"title_area _ellipsis _lp_load\" href=\"#\" lp-api=\"?_lp_type=cm&amp;col_prs=csa&amp;format=text&amp;nqx_theme=%7B+%22theme%22%3A%7B%22main%22%3A%7B%22name%22%3A%22book_info%22%2C%22os%22%3A22423722%2C%22pkid%22%3A20000%7D%7D+%7D&amp;ptype=chi&amp;query=%ED%8C%8C%EC%9D%B4%EC%8D%AC&amp;sm=igr_brg&amp;tab=info&amp;tab_prs=csa&amp;where=bridge\" onclick=\"return tCR('a=bok.tit&amp;r=6&amp;i=98000001_0000000000000000015628AA');\"> <strong class=\"title _text\">Do it! 쉽게 배우는 파이썬 데이터 분석 (데이터 분석 프로젝트 전 과정 수록!)</strong> </a> <div class=\"list_info\"> <div class=\"item\"> <em class=\"item_title\">저자</em> <div class=\"item_info type_writer\"> <div class=\"info_box\"><span class=\"info\"><span>김영우</span></span></div> </div> </div> <div class=\"item\"> <em class=\"item_title\">출판</em> <div class=\"item_info elss\"> <span class=\"info\">이지스퍼블리싱</span> <time class=\"info\" datetime=\"yyyy-mm-dd\">2022.05.31.</time> </div> </div> <div class=\"item\"> <em class=\"item_title\">리뷰</em> <a class=\"item_info elss _lp_load\" href=\"#\" lp-api=\"?_lp_type=cm&amp;col_prs=rvw&amp;format=text&amp;nqx_theme=%7B+%22theme%22%3A%7B%22main%22%3A%7B%22name%22%3A%22book_info%22%2C%22os%22%3A22423722%2C%22pkid%22%3A20000%7D%7D+%7D&amp;ptype=chi&amp;q_material=book_22423722&amp;query=%ED%8C%8C%EC%9D%B4%EC%8D%AC&amp;sm=igr_brg&amp;tab=review&amp;tab_prs=csa&amp;where=bridge\" onclick=\"return tCR('a=bok.review&amp;r=6&amp;i=98000001_0000000000000000015628AA');\"> 1건 </a> </div> <div class=\"item\"> <em class=\"item_title\">도서</em> <a class=\"item_info elss _lp_load\" href=\"#\" lp-api=\"?_lp_type=cm&amp;col_prs=csa&amp;format=text&amp;nqx_theme=%7B+%22theme%22%3A%7B%22main%22%3A%7B%22name%22%3A%22book_info%22%2C%22os%22%3A22423722%2C%22pkid%22%3A20000%7D%7D+%7D&amp;ptype=chi&amp;query=%ED%8C%8C%EC%9D%B4%EC%8D%AC&amp;sm=igr_brg&amp;tab=purchase&amp;tab_prs=csa&amp;where=bridge\" lp-scroll=\"._tab_root\" onclick=\"return tCR('a=bok.buyb&amp;r=6&amp;i=98000001_0000000000000000015628AA');\"> <div class=\"price_box\"> <span class=\"base\"><strong>20,700</strong>원</span> </div> <span class=\"store spbk_af\">판매처 <span class=\"num\">7</span>건</span> </a> </div> <div class=\"item\"> <em class=\"item_title\">e북</em> <a class=\"item_info elss _lp_load\" href=\"#\" lp-api=\"?_lp_type=cm&amp;col_prs=csa&amp;format=text&amp;nqx_theme=%7B+%22theme%22%3A%7B%22main%22%3A%7B%22name%22%3A%22book_info%22%2C%22os%22%3A22423722%2C%22pkid%22%3A20000%7D%7D+%7D&amp;ptype=chi&amp;query=%ED%8C%8C%EC%9D%B4%EC%8D%AC&amp;sm=igr_brg&amp;tab=purchase&amp;tab_prs=csa&amp;where=bridge&amp;x_csa=eBook\" lp-scroll=\"._tab_root\" onclick=\"return tCR('a=bok.buyeb&amp;r=6&amp;i=98000001_0000000000000000015628AA');\"> <div class=\"price_box\"> <span class=\"base\"><strong>14,400</strong>원</span> </div> <span class=\"store spbk_af\">판매처 <span class=\"num\">3</span>건</span> </a> </div> </div> </div> </div> </div><div class=\"api_subject_bx\"> <div class=\"book_group\"> <a class=\"book_thumb _lp_load\" href=\"#\" lp-api=\"?_lp_type=cm&amp;col_prs=csa&amp;format=text&amp;nqx_theme=%7B+%22theme%22%3A%7B%22main%22%3A%7B%22name%22%3A%22book_info%22%2C%22os%22%3A22479436%2C%22pkid%22%3A20000%7D%7D+%7D&amp;ptype=chi&amp;query=%ED%8C%8C%EC%9D%B4%EC%8D%AC&amp;sm=igr_brg&amp;tab=info&amp;tab_prs=csa&amp;where=bridge\" onclick=\"return tCR('a=bok.img&amp;r=7&amp;i=98000001_00000000000000000157024C');\"> <img alt=\"혼자 공부하는 파이썬\" onerror=\"on_noimage_book(this, 87, 123, 'bg_nimg2');\" src=\"https://search.pstatic.net/common/?src=https%3A%2F%2Fbookthumb-phinf.pstatic.net%2Fcover%2F224%2F794%2F22479436.jpg%3Ftype%3Dw150%26udate%3D20220607&amp;type=m174_246&amp;refresh=true&amp;expire=3\" width=\"87\"/> <span class=\"sticker_best\">베스트<br/>셀러</span> </a> <div class=\"book_info\"> <a class=\"title_area _ellipsis _lp_load\" href=\"#\" lp-api=\"?_lp_type=cm&amp;col_prs=csa&amp;format=text&amp;nqx_theme=%7B+%22theme%22%3A%7B%22main%22%3A%7B%22name%22%3A%22book_info%22%2C%22os%22%3A22479436%2C%22pkid%22%3A20000%7D%7D+%7D&amp;ptype=chi&amp;query=%ED%8C%8C%EC%9D%B4%EC%8D%AC&amp;sm=igr_brg&amp;tab=info&amp;tab_prs=csa&amp;where=bridge\" onclick=\"return tCR('a=bok.tit&amp;r=7&amp;i=98000001_00000000000000000157024C');\"> <strong class=\"title _text\">혼자 공부하는 파이썬 (1:1 과외하듯 배우는 프로그래밍 자습서, 개정판)</strong> </a> <div class=\"list_info\"> <div class=\"item\"> <em class=\"item_title\">저자</em> <div class=\"item_info type_writer\"> <div class=\"info_box\"><span class=\"info\"><span>윤인성</span></span></div> </div> </div> <div class=\"item\"> <em class=\"item_title\">출판</em> <div class=\"item_info elss\"> <span class=\"info\">한빛미디어</span> <time class=\"info\" datetime=\"yyyy-mm-dd\">2022.06.01.</time> </div> </div> <div class=\"item\"> <em class=\"item_title\">도서</em> <a class=\"item_info elss _lp_load\" href=\"#\" lp-api=\"?_lp_type=cm&amp;col_prs=csa&amp;format=text&amp;nqx_theme=%7B+%22theme%22%3A%7B%22main%22%3A%7B%22name%22%3A%22book_info%22%2C%22os%22%3A22479436%2C%22pkid%22%3A20000%7D%7D+%7D&amp;ptype=chi&amp;query=%ED%8C%8C%EC%9D%B4%EC%8D%AC&amp;sm=igr_brg&amp;tab=purchase&amp;tab_prs=csa&amp;where=bridge\" lp-scroll=\"._tab_root\" onclick=\"return tCR('a=bok.buyb&amp;r=7&amp;i=98000001_00000000000000000157024C');\"> <div class=\"price_box\"> <span class=\"base\"><strong>19,800</strong>원</span> </div> <span class=\"store spbk_af\">판매처 <span class=\"num\">7</span>건</span> </a> </div> <div class=\"item\"> <em class=\"item_title\">e북</em> <a class=\"item_info elss _lp_load\" href=\"#\" lp-api=\"?_lp_type=cm&amp;col_prs=csa&amp;format=text&amp;nqx_theme=%7B+%22theme%22%3A%7B%22main%22%3A%7B%22name%22%3A%22book_info%22%2C%22os%22%3A22479436%2C%22pkid%22%3A20000%7D%7D+%7D&amp;ptype=chi&amp;query=%ED%8C%8C%EC%9D%B4%EC%8D%AC&amp;sm=igr_brg&amp;tab=purchase&amp;tab_prs=csa&amp;where=bridge&amp;x_csa=eBook\" lp-scroll=\"._tab_root\" onclick=\"return tCR('a=bok.buyeb&amp;r=7&amp;i=98000001_00000000000000000157024C');\"> <div class=\"price_box\"> <span class=\"base\"><strong>15,840</strong>원</span> </div> <span class=\"store spbk_af\">판매처 <span class=\"num\">3</span>건</span> </a> </div> </div> </div> </div> </div><div class=\"api_subject_bx\"> <div class=\"book_group\"> <a class=\"book_thumb _lp_load\" href=\"#\" lp-api=\"?_lp_type=cm&amp;col_prs=csa&amp;format=text&amp;nqx_theme=%7B+%22theme%22%3A%7B%22main%22%3A%7B%22name%22%3A%22book_info%22%2C%22os%22%3A16406247%2C%22pkid%22%3A20000%7D%7D+%7D&amp;ptype=chi&amp;query=%ED%8C%8C%EC%9D%B4%EC%8D%AC&amp;sm=igr_brg&amp;tab=info&amp;tab_prs=csa&amp;where=bridge\" onclick=\"return tCR('a=bok.img&amp;r=8&amp;i=98000001_000000000000000000FA56E7');\"> <img alt=\"파이썬 알고리즘 인터뷰\" onerror=\"on_noimage_book(this, 87, 123, 'bg_nimg2');\" src=\"https://search.pstatic.net/common/?src=https%3A%2F%2Fbookthumb-phinf.pstatic.net%2Fcover%2F164%2F062%2F16406247.jpg%3Ftype%3Dw150%26udate%3D20220323&amp;type=m174_246&amp;refresh=true&amp;expire=3\" width=\"87\"/> <span class=\"sticker_best\">베스트<br/>셀러</span> </a> <div class=\"book_info\"> <a class=\"title_area _ellipsis _lp_load\" href=\"#\" lp-api=\"?_lp_type=cm&amp;col_prs=csa&amp;format=text&amp;nqx_theme=%7B+%22theme%22%3A%7B%22main%22%3A%7B%22name%22%3A%22book_info%22%2C%22os%22%3A16406247%2C%22pkid%22%3A20000%7D%7D+%7D&amp;ptype=chi&amp;query=%ED%8C%8C%EC%9D%B4%EC%8D%AC&amp;sm=igr_brg&amp;tab=info&amp;tab_prs=csa&amp;where=bridge\" onclick=\"return tCR('a=bok.tit&amp;r=8&amp;i=98000001_000000000000000000FA56E7');\"> <strong class=\"title _text\">파이썬 알고리즘 인터뷰 (95가지 알고리즘 문제 풀이로 완성하는 코딩 테스트)</strong> </a> <div class=\"list_info\"> <div class=\"item\"> <em class=\"item_title\">글</em> <div class=\"item_info type_writer\"> <div class=\"info_box\"><span class=\"info\"><span>박상길</span></span></div> </div> </div> <div class=\"item\"> <em class=\"item_title\">그림</em> <div class=\"item_info type_writer\"> <div class=\"info_box\"><span class=\"info\"><span>정진호</span></span></div> </div> </div> <div class=\"item\"> <em class=\"item_title\">출판</em> <div class=\"item_info elss\"> <span class=\"info\">책만</span> <time class=\"info\" datetime=\"yyyy-mm-dd\">2020.07.15.</time> </div> </div> <div class=\"item\"> <em class=\"item_title\">리뷰</em> <a class=\"item_info elss _lp_load\" href=\"#\" lp-api=\"?_lp_type=cm&amp;col_prs=rvw&amp;format=text&amp;nqx_theme=%7B+%22theme%22%3A%7B%22main%22%3A%7B%22name%22%3A%22book_info%22%2C%22os%22%3A16406247%2C%22pkid%22%3A20000%7D%7D+%7D&amp;ptype=chi&amp;q_material=book_16406247&amp;query=%ED%8C%8C%EC%9D%B4%EC%8D%AC&amp;sm=igr_brg&amp;tab=review&amp;tab_prs=csa&amp;where=bridge\" onclick=\"return tCR('a=bok.review&amp;r=8&amp;i=98000001_000000000000000000FA56E7');\"> 14건 </a> </div> <div class=\"item\"> <em class=\"item_title\">도서</em> <a class=\"item_info elss _lp_load\" href=\"#\" lp-api=\"?_lp_type=cm&amp;col_prs=csa&amp;format=text&amp;nqx_theme=%7B+%22theme%22%3A%7B%22main%22%3A%7B%22name%22%3A%22book_info%22%2C%22os%22%3A16406247%2C%22pkid%22%3A20000%7D%7D+%7D&amp;ptype=chi&amp;query=%ED%8C%8C%EC%9D%B4%EC%8D%AC&amp;sm=igr_brg&amp;tab=purchase&amp;tab_prs=csa&amp;where=bridge\" lp-scroll=\"._tab_root\" onclick=\"return tCR('a=bok.buyb&amp;r=8&amp;i=98000001_000000000000000000FA56E7');\"> <div class=\"price_box\"> <span class=\"base\"><strong>34,200</strong>원</span> </div> <span class=\"store spbk_af\">판매처 <span class=\"num\">7</span>건</span> </a> </div> <div class=\"item\"> <em class=\"item_title\">e북</em> <a class=\"item_info elss _lp_load\" href=\"#\" lp-api=\"?_lp_type=cm&amp;col_prs=csa&amp;format=text&amp;nqx_theme=%7B+%22theme%22%3A%7B%22main%22%3A%7B%22name%22%3A%22book_info%22%2C%22os%22%3A16406247%2C%22pkid%22%3A20000%7D%7D+%7D&amp;ptype=chi&amp;query=%ED%8C%8C%EC%9D%B4%EC%8D%AC&amp;sm=igr_brg&amp;tab=purchase&amp;tab_prs=csa&amp;where=bridge&amp;x_csa=eBook\" lp-scroll=\"._tab_root\" onclick=\"return tCR('a=bok.buyeb&amp;r=8&amp;i=98000001_000000000000000000FA56E7');\"> <div class=\"price_box\"> <span class=\"base\"><strong>27,360</strong>원</span> </div> <span class=\"store spbk_af\">판매처 <span class=\"num\">4</span>건</span> </a> </div> </div> </div> </div> </div><div class=\"api_subject_bx\"> <div class=\"book_group\"> <a class=\"book_thumb _lp_load\" href=\"#\" lp-api=\"?_lp_type=cm&amp;col_prs=csa&amp;format=text&amp;nqx_theme=%7B+%22theme%22%3A%7B%22main%22%3A%7B%22name%22%3A%22book_info%22%2C%22os%22%3A22478805%2C%22pkid%22%3A20000%7D%7D+%7D&amp;ptype=chi&amp;query=%ED%8C%8C%EC%9D%B4%EC%8D%AC&amp;sm=igr_brg&amp;tab=info&amp;tab_prs=csa&amp;where=bridge\" onclick=\"return tCR('a=bok.img&amp;r=9&amp;i=98000001_00000000000000000156FFD5');\"> <img alt=\"파이썬 텍스트 코딩 워크북\" onerror=\"on_noimage_book(this, 87, 123, 'bg_nimg2');\" src=\"https://search.pstatic.net/common/?src=https%3A%2F%2Fbookthumb-phinf.pstatic.net%2Fcover%2F224%2F788%2F22478805.jpg%3Ftype%3Dw150%26udate%3D20220527&amp;type=m174_246&amp;refresh=true&amp;expire=3\" width=\"87\"/> </a> <div class=\"book_info\"> <a class=\"title_area _ellipsis _lp_load\" href=\"#\" lp-api=\"?_lp_type=cm&amp;col_prs=csa&amp;format=text&amp;nqx_theme=%7B+%22theme%22%3A%7B%22main%22%3A%7B%22name%22%3A%22book_info%22%2C%22os%22%3A22478805%2C%22pkid%22%3A20000%7D%7D+%7D&amp;ptype=chi&amp;query=%ED%8C%8C%EC%9D%B4%EC%8D%AC&amp;sm=igr_brg&amp;tab=info&amp;tab_prs=csa&amp;where=bridge\" onclick=\"return tCR('a=bok.tit&amp;r=9&amp;i=98000001_00000000000000000156FFD5');\"> <strong class=\"title _text\">파이썬 텍스트 코딩 워크북 (직접 풀어보면서 기르는 코드 리뷰 능력!)</strong> </a> <div class=\"list_info\"> <div class=\"item\"> <em class=\"item_title\">저자</em> <div class=\"item_info type_writer\"> <div class=\"info_box\"><span class=\"info\"><span>정재웅</span></span>, <span class=\"info\"><span>김성안</span></span></div><span class=\"other\">외 4명</span> </div> </div> <div class=\"item\"> <em class=\"item_title\">출판</em> <div class=\"item_info elss\"> <span class=\"info\">삼양미디어</span> <time class=\"info\" datetime=\"yyyy-mm-dd\">2022.05.20.</time> </div> </div> <div class=\"item\"> <em class=\"item_title\">도서</em> <a class=\"item_info elss _lp_load\" href=\"#\" lp-api=\"?_lp_type=cm&amp;col_prs=csa&amp;format=text&amp;nqx_theme=%7B+%22theme%22%3A%7B%22main%22%3A%7B%22name%22%3A%22book_info%22%2C%22os%22%3A22478805%2C%22pkid%22%3A20000%7D%7D+%7D&amp;ptype=chi&amp;query=%ED%8C%8C%EC%9D%B4%EC%8D%AC&amp;sm=igr_brg&amp;tab=purchase&amp;tab_prs=csa&amp;where=bridge\" lp-scroll=\"._tab_root\" onclick=\"return tCR('a=bok.buyb&amp;r=9&amp;i=98000001_00000000000000000156FFD5');\"> <div class=\"price_box\"> <span class=\"base\"><strong>4,500</strong>원</span> </div> <span class=\"store spbk_af\">판매처 <span class=\"num\">7</span>건</span> </a> </div> </div> </div> </div> </div><div class=\"api_subject_bx\"> <div class=\"book_group\"> <a class=\"book_thumb _lp_load\" href=\"#\" lp-api=\"?_lp_type=cm&amp;col_prs=csa&amp;format=text&amp;nqx_theme=%7B+%22theme%22%3A%7B%22main%22%3A%7B%22name%22%3A%22book_info%22%2C%22os%22%3A22346673%2C%22pkid%22%3A20000%7D%7D+%7D&amp;ptype=chi&amp;query=%ED%8C%8C%EC%9D%B4%EC%8D%AC&amp;sm=igr_brg&amp;tab=info&amp;tab_prs=csa&amp;where=bridge\" onclick=\"return tCR('a=bok.img&amp;r=10&amp;i=98000001_00000000000000000154FBB1');\"> <img alt=\"파이썬 머신러닝 완벽 가이드\" onerror=\"on_noimage_book(this, 87, 123, 'bg_nimg2');\" src=\"https://search.pstatic.net/common/?src=https%3A%2F%2Fbookthumb-phinf.pstatic.net%2Fcover%2F223%2F466%2F22346673.jpg%3Ftype%3Dw150%26udate%3D20220421&amp;type=m174_246&amp;refresh=true&amp;expire=3\" width=\"87\"/> <span class=\"sticker_best\">베스트<br/>셀러</span> </a> <div class=\"book_info\"> <a class=\"title_area _ellipsis _lp_load\" href=\"#\" lp-api=\"?_lp_type=cm&amp;col_prs=csa&amp;format=text&amp;nqx_theme=%7B+%22theme%22%3A%7B%22main%22%3A%7B%22name%22%3A%22book_info%22%2C%22os%22%3A22346673%2C%22pkid%22%3A20000%7D%7D+%7D&amp;ptype=chi&amp;query=%ED%8C%8C%EC%9D%B4%EC%8D%AC&amp;sm=igr_brg&amp;tab=info&amp;tab_prs=csa&amp;where=bridge\" onclick=\"return tCR('a=bok.tit&amp;r=10&amp;i=98000001_00000000000000000154FBB1');\"> <strong class=\"title _text\">파이썬 머신러닝 완벽 가이드 (다양한 캐글 예제와 함께 기초 알고리즘부터 최신 기법까지 배우는)</strong> </a> <div class=\"list_info\"> <div class=\"item\"> <em class=\"item_title\">저자</em> <div class=\"item_info type_writer\"> <div class=\"info_box\"><span class=\"info\"><span>권철민</span></span></div> </div> </div> <div class=\"item\"> <em class=\"item_title\">출판</em> <div class=\"item_info elss\"> <span class=\"info\">위키북스</span> <time class=\"info\" datetime=\"yyyy-mm-dd\">2022.04.21.</time> </div> </div> <div class=\"item\"> <em class=\"item_title\">도서</em> <a class=\"item_info elss _lp_load\" href=\"#\" lp-api=\"?_lp_type=cm&amp;col_prs=csa&amp;format=text&amp;nqx_theme=%7B+%22theme%22%3A%7B%22main%22%3A%7B%22name%22%3A%22book_info%22%2C%22os%22%3A22346673%2C%22pkid%22%3A20000%7D%7D+%7D&amp;ptype=chi&amp;query=%ED%8C%8C%EC%9D%B4%EC%8D%AC&amp;sm=igr_brg&amp;tab=purchase&amp;tab_prs=csa&amp;where=bridge\" lp-scroll=\"._tab_root\" onclick=\"return tCR('a=bok.buyb&amp;r=10&amp;i=98000001_00000000000000000154FBB1');\"> <div class=\"price_box\"> <span class=\"base\"><strong>36,000</strong>원</span> </div> <span class=\"store spbk_af\">판매처 <span class=\"num\">7</span>건</span> </a> </div> </div> </div> </div> </div><div class=\"api_subject_bx\"> <div class=\"book_group\"> <a class=\"book_thumb _lp_load\" href=\"#\" lp-api=\"?_lp_type=cm&amp;col_prs=csa&amp;format=text&amp;nqx_theme=%7B+%22theme%22%3A%7B%22main%22%3A%7B%22name%22%3A%22book_info%22%2C%22os%22%3A22458464%2C%22pkid%22%3A20000%7D%7D+%7D&amp;ptype=chi&amp;query=%ED%8C%8C%EC%9D%B4%EC%8D%AC&amp;sm=igr_brg&amp;tab=info&amp;tab_prs=csa&amp;where=bridge\" onclick=\"return tCR('a=bok.img&amp;r=11&amp;i=98000001_00000000000000000156B060');\"> <img alt=\"백엔드를 위한 Django REST Framework with 파이썬\" onerror=\"on_noimage_book(this, 87, 123, 'bg_nimg2');\" src=\"https://search.pstatic.net/common/?src=https%3A%2F%2Fbookthumb-phinf.pstatic.net%2Fcover%2F224%2F584%2F22458464.jpg%3Ftype%3Dw150%26udate%3D20220514&amp;type=m174_246&amp;refresh=true&amp;expire=3\" width=\"87\"/> <span class=\"sticker_best\">베스트<br/>셀러</span> </a> <div class=\"book_info\"> <a class=\"title_area _ellipsis _lp_load\" href=\"#\" lp-api=\"?_lp_type=cm&amp;col_prs=csa&amp;format=text&amp;nqx_theme=%7B+%22theme%22%3A%7B%22main%22%3A%7B%22name%22%3A%22book_info%22%2C%22os%22%3A22458464%2C%22pkid%22%3A20000%7D%7D+%7D&amp;ptype=chi&amp;query=%ED%8C%8C%EC%9D%B4%EC%8D%AC&amp;sm=igr_brg&amp;tab=info&amp;tab_prs=csa&amp;where=bridge\" onclick=\"return tCR('a=bok.tit&amp;r=11&amp;i=98000001_00000000000000000156B060');\"> <strong class=\"title _text\">백엔드를 위한 Django REST Framework with 파이썬</strong> </a> <div class=\"list_info\"> <div class=\"item\"> <em class=\"item_title\">저자</em> <div class=\"item_info type_writer\"> <div class=\"info_box\"><span class=\"info\"><span>권태형</span></span></div> </div> </div> <div class=\"item\"> <em class=\"item_title\">출판</em> <div class=\"item_info elss\"> <span class=\"info\">영진닷컴</span> <time class=\"info\" datetime=\"yyyy-mm-dd\">2022.05.20.</time> </div> </div> <div class=\"item\"> <em class=\"item_title\">리뷰</em> <a class=\"item_info elss _lp_load\" href=\"#\" lp-api=\"?_lp_type=cm&amp;col_prs=rvw&amp;format=text&amp;nqx_theme=%7B+%22theme%22%3A%7B%22main%22%3A%7B%22name%22%3A%22book_info%22%2C%22os%22%3A22458464%2C%22pkid%22%3A20000%7D%7D+%7D&amp;ptype=chi&amp;q_material=book_22458464&amp;query=%ED%8C%8C%EC%9D%B4%EC%8D%AC&amp;sm=igr_brg&amp;tab=review&amp;tab_prs=csa&amp;where=bridge\" onclick=\"return tCR('a=bok.review&amp;r=11&amp;i=98000001_00000000000000000156B060');\"> 5건 </a> </div> <div class=\"item\"> <em class=\"item_title\">도서</em> <a class=\"item_info elss _lp_load\" href=\"#\" lp-api=\"?_lp_type=cm&amp;col_prs=csa&amp;format=text&amp;nqx_theme=%7B+%22theme%22%3A%7B%22main%22%3A%7B%22name%22%3A%22book_info%22%2C%22os%22%3A22458464%2C%22pkid%22%3A20000%7D%7D+%7D&amp;ptype=chi&amp;query=%ED%8C%8C%EC%9D%B4%EC%8D%AC&amp;sm=igr_brg&amp;tab=purchase&amp;tab_prs=csa&amp;where=bridge\" lp-scroll=\"._tab_root\" onclick=\"return tCR('a=bok.buyb&amp;r=11&amp;i=98000001_00000000000000000156B060');\"> <div class=\"price_box\"> <span class=\"base\"><strong>16,200</strong>원</span> </div> <span class=\"store spbk_af\">판매처 <span class=\"num\">7</span>건</span> </a> </div> </div> </div> </div> </div><div class=\"api_subject_bx\"> <div class=\"book_group\"> <a class=\"book_thumb _lp_load\" href=\"#\" lp-api=\"?_lp_type=cm&amp;col_prs=csa&amp;format=text&amp;nqx_theme=%7B+%22theme%22%3A%7B%22main%22%3A%7B%22name%22%3A%22book_info%22%2C%22os%22%3A22502811%2C%22pkid%22%3A20000%7D%7D+%7D&amp;ptype=chi&amp;query=%ED%8C%8C%EC%9D%B4%EC%8D%AC&amp;sm=igr_brg&amp;tab=info&amp;tab_prs=csa&amp;where=bridge\" onclick=\"return tCR('a=bok.img&amp;r=12&amp;i=98000001_000000000000000001575D9B');\"> <img alt=\"나는 파이썬으로 머신러닝한다 1\" onerror=\"on_noimage_book(this, 87, 123, 'bg_nimg2');\" src=\"https://search.pstatic.net/common/?src=https%3A%2F%2Fbookthumb-phinf.pstatic.net%2Fcover%2F225%2F028%2F22502811.jpg%3Ftype%3Dw150%26udate%3D20220609&amp;type=m174_246&amp;refresh=true&amp;expire=3\" width=\"87\"/> <span class=\"sticker_best\">베스트<br/>셀러</span> </a> <div class=\"book_info\"> <a class=\"title_area _ellipsis _lp_load\" href=\"#\" lp-api=\"?_lp_type=cm&amp;col_prs=csa&amp;format=text&amp;nqx_theme=%7B+%22theme%22%3A%7B%22main%22%3A%7B%22name%22%3A%22book_info%22%2C%22os%22%3A22502811%2C%22pkid%22%3A20000%7D%7D+%7D&amp;ptype=chi&amp;query=%ED%8C%8C%EC%9D%B4%EC%8D%AC&amp;sm=igr_brg&amp;tab=info&amp;tab_prs=csa&amp;where=bridge\" onclick=\"return tCR('a=bok.tit&amp;r=12&amp;i=98000001_000000000000000001575D9B');\"> <strong class=\"title _text\">나는 파이썬으로 머신러닝한다 1 (코알못을 위한 인공지능 순한맛)</strong> </a> <div class=\"list_info\"> <div class=\"item\"> <em class=\"item_title\">저자</em> <div class=\"item_info type_writer\"> <div class=\"info_box\"><span class=\"info\"><span>최정원</span></span>, <span class=\"info\"><span>박지훈</span></span></div> </div> </div> <div class=\"item\"> <em class=\"item_title\">출판</em> <div class=\"item_info elss\"> <span class=\"info\">씨마스</span> <time class=\"info\" datetime=\"yyyy-mm-dd\">2022.06.07.</time> </div> </div> <div class=\"item\"> <em class=\"item_title\">리뷰</em> <a class=\"item_info elss _lp_load\" href=\"#\" lp-api=\"?_lp_type=cm&amp;col_prs=rvw&amp;format=text&amp;nqx_theme=%7B+%22theme%22%3A%7B%22main%22%3A%7B%22name%22%3A%22book_info%22%2C%22os%22%3A22502811%2C%22pkid%22%3A20000%7D%7D+%7D&amp;ptype=chi&amp;q_material=book_22502811&amp;query=%ED%8C%8C%EC%9D%B4%EC%8D%AC&amp;sm=igr_brg&amp;tab=review&amp;tab_prs=csa&amp;where=bridge\" onclick=\"return tCR('a=bok.review&amp;r=12&amp;i=98000001_000000000000000001575D9B');\"> 1건 </a> </div> <div class=\"item\"> <em class=\"item_title\">도서</em> <a class=\"item_info elss _lp_load\" href=\"#\" lp-api=\"?_lp_type=cm&amp;col_prs=csa&amp;format=text&amp;nqx_theme=%7B+%22theme%22%3A%7B%22main%22%3A%7B%22name%22%3A%22book_info%22%2C%22os%22%3A22502811%2C%22pkid%22%3A20000%7D%7D+%7D&amp;ptype=chi&amp;query=%ED%8C%8C%EC%9D%B4%EC%8D%AC&amp;sm=igr_brg&amp;tab=purchase&amp;tab_prs=csa&amp;where=bridge\" lp-scroll=\"._tab_root\" onclick=\"return tCR('a=bok.buyb&amp;r=12&amp;i=98000001_000000000000000001575D9B');\"> <div class=\"price_box\"> <span class=\"base\"><strong>19,800</strong>원</span> </div> <span class=\"store spbk_af\">판매처 <span class=\"num\">7</span>건</span> </a> </div> </div> </div> </div> </div><div class=\"api_subject_bx\"> <div class=\"book_group\"> <a class=\"book_thumb _lp_load\" href=\"#\" lp-api=\"?_lp_type=cm&amp;col_prs=csa&amp;format=text&amp;nqx_theme=%7B+%22theme%22%3A%7B%22main%22%3A%7B%22name%22%3A%22book_info%22%2C%22os%22%3A14126163%2C%22pkid%22%3A20000%7D%7D+%7D&amp;ptype=chi&amp;query=%ED%8C%8C%EC%9D%B4%EC%8D%AC&amp;sm=igr_brg&amp;tab=info&amp;tab_prs=csa&amp;where=bridge\" onclick=\"return tCR('a=bok.img&amp;r=13&amp;i=98000001_000000000000000000D78C53');\"> <img alt=\"모두의 파이썬\" onerror=\"on_noimage_book(this, 87, 123, 'bg_nimg2');\" src=\"https://search.pstatic.net/common/?src=https%3A%2F%2Fbookthumb-phinf.pstatic.net%2Fcover%2F141%2F261%2F14126163.jpg%3Ftype%3Dw150%26udate%3D20210210&amp;type=m174_246&amp;refresh=true&amp;expire=3\" width=\"87\"/> <span class=\"sticker_best\">베스트<br/>셀러</span> </a> <div class=\"book_info\"> <a class=\"title_area _ellipsis _lp_load\" href=\"#\" lp-api=\"?_lp_type=cm&amp;col_prs=csa&amp;format=text&amp;nqx_theme=%7B+%22theme%22%3A%7B%22main%22%3A%7B%22name%22%3A%22book_info%22%2C%22os%22%3A14126163%2C%22pkid%22%3A20000%7D%7D+%7D&amp;ptype=chi&amp;query=%ED%8C%8C%EC%9D%B4%EC%8D%AC&amp;sm=igr_brg&amp;tab=info&amp;tab_prs=csa&amp;where=bridge\" onclick=\"return tCR('a=bok.tit&amp;r=13&amp;i=98000001_000000000000000000D78C53');\"> <strong class=\"title _text\">모두의 파이썬 (20일 만에 배우는 프로그래밍 기초)</strong> </a> <div class=\"list_info\"> <div class=\"item\"> <em class=\"item_title\">저자</em> <div class=\"item_info type_writer\"> <div class=\"info_box\"><span class=\"info\"><span>이승찬</span></span></div> </div> </div> <div class=\"item\"> <em class=\"item_title\">출판</em> <div class=\"item_info elss\"> <span class=\"info\">길벗</span> <time class=\"info\" datetime=\"yyyy-mm-dd\">2018.10.09.</time> </div> </div> <div class=\"item\"> <em class=\"item_title\">리뷰</em> <a class=\"item_info elss _lp_load\" href=\"#\" lp-api=\"?_lp_type=cm&amp;col_prs=rvw&amp;format=text&amp;nqx_theme=%7B+%22theme%22%3A%7B%22main%22%3A%7B%22name%22%3A%22book_info%22%2C%22os%22%3A14126163%2C%22pkid%22%3A20000%7D%7D+%7D&amp;ptype=chi&amp;q_material=book_14126163&amp;query=%ED%8C%8C%EC%9D%B4%EC%8D%AC&amp;sm=igr_brg&amp;tab=review&amp;tab_prs=csa&amp;where=bridge\" onclick=\"return tCR('a=bok.review&amp;r=13&amp;i=98000001_000000000000000000D78C53');\"> 7건 </a> </div> <div class=\"item\"> <em class=\"item_title\">도서</em> <a class=\"item_info elss _lp_load\" href=\"#\" lp-api=\"?_lp_type=cm&amp;col_prs=csa&amp;format=text&amp;nqx_theme=%7B+%22theme%22%3A%7B%22main%22%3A%7B%22name%22%3A%22book_info%22%2C%22os%22%3A14126163%2C%22pkid%22%3A20000%7D%7D+%7D&amp;ptype=chi&amp;query=%ED%8C%8C%EC%9D%B4%EC%8D%AC&amp;sm=igr_brg&amp;tab=purchase&amp;tab_prs=csa&amp;where=bridge\" lp-scroll=\"._tab_root\" onclick=\"return tCR('a=bok.buyb&amp;r=13&amp;i=98000001_000000000000000000D78C53');\"> <div class=\"price_box\"> <span class=\"base\"><strong>10,800</strong>원</span> </div> <span class=\"store spbk_af\">판매처 <span class=\"num\">7</span>건</span> </a> </div> <div class=\"item\"> <em class=\"item_title\">e북</em> <a class=\"item_info elss _lp_load\" href=\"#\" lp-api=\"?_lp_type=cm&amp;col_prs=csa&amp;format=text&amp;nqx_theme=%7B+%22theme%22%3A%7B%22main%22%3A%7B%22name%22%3A%22book_info%22%2C%22os%22%3A14126163%2C%22pkid%22%3A20000%7D%7D+%7D&amp;ptype=chi&amp;query=%ED%8C%8C%EC%9D%B4%EC%8D%AC&amp;sm=igr_brg&amp;tab=purchase&amp;tab_prs=csa&amp;where=bridge&amp;x_csa=eBook\" lp-scroll=\"._tab_root\" onclick=\"return tCR('a=bok.buyeb&amp;r=13&amp;i=98000001_000000000000000000D78C53');\"> <div class=\"price_box\"> <span class=\"base\"><strong>7,560</strong>원</span> </div> <span class=\"store spbk_af\">판매처 <span class=\"num\">5</span>건</span> </a> </div> </div> </div> </div> </div><div class=\"api_subject_bx\"> <div class=\"book_group\"> <a class=\"book_thumb _lp_load\" href=\"#\" lp-api=\"?_lp_type=cm&amp;col_prs=csa&amp;format=text&amp;nqx_theme=%7B+%22theme%22%3A%7B%22main%22%3A%7B%22name%22%3A%22book_info%22%2C%22os%22%3A22437330%2C%22pkid%22%3A20000%7D%7D+%7D&amp;ptype=chi&amp;query=%ED%8C%8C%EC%9D%B4%EC%8D%AC&amp;sm=igr_brg&amp;tab=info&amp;tab_prs=csa&amp;where=bridge\" onclick=\"return tCR('a=bok.img&amp;r=14&amp;i=98000001_000000000000000001565DD2');\"> <img alt=\"파이썬 한권으로 끝내기\" onerror=\"on_noimage_book(this, 87, 123, 'bg_nimg2');\" src=\"https://search.pstatic.net/common/?src=https%3A%2F%2Fbookthumb-phinf.pstatic.net%2Fcover%2F224%2F373%2F22437330.jpg%3Ftype%3Dw150%26udate%3D20220510&amp;type=m174_246&amp;refresh=true&amp;expire=3\" width=\"87\"/> <span class=\"sticker_best\">베스트<br/>셀러</span> </a> <div class=\"book_info\"> <a class=\"title_area _ellipsis _lp_load\" href=\"#\" lp-api=\"?_lp_type=cm&amp;col_prs=csa&amp;format=text&amp;nqx_theme=%7B+%22theme%22%3A%7B%22main%22%3A%7B%22name%22%3A%22book_info%22%2C%22os%22%3A22437330%2C%22pkid%22%3A20000%7D%7D+%7D&amp;ptype=chi&amp;query=%ED%8C%8C%EC%9D%B4%EC%8D%AC&amp;sm=igr_brg&amp;tab=info&amp;tab_prs=csa&amp;where=bridge\" onclick=\"return tCR('a=bok.tit&amp;r=14&amp;i=98000001_000000000000000001565DD2');\"> <strong class=\"title _text\">파이썬 한권으로 끝내기 (데이터분석전문가(ADP) + 빅데이터분석기사 실기대비)</strong> </a> <div class=\"list_info\"> <div class=\"item\"> <em class=\"item_title\">저자</em> <div class=\"item_info type_writer\"> <div class=\"info_box\"><span class=\"info\"><span>데싸라면</span></span>, <span class=\"info\"><span>빨간색 물고기</span></span></div><span class=\"other\">외 1명</span> </div> </div> <div class=\"item\"> <em class=\"item_title\">출판</em> <div class=\"item_info elss\"> <span class=\"info\">시대고시기획</span> <time class=\"info\" datetime=\"yyyy-mm-dd\">2022.06.03.</time> </div> </div> <div class=\"item\"> <em class=\"item_title\">도서</em> <a class=\"item_info elss _lp_load\" href=\"#\" lp-api=\"?_lp_type=cm&amp;col_prs=csa&amp;format=text&amp;nqx_theme=%7B+%22theme%22%3A%7B%22main%22%3A%7B%22name%22%3A%22book_info%22%2C%22os%22%3A22437330%2C%22pkid%22%3A20000%7D%7D+%7D&amp;ptype=chi&amp;query=%ED%8C%8C%EC%9D%B4%EC%8D%AC&amp;sm=igr_brg&amp;tab=purchase&amp;tab_prs=csa&amp;where=bridge\" lp-scroll=\"._tab_root\" onclick=\"return tCR('a=bok.buyb&amp;r=14&amp;i=98000001_000000000000000001565DD2');\"> <div class=\"price_box\"> <span class=\"base\"><strong>24,300</strong>원</span> </div> <span class=\"store spbk_af\">판매처 <span class=\"num\">7</span>건</span> </a> </div> <div class=\"item\"> <em class=\"item_title\">e북</em> <a class=\"item_info elss _lp_load\" href=\"#\" lp-api=\"?_lp_type=cm&amp;col_prs=csa&amp;format=text&amp;nqx_theme=%7B+%22theme%22%3A%7B%22main%22%3A%7B%22name%22%3A%22book_info%22%2C%22os%22%3A22437330%2C%22pkid%22%3A20000%7D%7D+%7D&amp;ptype=chi&amp;query=%ED%8C%8C%EC%9D%B4%EC%8D%AC&amp;sm=igr_brg&amp;tab=purchase&amp;tab_prs=csa&amp;where=bridge&amp;x_csa=eBook\" lp-scroll=\"._tab_root\" onclick=\"return tCR('a=bok.buyeb&amp;r=14&amp;i=98000001_000000000000000001565DD2');\"> <div class=\"price_box\"> <span class=\"base\"><strong>17,010</strong>원</span> </div> <span class=\"store spbk_af\">판매처 <span class=\"num\">4</span>건</span> </a> </div> </div> </div> </div> </div><div class=\"api_subject_bx\"> <div class=\"book_group\"> <a class=\"book_thumb _lp_load\" href=\"#\" lp-api=\"?_lp_type=cm&amp;col_prs=csa&amp;format=text&amp;nqx_theme=%7B+%22theme%22%3A%7B%22main%22%3A%7B%22name%22%3A%22book_info%22%2C%22os%22%3A18829375%2C%22pkid%22%3A20000%7D%7D+%7D&amp;ptype=chi&amp;query=%ED%8C%8C%EC%9D%B4%EC%8D%AC&amp;sm=igr_brg&amp;tab=info&amp;tab_prs=csa&amp;where=bridge\" onclick=\"return tCR('a=bok.img&amp;r=15&amp;i=98000001_0000000000000000011F503F');\"> <img alt=\"머신 러닝 교과서 with 파이썬, 사이킷런, 텐서플로\" onerror=\"on_noimage_book(this, 87, 123, 'bg_nimg2');\" src=\"https://search.pstatic.net/common/?src=https%3A%2F%2Fbookthumb-phinf.pstatic.net%2Fcover%2F188%2F293%2F18829375.jpg%3Ftype%3Dw150%26udate%3D20211207&amp;type=m174_246&amp;refresh=true&amp;expire=3\" width=\"87\"/> <span class=\"sticker_best\">베스트<br/>셀러</span> </a> <div class=\"book_info\"> <a class=\"title_area _ellipsis _lp_load\" href=\"#\" lp-api=\"?_lp_type=cm&amp;col_prs=csa&amp;format=text&amp;nqx_theme=%7B+%22theme%22%3A%7B%22main%22%3A%7B%22name%22%3A%22book_info%22%2C%22os%22%3A18829375%2C%22pkid%22%3A20000%7D%7D+%7D&amp;ptype=chi&amp;query=%ED%8C%8C%EC%9D%B4%EC%8D%AC&amp;sm=igr_brg&amp;tab=info&amp;tab_prs=csa&amp;where=bridge\" onclick=\"return tCR('a=bok.tit&amp;r=15&amp;i=98000001_0000000000000000011F503F');\"> <strong class=\"title _text\">머신 러닝 교과서 with 파이썬, 사이킷런, 텐서플로 (최신 넘파이, 사이킷런, 텐서플로 2로 배우는 머신 러닝, 딥러닝 핵심 알고)</strong> </a> <div class=\"list_info\"> <div class=\"item\"> <em class=\"item_title\">저자</em> <div class=\"item_info type_writer\"> <div class=\"info_box\"><span class=\"info\"><span>세바스찬 라시카</span></span>, <span class=\"info\"><span>바히드 미자리리</span></span></div> </div> </div> <div class=\"item\"> <em class=\"item_title\">출판</em> <div class=\"item_info elss\"> <span class=\"info\">길벗</span> <time class=\"info\" datetime=\"yyyy-mm-dd\">2021.03.31.</time> </div> </div> <div class=\"item\"> <em class=\"item_title\">리뷰</em> <a class=\"item_info elss _lp_load\" href=\"#\" lp-api=\"?_lp_type=cm&amp;col_prs=rvw&amp;format=text&amp;nqx_theme=%7B+%22theme%22%3A%7B%22main%22%3A%7B%22name%22%3A%22book_info%22%2C%22os%22%3A18829375%2C%22pkid%22%3A20000%7D%7D+%7D&amp;ptype=chi&amp;q_material=book_18829375&amp;query=%ED%8C%8C%EC%9D%B4%EC%8D%AC&amp;sm=igr_brg&amp;tab=review&amp;tab_prs=csa&amp;where=bridge\" onclick=\"return tCR('a=bok.review&amp;r=15&amp;i=98000001_0000000000000000011F503F');\"> 1건 </a> </div> <div class=\"item\"> <em class=\"item_title\">도서</em> <a class=\"item_info elss _lp_load\" href=\"#\" lp-api=\"?_lp_type=cm&amp;col_prs=csa&amp;format=text&amp;nqx_theme=%7B+%22theme%22%3A%7B%22main%22%3A%7B%22name%22%3A%22book_info%22%2C%22os%22%3A18829375%2C%22pkid%22%3A20000%7D%7D+%7D&amp;ptype=chi&amp;query=%ED%8C%8C%EC%9D%B4%EC%8D%AC&amp;sm=igr_brg&amp;tab=purchase&amp;tab_prs=csa&amp;where=bridge\" lp-scroll=\"._tab_root\" onclick=\"return tCR('a=bok.buyb&amp;r=15&amp;i=98000001_0000000000000000011F503F');\"> <div class=\"price_box\"> <span class=\"base\"><strong>39,600</strong>원</span> </div> <span class=\"store spbk_af\">판매처 <span class=\"num\">7</span>건</span> </a> </div> <div class=\"item\"> <em class=\"item_title\">e북</em> <a class=\"item_info elss _lp_load\" href=\"#\" lp-api=\"?_lp_type=cm&amp;col_prs=csa&amp;format=text&amp;nqx_theme=%7B+%22theme%22%3A%7B%22main%22%3A%7B%22name%22%3A%22book_info%22%2C%22os%22%3A18829375%2C%22pkid%22%3A20000%7D%7D+%7D&amp;ptype=chi&amp;query=%ED%8C%8C%EC%9D%B4%EC%8D%AC&amp;sm=igr_brg&amp;tab=purchase&amp;tab_prs=csa&amp;where=bridge&amp;x_csa=eBook\" lp-scroll=\"._tab_root\" onclick=\"return tCR('a=bok.buyeb&amp;r=15&amp;i=98000001_0000000000000000011F503F');\"> <div class=\"price_box\"> <span class=\"base\"><strong>31,680</strong>원</span> </div> <span class=\"store spbk_af\">판매처 <span class=\"num\">5</span>건</span> </a> </div> </div> </div> </div> </div></section> <div class=\"sp_page\"> <div class=\"api_subject_bx\"> <div class=\"page_wrap\"> <button aria-disabled=\"true\" class=\"btn_prev dimmed\" type=\"button\"><i class=\"spnew ico_arr\">이전페이지</i></button> <div class=\"list_page\"> <a aria-label=\"페이지1\" class=\"pgn now\" href=\"?category=&amp;nso_open=1&amp;query=%ED%8C%8C%EC%9D%B4%EC%8D%AC&amp;range=&amp;sm=mtb_opt&amp;sort=rel&amp;type=0&amp;where=m_book&amp;start=1\" onclick=\"return goOtherCR(this,'a=bok.page&amp;r=0&amp;i=&amp;u='+urlencode(this.href));\">1</a> <a aria-label=\"페이지2\" class=\"pgn\" href=\"?category=&amp;nso_open=1&amp;query=%ED%8C%8C%EC%9D%B4%EC%8D%AC&amp;range=&amp;sm=mtb_opt&amp;sort=rel&amp;type=0&amp;where=m_book&amp;start=16\" onclick=\"return goOtherCR(this,'a=bok.page&amp;r=0&amp;i=&amp;u='+urlencode(this.href));\">2</a> <a aria-label=\"페이지3\" class=\"pgn\" href=\"?category=&amp;nso_open=1&amp;query=%ED%8C%8C%EC%9D%B4%EC%8D%AC&amp;range=&amp;sm=mtb_opt&amp;sort=rel&amp;type=0&amp;where=m_book&amp;start=31\" onclick=\"return goOtherCR(this,'a=bok.page&amp;r=0&amp;i=&amp;u='+urlencode(this.href));\">3</a> <a aria-label=\"페이지4\" class=\"pgn\" href=\"?category=&amp;nso_open=1&amp;query=%ED%8C%8C%EC%9D%B4%EC%8D%AC&amp;range=&amp;sm=mtb_opt&amp;sort=rel&amp;type=0&amp;where=m_book&amp;start=46\" onclick=\"return goOtherCR(this,'a=bok.page&amp;r=0&amp;i=&amp;u='+urlencode(this.href));\">4</a> <a aria-label=\"페이지5\" class=\"pgn\" href=\"?category=&amp;nso_open=1&amp;query=%ED%8C%8C%EC%9D%B4%EC%8D%AC&amp;range=&amp;sm=mtb_opt&amp;sort=rel&amp;type=0&amp;where=m_book&amp;start=61\" onclick=\"return goOtherCR(this,'a=bok.page&amp;r=0&amp;i=&amp;u='+urlencode(this.href));\">5</a> </div> <button class=\"btn_next\" onclick=\"gCR('?category=&amp;nso_open=1&amp;query=%ED%8C%8C%EC%9D%B4%EC%8D%AC&amp;range=&amp;sm=mtb_opt&amp;sort=rel&amp;type=0&amp;where=m_book&amp;start=16','bok.page', '2', '');\" type=\"button\"><i class=\"spnew ico_arr\">다음페이지</i></button> </div> </div> </div> </div>\n"
     ]
    }
   ],
   "source": [
    "book_wrap = msoup.select_one('div#_tab_book_wrap')\n",
    "print(book_wrap)"
   ]
  },
  {
   "cell_type": "code",
   "execution_count": 42,
   "id": "5117383d",
   "metadata": {
    "scrolled": true
   },
   "outputs": [
    {
     "data": {
      "text/plain": [
       "15"
      ]
     },
     "execution_count": 42,
     "metadata": {},
     "output_type": "execute_result"
    }
   ],
   "source": [
    "len(book_wrap.select('.book_info'))"
   ]
  },
  {
   "cell_type": "code",
   "execution_count": 43,
   "id": "54afb5d1",
   "metadata": {},
   "outputs": [],
   "source": [
    "books= book_wrap.select('.book_info')"
   ]
  },
  {
   "cell_type": "code",
   "execution_count": 44,
   "id": "367673df",
   "metadata": {
    "scrolled": true
   },
   "outputs": [
    {
     "data": {
      "text/plain": [
       "<div class=\"book_info\"> <a class=\"title_area _ellipsis _lp_load\" href=\"#\" lp-api=\"?_lp_type=cm&amp;col_prs=csa&amp;format=text&amp;nqx_theme=%7B+%22theme%22%3A%7B%22main%22%3A%7B%22name%22%3A%22book_info%22%2C%22os%22%3A21982844%2C%22pkid%22%3A20000%7D%7D+%7D&amp;ptype=chi&amp;query=%ED%8C%8C%EC%9D%B4%EC%8D%AC&amp;sm=igr_brg&amp;tab=info&amp;tab_prs=csa&amp;where=bridge\" onclick=\"return tCR('a=bok.tit&amp;r=1&amp;i=98000001_0000000000000000014F6E7C');\"> <strong class=\"title _text\">만들면서 배우는 파이썬과 40개의 작품들 (자동화, 크롤링, 이미지처리, 데이터분석, 웹페이지, GUI 프로그램, 게임)</strong> </a> <div class=\"list_info\"> <div class=\"item\"> <em class=\"item_title\">저자</em> <div class=\"item_info type_writer\"> <div class=\"info_box\"><span class=\"info\"><span>장문철</span></span></div> </div> </div> <div class=\"item\"> <em class=\"item_title\">출판</em> <div class=\"item_info elss\"> <span class=\"info\">앤써북</span> <time class=\"info\" datetime=\"yyyy-mm-dd\">2022.02.28.</time> </div> </div> <div class=\"item\"> <em class=\"item_title\">리뷰</em> <a class=\"item_info elss _lp_load\" href=\"#\" lp-api=\"?_lp_type=cm&amp;col_prs=rvw&amp;format=text&amp;nqx_theme=%7B+%22theme%22%3A%7B%22main%22%3A%7B%22name%22%3A%22book_info%22%2C%22os%22%3A21982844%2C%22pkid%22%3A20000%7D%7D+%7D&amp;ptype=chi&amp;q_material=book_21982844&amp;query=%ED%8C%8C%EC%9D%B4%EC%8D%AC&amp;sm=igr_brg&amp;tab=review&amp;tab_prs=csa&amp;where=bridge\" onclick=\"return tCR('a=bok.review&amp;r=1&amp;i=98000001_0000000000000000014F6E7C');\"> 11건 </a> </div> <div class=\"item\"> <em class=\"item_title\">도서</em> <a class=\"item_info elss _lp_load\" href=\"#\" lp-api=\"?_lp_type=cm&amp;col_prs=csa&amp;format=text&amp;nqx_theme=%7B+%22theme%22%3A%7B%22main%22%3A%7B%22name%22%3A%22book_info%22%2C%22os%22%3A21982844%2C%22pkid%22%3A20000%7D%7D+%7D&amp;ptype=chi&amp;query=%ED%8C%8C%EC%9D%B4%EC%8D%AC&amp;sm=igr_brg&amp;tab=purchase&amp;tab_prs=csa&amp;where=bridge\" lp-scroll=\"._tab_root\" onclick=\"return tCR('a=bok.buyb&amp;r=1&amp;i=98000001_0000000000000000014F6E7C');\"> <div class=\"price_box\"> <span class=\"base\"><strong>16,920</strong>원</span> </div> <span class=\"store spbk_af\">판매처 <span class=\"num\">7</span>건</span> </a> </div> </div> </div>"
      ]
     },
     "execution_count": 44,
     "metadata": {},
     "output_type": "execute_result"
    }
   ],
   "source": [
    "books[0]"
   ]
  },
  {
   "cell_type": "code",
   "execution_count": 45,
   "id": "043e84e7",
   "metadata": {},
   "outputs": [],
   "source": [
    "book = books[0]\n",
    "author = book.select_one('div.info_box > span.info')"
   ]
  },
  {
   "cell_type": "code",
   "execution_count": 46,
   "id": "68827601",
   "metadata": {},
   "outputs": [
    {
     "data": {
      "text/plain": [
       "<span class=\"info\"><span>장문철</span></span>"
      ]
     },
     "execution_count": 46,
     "metadata": {},
     "output_type": "execute_result"
    }
   ],
   "source": [
    "author"
   ]
  },
  {
   "cell_type": "code",
   "execution_count": 47,
   "id": "e54c0d45",
   "metadata": {},
   "outputs": [
    {
     "data": {
      "text/plain": [
       "('장문철', '장문철')"
      ]
     },
     "execution_count": 47,
     "metadata": {},
     "output_type": "execute_result"
    }
   ],
   "source": [
    "author.string, author.text"
   ]
  },
  {
   "cell_type": "markdown",
   "id": "a34faba3",
   "metadata": {},
   "source": [
    "크롤링에서의 핵심은, 가져오는 범위를 계속 줄여가는 것이 핵심"
   ]
  },
  {
   "cell_type": "code",
   "execution_count": 76,
   "id": "7bafd069",
   "metadata": {},
   "outputs": [
    {
     "data": {
      "text/plain": [
       "('장문철', '장문철', '장문철')"
      ]
     },
     "execution_count": 76,
     "metadata": {},
     "output_type": "execute_result"
    }
   ],
   "source": [
    "book = books[0]\n",
    "author = book.select_one('div.info_box > span.info')\n",
    "author.string, author.text, author.get_text()"
   ]
  },
  {
   "cell_type": "markdown",
   "id": "83b218a7",
   "metadata": {},
   "source": [
    "위와 같이 3가지 방법으로 찾을 수 있으나, 2번째 방법이 가장 사용하기 효과적이다. \n",
    "이유는 크롤링의 핵심은 가져오는 범위를 줄이고 줄여서 정확도를 높이는 것이 중요하기 때문이다. "
   ]
  },
  {
   "cell_type": "code",
   "execution_count": 55,
   "id": "e6345eb7",
   "metadata": {},
   "outputs": [],
   "source": [
    "#정규 표현식\n",
    "import re\n",
    "\n",
    "pt = r'^http://'\n",
    "href_data = msoup.find_all(href=re.compile(pt))"
   ]
  },
  {
   "cell_type": "code",
   "execution_count": 56,
   "id": "6f41901f",
   "metadata": {},
   "outputs": [
    {
     "data": {
      "text/plain": [
       "[<a class=\"link\" href=\"http://book.naver.com/search/search.nhn?sm=mtb_pcv&amp;where=&amp;query=%ED%8C%8C%EC%9D%B4%EC%8D%AC\" onclick=\"nx_set_version('pc'); return goOtherCR(this, 'a=fot.pc&amp;r=&amp;i=&amp;u='+urlencode(this.href));\">PC버전</a>]"
      ]
     },
     "execution_count": 56,
     "metadata": {},
     "output_type": "execute_result"
    }
   ],
   "source": [
    "href_data"
   ]
  },
  {
   "cell_type": "markdown",
   "id": "fbaa523a",
   "metadata": {},
   "source": [
    "\n",
    "    11111, 책 제목, 저자, 출판사, 출판일, 정가, 할인가\n",
    "    11112, 책 제목, 저자, 출판사, 출판일, 정가, 할인가\n"
   ]
  },
  {
   "cell_type": "code",
   "execution_count": 71,
   "id": "88582c69",
   "metadata": {},
   "outputs": [
    {
     "ename": "AttributeError",
     "evalue": "'NoneType' object has no attribute 'string'",
     "output_type": "error",
     "traceback": [
      "\u001b[1;31m---------------------------------------------------------------------------\u001b[0m",
      "\u001b[1;31mAttributeError\u001b[0m                            Traceback (most recent call last)",
      "Input \u001b[1;32mIn [71]\u001b[0m, in \u001b[0;36m<cell line: 2>\u001b[1;34m()\u001b[0m\n\u001b[0;32m      1\u001b[0m make \u001b[38;5;241m=\u001b[39m book\u001b[38;5;241m.\u001b[39mselect_one(\u001b[38;5;124m'\u001b[39m\u001b[38;5;124mdiv.item_info elss > span.info\u001b[39m\u001b[38;5;124m'\u001b[39m)\n\u001b[1;32m----> 2\u001b[0m \u001b[43mmake\u001b[49m\u001b[38;5;241;43m.\u001b[39;49m\u001b[43mstring\u001b[49m\n",
      "\u001b[1;31mAttributeError\u001b[0m: 'NoneType' object has no attribute 'string'"
     ]
    }
   ],
   "source": [
    "make = book.select_one('div.item_info elss > span.info')\n",
    "make.string"
   ]
  },
  {
   "cell_type": "markdown",
   "id": "7bbb8e52",
   "metadata": {},
   "source": [
    "book_wrap = msoup.select_one('div#_tab_book_wrap')\n",
    "\n",
    "bookname = book.select_one('div.info_box > span.info')\n",
    "author = book.select_one('div.info_box > span.info')\n",
    "make = book.select_one('div.item_info elss > span.info')\n",
    "mdate = book.select_one('time.yyyy-mm-dd > span.info')\n",
    "price = book.select_one('div.info_box > span.info')\n",
    "\n",
    "\n",
    "print(author.text, make.string, mdate.string)"
   ]
  },
  {
   "cell_type": "code",
   "execution_count": 84,
   "id": "c71f7d20",
   "metadata": {},
   "outputs": [
    {
     "ename": "TypeError",
     "evalue": "'NoneType' object is not callable",
     "output_type": "error",
     "traceback": [
      "\u001b[1;31m---------------------------------------------------------------------------\u001b[0m",
      "\u001b[1;31mTypeError\u001b[0m                                 Traceback (most recent call last)",
      "Input \u001b[1;32mIn [84]\u001b[0m, in \u001b[0;36m<cell line: 4>\u001b[1;34m()\u001b[0m\n\u001b[0;32m      1\u001b[0m book_wrap \u001b[38;5;241m=\u001b[39m msoup\u001b[38;5;241m.\u001b[39mselect_one(\u001b[38;5;124m'\u001b[39m\u001b[38;5;124mdiv#_tab_book_wrap\u001b[39m\u001b[38;5;124m'\u001b[39m)\n\u001b[1;32m----> 4\u001b[0m price \u001b[38;5;241m=\u001b[39m \u001b[43mbook\u001b[49m\u001b[38;5;241;43m.\u001b[39;49m\u001b[43mselect_all\u001b[49m\u001b[43m(\u001b[49m\u001b[38;5;124;43m'\u001b[39;49m\u001b[38;5;124;43mdiv.price_box > span.base\u001b[39;49m\u001b[38;5;124;43m'\u001b[39;49m\u001b[43m)\u001b[49m\n\u001b[0;32m      7\u001b[0m \u001b[38;5;28mprint\u001b[39m(iint(price))\n",
      "\u001b[1;31mTypeError\u001b[0m: 'NoneType' object is not callable"
     ]
    }
   ],
   "source": [
    "book_wrap = msoup.select_one('div#_tab_book_wrap')\n",
    "\n",
    "\n",
    "price = book.select_all('div.price_box > span.base')\n",
    "\n",
    "\n"
   ]
  },
  {
   "cell_type": "code",
   "execution_count": 96,
   "id": "7a3e1bdc",
   "metadata": {},
   "outputs": [
    {
     "data": {
      "text/plain": [
       "[[<span class=\"info\"><span>장문철</span></span>]]"
      ]
     },
     "execution_count": 96,
     "metadata": {},
     "output_type": "execute_result"
    }
   ],
   "source": [
    "author = []\n",
    "for i in range(len(books)):\n",
    "    author.append(books[i].select('div.info_box > span.info'))\n",
    "\n",
    "author=[]\n",
    "author.append(books[0].select('div.info_box > span.info'))\n",
    "author"
   ]
  },
  {
   "cell_type": "code",
   "execution_count": 89,
   "id": "f8253cb0",
   "metadata": {
    "scrolled": true
   },
   "outputs": [
    {
     "data": {
      "text/plain": [
       "[<span class=\"info\"><span>장문철</span></span>]"
      ]
     },
     "execution_count": 89,
     "metadata": {},
     "output_type": "execute_result"
    }
   ],
   "source": [
    "book = books[0]\n",
    "book.select('div.info_box > span.info')"
   ]
  },
  {
   "cell_type": "code",
   "execution_count": null,
   "id": "3e749a98",
   "metadata": {},
   "outputs": [],
   "source": [
    "books_temps =list(zip(b_author_list\n",
    "                     ))"
   ]
  }
 ],
 "metadata": {
  "kernelspec": {
   "display_name": "Python 3 (ipykernel)",
   "language": "python",
   "name": "python3"
  },
  "language_info": {
   "codemirror_mode": {
    "name": "ipython",
    "version": 3
   },
   "file_extension": ".py",
   "mimetype": "text/x-python",
   "name": "python",
   "nbconvert_exporter": "python",
   "pygments_lexer": "ipython3",
   "version": "3.8.13"
  }
 },
 "nbformat": 4,
 "nbformat_minor": 5
}
