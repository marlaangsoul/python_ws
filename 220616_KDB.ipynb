{
 "cells": [
  {
   "cell_type": "code",
   "execution_count": 1,
   "id": "51046701",
   "metadata": {},
   "outputs": [],
   "source": [
    "import requests"
   ]
  },
  {
   "cell_type": "code",
   "execution_count": 21,
   "id": "656b8f88",
   "metadata": {},
   "outputs": [],
   "source": [
    "# requests 사용시 decode 된 키 사용\n",
    "#access_key = 'zjQ3G6%2BhkjGKooNMp%2FagSyk025eLsl3OcVfNSXnOBR0YCOeZs9X0Is73AQCZcZiRdAbhfY4i40za5cAf3YNa0Q%3D%3D'\n",
    "access_key = 'zjQ3G6+hkjGKooNMp/agSyk025eLsl3OcVfNSXnOBR0YCOeZs9X0Is73AQCZcZiRdAbhfY4i40za5cAf3YNa0Q==''"
   ]
  },
  {
   "cell_type": "code",
   "execution_count": 22,
   "id": "d96cf163",
   "metadata": {},
   "outputs": [
    {
     "data": {
      "text/plain": [
       "'http://openapi.tour.go.kr/openapi/service/EdrcntTourismStatsService/getEdrcntTourismStatsList'"
      ]
     },
     "execution_count": 22,
     "metadata": {},
     "output_type": "execute_result"
    }
   ],
   "source": [
    "end_point = 'http://openapi.tour.go.kr/openapi/service' # end point\n",
    "url = end_point +'/EdrcntTourismStatsService' # 서비스\n",
    "url = url + '/getEdrcntTourismStatsList' # 오퍼레이션\n",
    "url\n"
   ]
  },
  {
   "cell_type": "code",
   "execution_count": 23,
   "id": "21f20fb5",
   "metadata": {},
   "outputs": [
    {
     "data": {
      "text/plain": [
       "200"
      ]
     },
     "execution_count": 23,
     "metadata": {},
     "output_type": "execute_result"
    }
   ],
   "source": [
    "# 파라미터\n",
    "params = { \n",
    "    '_type':'json'\n",
    "    ,'serviceKey': access_key\n",
    "    ,'YM':'202104'\n",
    "    ,'NAT_CD':'275' # 미국\n",
    "    ,'ED_CD':'E'\n",
    "}\n",
    "\n",
    "resp = requests.get(url,params=params)\n",
    "resp.status_code\n"
   ]
  },
  {
   "cell_type": "code",
   "execution_count": 26,
   "id": "232123ae",
   "metadata": {},
   "outputs": [
    {
     "ename": "KeyError",
     "evalue": "'resp'",
     "output_type": "error",
     "traceback": [
      "\u001b[1;31m---------------------------------------------------------------------------\u001b[0m",
      "\u001b[1;31mKeyError\u001b[0m                                  Traceback (most recent call last)",
      "Input \u001b[1;32mIn [26]\u001b[0m, in \u001b[0;36m<cell line: 2>\u001b[1;34m()\u001b[0m\n\u001b[0;32m      1\u001b[0m data \u001b[38;5;241m=\u001b[39m resp\u001b[38;5;241m.\u001b[39mjson()\n\u001b[1;32m----> 2\u001b[0m data_header \u001b[38;5;241m=\u001b[39m \u001b[43mdata\u001b[49m\u001b[43m[\u001b[49m\u001b[38;5;124;43m'\u001b[39;49m\u001b[38;5;124;43mresp\u001b[39;49m\u001b[38;5;124;43m'\u001b[39;49m\u001b[43m]\u001b[49m[\u001b[38;5;124m'\u001b[39m\u001b[38;5;124mheader\u001b[39m\u001b[38;5;124m'\u001b[39m]\n\u001b[0;32m      3\u001b[0m data_item \u001b[38;5;241m=\u001b[39m data[\u001b[38;5;124m'\u001b[39m\u001b[38;5;124mresp\u001b[39m\u001b[38;5;124m'\u001b[39m][\u001b[38;5;124m'\u001b[39m\u001b[38;5;124mbody\u001b[39m\u001b[38;5;124m'\u001b[39m][\u001b[38;5;124m'\u001b[39m\u001b[38;5;124mitems\u001b[39m\u001b[38;5;124m'\u001b[39m][\u001b[38;5;124m'\u001b[39m\u001b[38;5;124mitem\u001b[39m\u001b[38;5;124m'\u001b[39m]\n",
      "\u001b[1;31mKeyError\u001b[0m: 'resp'"
     ]
    }
   ],
   "source": [
    "data = resp.json()\n",
    "data_header = data['resp']['header']\n",
    "data_item = data['resp']['body']['items']['item']\n"
   ]
  },
  {
   "cell_type": "code",
   "execution_count": 24,
   "id": "2353381b",
   "metadata": {},
   "outputs": [
    {
     "data": {
      "text/plain": [
       "{'responseTime': '2022-06-16T13:05:08.683+09:00',\n",
       " 'resultCode': 30,\n",
       " 'resultMsg': 'SERVICE KEY IS NOT REGISTERED ERROR.'}"
      ]
     },
     "execution_count": 24,
     "metadata": {},
     "output_type": "execute_result"
    }
   ],
   "source": [
    "data_header"
   ]
  },
  {
   "cell_type": "code",
   "execution_count": 25,
   "id": "7993ff19",
   "metadata": {},
   "outputs": [
    {
     "ename": "NameError",
     "evalue": "name 'data_item' is not defined",
     "output_type": "error",
     "traceback": [
      "\u001b[1;31m---------------------------------------------------------------------------\u001b[0m",
      "\u001b[1;31mNameError\u001b[0m                                 Traceback (most recent call last)",
      "Input \u001b[1;32mIn [25]\u001b[0m, in \u001b[0;36m<cell line: 1>\u001b[1;34m()\u001b[0m\n\u001b[1;32m----> 1\u001b[0m \u001b[43mdata_item\u001b[49m\n",
      "\u001b[1;31mNameError\u001b[0m: name 'data_item' is not defined"
     ]
    }
   ],
   "source": [
    "data_item"
   ]
  },
  {
   "cell_type": "code",
   "execution_count": null,
   "id": "48296005",
   "metadata": {},
   "outputs": [],
   "source": [
    "if data_header['resultMsg'] == 'OK':\n",
    "    item_ed = data_item['ed']\n",
    "    item_edCd = data_item['edCd']\n",
    "    item_natCd = data_item['natCd']\n",
    "    item_natKorNm = data_item['natKorNm']\n",
    "    item_num = data_item['num']\n",
    "    item_ym = data_item['ym']\n",
    "    print(item_natKorNm,item_num, item_ym)\n"
   ]
  }
 ],
 "metadata": {
  "kernelspec": {
   "display_name": "Python 3 (ipykernel)",
   "language": "python",
   "name": "python3"
  },
  "language_info": {
   "codemirror_mode": {
    "name": "ipython",
    "version": 3
   },
   "file_extension": ".py",
   "mimetype": "text/x-python",
   "name": "python",
   "nbconvert_exporter": "python",
   "pygments_lexer": "ipython3",
   "version": "3.8.13"
  }
 },
 "nbformat": 4,
 "nbformat_minor": 5
}
