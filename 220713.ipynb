{
 "cells": [
  {
   "cell_type": "markdown",
   "id": "ceb103db",
   "metadata": {},
   "source": [
    "## 파이썬 자료구조\n",
    "- 열거형 객체 : 하나의 메모리 영역에 여러 개의 자료가 나열된 집합 자료구조\n",
    "- 자료구조 : 열거형 객체가 메모리에 배정될 때 기억공간에 적재되는 구조\n",
    "- 순서가 있는 자료구조와 순서가 없는 자료구조로 구분\n",
    "### 순서 있는 자료구조 Sequence Data Structure\n",
    "- str, list, tuple 클래스\n",
    "#### str\n",
    "- 문자들의 모음\n",
    "- 일정한 순서를 갖는다.\n",
    "- 색인을 이용하여 원소를 참조할 수 있다."
   ]
  },
  {
   "cell_type": "code",
   "execution_count": 53,
   "id": "3e9d1bf5",
   "metadata": {},
   "outputs": [
    {
     "name": "stdout",
     "output_type": "stream",
     "text": [
      "string\n",
      "<class 'str'>\n",
      "s\n",
      "g\n"
     ]
    }
   ],
   "source": [
    "# str 클래스 형식\n",
    "str_var = str(object='string')\n",
    "print(str_var)\n",
    "print(type(str_var))\n",
    "print(str_var[0])\n",
    "print(str_var[-1])"
   ]
  },
  {
   "cell_type": "code",
   "execution_count": 54,
   "id": "88011bd8",
   "metadata": {},
   "outputs": [
    {
     "name": "stdout",
     "output_type": "stream",
     "text": [
      "string\n",
      "<class 'str'>\n",
      "s\n",
      "g\n"
     ]
    }
   ],
   "source": [
    "# str 클래스 간편 형식\n",
    "str_var2 = 'string'\n",
    "print(str_var2)\n",
    "print(type(str_var2))\n",
    "print(str_var2[0])\n",
    "print(str_var2[-1])"
   ]
  },
  {
   "cell_type": "markdown",
   "id": "7e3dccbb",
   "metadata": {},
   "source": [
    "list [ ] or list()\n",
    "- 1차원 배열 구조\n",
    "    - 형식) list변수 = [값1, 값2,..]\n",
    "- 다양한 자료형 저장 가능\n",
    "- index 사용(순서 있음)\n",
    "    - 형식) list변수[index]\n",
    "- 값 수정(추가,삽입,수정,삭제)\n"
   ]
  },
  {
   "cell_type": "markdown",
   "id": "64828699",
   "metadata": {},
   "source": [
    "단일 list"
   ]
  },
  {
   "cell_type": "code",
   "execution_count": 55,
   "id": "eb5f4dd0",
   "metadata": {
    "scrolled": true
   },
   "outputs": [
    {
     "name": "stdout",
     "output_type": "stream",
     "text": [
      "[1, 2, 3, 4, 5]\n",
      "<class 'list'>\n",
      "[1]\n",
      "[1, 2]\n",
      "[1, 2, 3]\n",
      "[1, 2, 3, 4]\n",
      "[1, 2, 3, 4, 5]\n"
     ]
    }
   ],
   "source": [
    "# 단일 list 예\n",
    "lst = [1,2,3,4,5]\n",
    "print(lst)\n",
    "print(type(lst))\n",
    "for i in lst :\n",
    "    print(lst[:i]) # i 전까지"
   ]
  },
  {
   "cell_type": "code",
   "execution_count": 56,
   "id": "9d0b92c3",
   "metadata": {},
   "outputs": [
    {
     "name": "stdout",
     "output_type": "stream",
     "text": [
      "[1, 2, 3, 4, 5]\n",
      "[2, 3, 4, 5]\n",
      "[3, 4, 5]\n",
      "[4, 5]\n",
      "[5]\n"
     ]
    }
   ],
   "source": [
    "for i in lst :\n",
    "    print(lst[i-1: ])"
   ]
  },
  {
   "cell_type": "code",
   "execution_count": 57,
   "id": "9c5a1533",
   "metadata": {},
   "outputs": [
    {
     "name": "stdout",
     "output_type": "stream",
     "text": [
      "[1, 2, 3, 4, 5, 6, 7, 8, 9, 10]\n",
      "[1, 2, 3, 4, 5]\n",
      "[6, 7, 8, 9, 10]\n"
     ]
    }
   ],
   "source": [
    "x = list(range(1, 11))\n",
    "print(x)\n",
    "print(x[:5]) # [1, 2, 3, 4, 5]\n",
    "print(x[-5:]) # [96, 97, 98, 99, 100]"
   ]
  },
  {
   "cell_type": "code",
   "execution_count": 58,
   "id": "c949ae55",
   "metadata": {},
   "outputs": [
    {
     "name": "stdout",
     "output_type": "stream",
     "text": [
      "index 2씩 증가 \n",
      "[1, 3, 5, 7, 9]\n",
      "[2, 4, 6, 8, 10]\n"
     ]
    }
   ],
   "source": [
    "print('index 2씩 증가 ')\n",
    "print(x[::2]) # 홀수 \n",
    "print(x[1::2]) # 짝수(index 1부터 시작) "
   ]
  },
  {
   "cell_type": "markdown",
   "id": "916fa77e",
   "metadata": {},
   "source": [
    "중첩 list 생성"
   ]
  },
  {
   "cell_type": "code",
   "execution_count": 59,
   "id": "6ca71a3f",
   "metadata": {},
   "outputs": [
    {
     "name": "stdout",
     "output_type": "stream",
     "text": [
      "10\n",
      "['a', 'b', 'c']\n",
      "a\n",
      "['b', 'c']\n"
     ]
    }
   ],
   "source": [
    "a = ['a', 'b', 'c']  # list 생성 \n",
    "b = [10, 20, a, 5, True, '문자열'] # 서로 다른 type 가능\n",
    "print(b[0]) # 10\n",
    "print(b[2]) # ['a', 'b', 'c'] -> 중첩 list \n",
    "print(b[2][0]) # a  -> 중첩 list 1번 원소 \n",
    "print(b[2][1:]) # ['b', 'c'] -> 중첩 list 2번 이후 원소 "
   ]
  },
  {
   "cell_type": "code",
   "execution_count": 60,
   "id": "9eae6d37",
   "metadata": {},
   "outputs": [
    {
     "name": "stdout",
     "output_type": "stream",
     "text": [
      "<class 'list'> <class 'list'>\n",
      "1432193173952 1432193194880\n"
     ]
    }
   ],
   "source": [
    "# 자료구조 확인\n",
    "print(type(a), type(b)) # <class 'list'>\n",
    "print(id(a), id(b)) # 40648584 40647432"
   ]
  },
  {
   "cell_type": "code",
   "execution_count": 61,
   "id": "73bbf12d",
   "metadata": {
    "scrolled": true
   },
   "outputs": [
    {
     "name": "stdout",
     "output_type": "stream",
     "text": [
      "['one', 'two', 'three', 'four']\n",
      "4\n",
      "['one', 'two', 'three', 'four', 'five']\n",
      "['one', 'two', 'three', 'four']\n",
      "['one', 'two', 'three', '4']\n"
     ]
    }
   ],
   "source": [
    "# 추가,삭제,수정,삽입\n",
    "num = ['one', 'two', 'three', 'four']\n",
    "\n",
    "print(num) # ['one', 'two', 'three', 'four']\n",
    "print(len(num)) # 4\n",
    "\n",
    "num.append('five') # 추가\n",
    "print(num) # ['one', 'two', 'three', 'four', 'five']\n",
    "\n",
    "num.remove('five') # 삭제 \n",
    "print(num)\n",
    "\n",
    "num[3] = '4' # 수정 \n",
    "print(num)"
   ]
  },
  {
   "cell_type": "markdown",
   "id": "07f7aca1",
   "metadata": {},
   "source": [
    "list 연산\n"
   ]
  },
  {
   "cell_type": "code",
   "execution_count": 62,
   "id": "f59e9e53",
   "metadata": {},
   "outputs": [
    {
     "name": "stdout",
     "output_type": "stream",
     "text": [
      "[1, 2, 3, 4, 1.5, 2.5]\n"
     ]
    }
   ],
   "source": [
    "# list 결합 \n",
    "x =  [1, 2, 3, 4]\n",
    "y = [1.5, 2.5]\n",
    "z = x + y  # new object\n",
    "print(z) # [1, 2, 3, 4, 1.5, 2.5]"
   ]
  },
  {
   "cell_type": "code",
   "execution_count": 63,
   "id": "e6c45a3e",
   "metadata": {},
   "outputs": [
    {
     "name": "stdout",
     "output_type": "stream",
     "text": [
      "['one', 'two', 'three', '4']\n"
     ]
    }
   ],
   "source": [
    "print(num)"
   ]
  },
  {
   "cell_type": "code",
   "execution_count": 64,
   "id": "8ddcf038",
   "metadata": {},
   "outputs": [],
   "source": [
    "num.append('five')"
   ]
  },
  {
   "cell_type": "code",
   "execution_count": 65,
   "id": "edc7d1f1",
   "metadata": {},
   "outputs": [
    {
     "name": "stdout",
     "output_type": "stream",
     "text": [
      "['one', 'two', 'three', '4', 'five']\n"
     ]
    }
   ],
   "source": [
    "print(num)"
   ]
  },
  {
   "cell_type": "code",
   "execution_count": 66,
   "id": "16996819",
   "metadata": {},
   "outputs": [
    {
     "name": "stdout",
     "output_type": "stream",
     "text": [
      "[1, 2, 3, 4, 1.5, 2.5]\n"
     ]
    }
   ],
   "source": [
    "# list 확장 \n",
    "x.extend(y)  # x 확장 \n",
    "print(x) # [1, 2, 3, 4, 1.5, 2.5]"
   ]
  },
  {
   "cell_type": "code",
   "execution_count": 67,
   "id": "a967778b",
   "metadata": {
    "scrolled": true
   },
   "outputs": [
    {
     "name": "stdout",
     "output_type": "stream",
     "text": [
      "[1, 2, 3, 4, 1.5, 2.5, [1.5, 2.5]]\n"
     ]
    }
   ],
   "source": [
    "# list 추가 \n",
    "x.append(y) # x 추가 \n",
    "print(x) # [1, 2, 3, 4, 1.5, 2.5, [1.5, 2.5]]"
   ]
  },
  {
   "cell_type": "code",
   "execution_count": 68,
   "id": "d8bac7b0",
   "metadata": {},
   "outputs": [
    {
     "name": "stdout",
     "output_type": "stream",
     "text": [
      "[1, 2, 3, 4, 1, 2, 3, 4]\n"
     ]
    }
   ],
   "source": [
    "# list 제곱  \n",
    "lst = [1, 2, 3, 4] # list 생성\n",
    "\n",
    "# lst 원소를 2개씩 생성하여 result 저장\n",
    "result = lst * 2 # 각 원소 연산 안됨 \n",
    "print(result) # [1, 2, 3, 4, 1, 2, 3, 4]"
   ]
  },
  {
   "cell_type": "code",
   "execution_count": 69,
   "id": "8bd4e72b",
   "metadata": {
    "scrolled": true
   },
   "outputs": [
    {
     "name": "stdout",
     "output_type": "stream",
     "text": [
      "1.5 * 2 =  3.0\n"
     ]
    }
   ],
   "source": [
    "# list 사칙연산 : 원소 대상 \n",
    "print('1.5 * 2 = ', y[0] * 2) # 1.5 * 2 =  3.0"
   ]
  },
  {
   "cell_type": "code",
   "execution_count": 70,
   "id": "b2ca5f7a",
   "metadata": {
    "scrolled": true
   },
   "outputs": [
    {
     "name": "stdout",
     "output_type": "stream",
     "text": [
      "[1, 2, 3, 4, 1, 2, 3, 4]\n",
      "[1, 1, 2, 2, 3, 3, 4, 4]\n",
      "[4, 4, 3, 3, 2, 2, 1, 1]\n"
     ]
    }
   ],
   "source": [
    "# list 정렬과 원소 찾기\n",
    "print(result) # [1, 2, 3, 4, 1, 2, 3, 4]\n",
    "\n",
    "result.sort() # 오름차순 정렬 \n",
    "print(result) #[1, 1, 2, 2, 3, 3, 4, 4]\n",
    "\n",
    "result.sort(reverse = True) # 내림차순 정렬 \n",
    "print(result) # [4, 4, 3, 3, 2, 2, 1, 1]"
   ]
  },
  {
   "cell_type": "code",
   "execution_count": 71,
   "id": "a134534f",
   "metadata": {},
   "outputs": [],
   "source": [
    "# list에서 원소 찾기\n",
    "tmp='''\n",
    "if '원소' in list : \n",
    "    참 실행문 : list에 '원소' 포함 \n",
    "else :\n",
    "    거짓 실행문 : 미 포함 \n",
    "'''\n"
   ]
  },
  {
   "cell_type": "code",
   "execution_count": 72,
   "id": "238b84e6",
   "metadata": {
    "scrolled": true
   },
   "outputs": [
    {
     "name": "stdout",
     "output_type": "stream",
     "text": [
      "[5, 5, 2, 5, 5]\n",
      "없음\n"
     ]
    }
   ],
   "source": [
    "import random\n",
    "\n",
    "r = []\n",
    "for i in range(5) :\n",
    "    r.append(random.randint(1,5))\n",
    "\n",
    "print(r)\n",
    "    \n",
    "if 4 in r :\n",
    "    print('있음')\n",
    "else :\n",
    "    print('없음')\n"
   ]
  },
  {
   "cell_type": "markdown",
   "id": "d2e9d562",
   "metadata": {},
   "source": [
    "### 리스트 내포\n",
    "- list에 for문 포함\n",
    "- 형식1) 변수 = [ 실행문 for ]\n",
    "    - 실행순서 : 1.for문 > 2.실행문 > 3.변수 저장\n",
    "- 형식2) 변수 = [ 실행문 for if ]\n",
    "    - 실행순서 : 1.for문 > 2.if > [3.실행문 > 4.변수 저장]\n"
   ]
  },
  {
   "cell_type": "code",
   "execution_count": 73,
   "id": "39c7b38c",
   "metadata": {},
   "outputs": [],
   "source": [
    "# x변량에 제곱 계산\n",
    "x = [2,4,1,5,7]\n",
    "# print(x ** 2) # error"
   ]
  },
  {
   "cell_type": "code",
   "execution_count": 74,
   "id": "41bacdc4",
   "metadata": {},
   "outputs": [
    {
     "name": "stdout",
     "output_type": "stream",
     "text": [
      "[4, 16, 1, 25, 49]\n"
     ]
    }
   ],
   "source": [
    "lst = [ i ** 2   for i in x ]\n",
    "print(lst) # [4, 16, 1, 25, 49]\n"
   ]
  },
  {
   "cell_type": "code",
   "execution_count": 75,
   "id": "d309855a",
   "metadata": {},
   "outputs": [
    {
     "name": "stdout",
     "output_type": "stream",
     "text": [
      "['one', 'two', 'three', 'four']\n",
      "4\n",
      "['one', 'two', 'three', 'four', 'five']\n",
      "['one', 'two', 'three', 'four']\n",
      "['one', 'two', 'three', '4']\n"
     ]
    }
   ],
   "source": [
    "# 추가,삭제,수정,삽입\n",
    "num = ['one', 'two', 'three', 'four']\n",
    "\n",
    "print(num) # ['one', 'two', 'three', 'four']\n",
    "print(len(num)) # 4\n",
    "\n",
    "num.append('five') # 추가\n",
    "print(num) # ['one', 'two', 'three', 'four', 'five']\n",
    "\n",
    "num.remove('five') # 삭제 \n",
    "print(num)\n",
    "\n",
    "num[3] = '4' # 수정 \n",
    "print(num)\n"
   ]
  },
  {
   "cell_type": "code",
   "execution_count": 76,
   "id": "a9381479",
   "metadata": {
    "scrolled": true
   },
   "outputs": [
    {
     "name": "stdout",
     "output_type": "stream",
     "text": [
      "[4, 8, 12, 16, 20]\n"
     ]
    }
   ],
   "source": [
    "# 1~10 -> 2의 배수 추출 -> i*2 -> list 저장\n",
    "num = [1,2,3,4,5,6,7,8,9,10]\n",
    "lst2 = [ i*2  for i in num  if i % 2 == 0  ]\n",
    "print(lst2)"
   ]
  },
  {
   "cell_type": "markdown",
   "id": "53f8d800",
   "metadata": {},
   "source": [
    "#### tuple () or tuple()\n",
    "- 순서존재(index 사용 가능)\n",
    "- 수정 불가\n",
    "- 문자열 원소 표현\n",
    "- list 속도 빠름\n",
    "- 제공 함수 없음\n",
    "- 형식) (원소1, 원소2, ...n) : () 생략 가능\n"
   ]
  },
  {
   "cell_type": "code",
   "execution_count": 77,
   "id": "971ceb27",
   "metadata": {},
   "outputs": [],
   "source": [
    "#help(tuple) # Help on class tuple in module builtins\n"
   ]
  },
  {
   "cell_type": "code",
   "execution_count": 78,
   "id": "6b2f3821",
   "metadata": {},
   "outputs": [
    {
     "name": "stdout",
     "output_type": "stream",
     "text": [
      "10\n",
      "10 (10,)\n"
     ]
    }
   ],
   "source": [
    "# 단일 인수\n",
    "t = 10 ; t1 = (10, )\n",
    "t = 10\n",
    "t = (10)\n",
    "print(t)\n",
    "print(t, t1) # 10 (10,)\n"
   ]
  },
  {
   "cell_type": "code",
   "execution_count": 79,
   "id": "1e3a8649",
   "metadata": {},
   "outputs": [
    {
     "name": "stdout",
     "output_type": "stream",
     "text": [
      "(1, 2, 3, 4, 5, 3)\n"
     ]
    }
   ],
   "source": [
    "# 여러개 인수\n",
    "t2 = (1,2,3,4,5,3)\n",
    "print(t2) # (1, 2, 3, 4, 5, 3)\n"
   ]
  },
  {
   "cell_type": "code",
   "execution_count": 80,
   "id": "35c2d251",
   "metadata": {},
   "outputs": [
    {
     "name": "stdout",
     "output_type": "stream",
     "text": [
      "1 (2, 3, 4) 3\n"
     ]
    }
   ],
   "source": [
    "# index\n",
    "print(t2[0], t2[1:4], t2[-1]) # 1 (2, 3, 4) 5\n"
   ]
  },
  {
   "cell_type": "code",
   "execution_count": 81,
   "id": "1522619f",
   "metadata": {},
   "outputs": [],
   "source": [
    "#  수정 불가 \n",
    "# t2[0] = 10 # error\n"
   ]
  },
  {
   "cell_type": "code",
   "execution_count": 82,
   "id": "2f142e37",
   "metadata": {},
   "outputs": [
    {
     "name": "stdout",
     "output_type": "stream",
     "text": [
      "1 2 3 4 5 3 "
     ]
    }
   ],
   "source": [
    "for i in t2 :\n",
    "    print(i, end=' ')"
   ]
  },
  {
   "cell_type": "code",
   "execution_count": 83,
   "id": "2afd8043",
   "metadata": {},
   "outputs": [
    {
     "name": "stdout",
     "output_type": "stream",
     "text": [
      "6 없음\n"
     ]
    }
   ],
   "source": [
    "# 요소 검사\n",
    "if 6 in t2 :\n",
    "    print(\"6 있음\")\n",
    "else :\n",
    "    print(\"6 없음\")\n"
   ]
  },
  {
   "cell_type": "code",
   "execution_count": 84,
   "id": "205b271c",
   "metadata": {},
   "outputs": [
    {
     "name": "stdout",
     "output_type": "stream",
     "text": [
      "(1, 2, 3, 4, 5)\n",
      "5 <class 'tuple'>\n",
      "1\n",
      "3\n"
     ]
    }
   ],
   "source": [
    "# tuple 함수\n",
    "lst = list(range(1,6))\n",
    "t3 = tuple(lst)\n",
    "print(t3) # (1, 2, 3, 4, 5, 3)\n",
    "print(len(t3), type(t3)) # 5 <class 'tuple'>\n",
    "print(t3.count(3)) # 1\n",
    "print(t3.index(4)) # 4의 색인 위치 값 -> 3\n"
   ]
  },
  {
   "cell_type": "markdown",
   "id": "7ac6b0fa",
   "metadata": {},
   "source": [
    "순서 없는 자료구조 None-Sequence Data Structure\n"
   ]
  },
  {
   "cell_type": "markdown",
   "id": "6d0c18aa",
   "metadata": {},
   "source": [
    "- set, dict 클래스\n",
    "#### set {} or set()\n",
    "- 순서 없음, 중복 허용 불가\n",
    "- 형식) 변수 = {값1, 값2,...}\n",
    "- 집합 개념\n"
   ]
  },
  {
   "cell_type": "code",
   "execution_count": 85,
   "id": "926bca48",
   "metadata": {},
   "outputs": [
    {
     "name": "stdout",
     "output_type": "stream",
     "text": [
      "3\n",
      "{1, 3, 5}\n"
     ]
    }
   ],
   "source": [
    "# 중복 불가\n",
    "s = {1,3,5,3,1}\n",
    "print(len(s)) # 3\n",
    "print(s) # {1, 3, 5}\n"
   ]
  },
  {
   "cell_type": "markdown",
   "id": "bf0744d9",
   "metadata": {},
   "source": [
    "파이썬의 자료 구조는 순서가 있는 자료구조와 없는 자료 구조로 나눌수 있구나!"
   ]
  },
  {
   "cell_type": "code",
   "execution_count": 86,
   "id": "8d54c2bd",
   "metadata": {},
   "outputs": [
    {
     "name": "stdout",
     "output_type": "stream",
     "text": [
      "1 3 5 "
     ]
    }
   ],
   "source": [
    "# for + set 이용\n",
    "for d in s :\n",
    "    print(d, end=' ')  # 1 3 5\n"
   ]
  },
  {
   "cell_type": "code",
   "execution_count": 87,
   "id": "a96fa93b",
   "metadata": {},
   "outputs": [],
   "source": [
    "s = {1,3,5,3,1}"
   ]
  },
  {
   "cell_type": "code",
   "execution_count": 88,
   "id": "a98d66d0",
   "metadata": {
    "scrolled": true
   },
   "outputs": [
    {
     "name": "stdout",
     "output_type": "stream",
     "text": [
      "{1, 3, 5, 6}\n",
      "{1, 5}\n",
      "{3}\n"
     ]
    }
   ],
   "source": [
    "# 집합관련 함수\n",
    "s2 = {3, 6}\n",
    "print(s.union(s2)) # 합집합 : s + s2 = {1, 3, 5, 6}\n",
    "print(s.difference(s2)) # 차집합 : s - s2 = {1, 5}\n",
    "print(s.intersection(s2)) # 교집합 : {3}"
   ]
  },
  {
   "cell_type": "code",
   "execution_count": 89,
   "id": "5a3f2be1",
   "metadata": {},
   "outputs": [
    {
     "name": "stdout",
     "output_type": "stream",
     "text": [
      "{1, 3, 5}\n"
     ]
    }
   ],
   "source": [
    "# 추가, 수정, 삭제 함수\n",
    "s3 = {1, 3, 5}\n",
    "print(s3)\n"
   ]
  },
  {
   "cell_type": "code",
   "execution_count": 90,
   "id": "b415fdc4",
   "metadata": {
    "scrolled": true
   },
   "outputs": [
    {
     "name": "stdout",
     "output_type": "stream",
     "text": [
      "{1, 3, 5, 7}\n"
     ]
    }
   ],
   "source": [
    "# 원소 추가 \n",
    "s3.add(7) \n",
    "print(s3) # {1, 3, 5, 7}\n"
   ]
  },
  {
   "cell_type": "code",
   "execution_count": 91,
   "id": "1f07b57f",
   "metadata": {
    "scrolled": true
   },
   "outputs": [
    {
     "name": "stdout",
     "output_type": "stream",
     "text": [
      "{1, 3, 5, 7, '다섯'}\n"
     ]
    }
   ],
   "source": [
    "# 원소 수정\n",
    "s3.update([5, '다섯'])\n",
    "print(s3)\n"
   ]
  },
  {
   "cell_type": "code",
   "execution_count": 92,
   "id": "1313b7de",
   "metadata": {},
   "outputs": [
    {
     "name": "stdout",
     "output_type": "stream",
     "text": [
      "{1, 5, 7, '다섯'}\n"
     ]
    }
   ],
   "source": [
    "# 원소 삭제\n",
    "s3.discard(3) \n",
    "print(s3) # {1, 5, 7}"
   ]
  },
  {
   "cell_type": "code",
   "execution_count": 93,
   "id": "f7061af5",
   "metadata": {
    "scrolled": true
   },
   "outputs": [
    {
     "name": "stdout",
     "output_type": "stream",
     "text": [
      "['남', '여']\n",
      "여\n"
     ]
    }
   ],
   "source": [
    "# 중복 데이터 제거\n",
    "gender = ['남','여','남','여']\n",
    "sgender = set(gender) # list -> set\n",
    "lgender = list(sgender) # set -> list\n",
    "print(lgender) # ['남', '여']\n",
    "\n",
    "print(lgender[1])"
   ]
  },
  {
   "cell_type": "markdown",
   "id": "6a8ce79d",
   "metadata": {},
   "source": [
    "#### dict {k:v}, dict()\n",
    "- {'key':value, 'key':value, ...}\n",
    "- json 형식, R의 list 동일\n",
    "- key 접근만 가능함(index, value 사용 불가)\n",
    "- key 중복 불가\n",
    "- 출력 순서 random\n",
    "\n",
    "##### dict 생성 방법1\n"
   ]
  },
  {
   "cell_type": "code",
   "execution_count": 94,
   "id": "2de46d3c",
   "metadata": {},
   "outputs": [
    {
     "name": "stdout",
     "output_type": "stream",
     "text": [
      "{'key1': 100, 'key2': 200, 'key3': 300}\n"
     ]
    }
   ],
   "source": [
    "dic = dict(key1 = 100, key2 = 200, key3 = 300)\n",
    "print(dic) # {'key2': 200, 'key1': 100, 'key3': 300}\n"
   ]
  },
  {
   "cell_type": "markdown",
   "id": "0d3399e0",
   "metadata": {},
   "source": [
    "dict 생성 방법2\n"
   ]
  },
  {
   "cell_type": "code",
   "execution_count": 95,
   "id": "507c139f",
   "metadata": {},
   "outputs": [
    {
     "name": "stdout",
     "output_type": "stream",
     "text": [
      "{'name': '홍길동', 'age': 35, 'address': '서울시'}\n",
      "홍길동\n"
     ]
    }
   ],
   "source": [
    "person = {'name':'홍길동', 'age': 35, 'address' : '서울시'}\n",
    "print(person)\n",
    "print( person['name']) # index : key\n"
   ]
  },
  {
   "cell_type": "code",
   "execution_count": 96,
   "id": "b1189716",
   "metadata": {},
   "outputs": [
    {
     "name": "stdout",
     "output_type": "stream",
     "text": [
      "<class 'dict'> <class 'dict'>\n"
     ]
    }
   ],
   "source": [
    "print(type(dic), type(person))\n"
   ]
  },
  {
   "cell_type": "markdown",
   "id": "fe73e135",
   "metadata": {},
   "source": [
    "원소 수정, 삭제, 추가\n"
   ]
  },
  {
   "cell_type": "code",
   "execution_count": 97,
   "id": "97cec040",
   "metadata": {
    "scrolled": true
   },
   "outputs": [
    {
     "name": "stdout",
     "output_type": "stream",
     "text": [
      "{'name': '홍길동', 'age': 45, 'address': '서울시'}\n"
     ]
    }
   ],
   "source": [
    "# dict 원소 수정 \n",
    "person['age'] = 45\n",
    "print(person)\n"
   ]
  },
  {
   "cell_type": "code",
   "execution_count": 98,
   "id": "539a6680",
   "metadata": {},
   "outputs": [
    {
     "name": "stdout",
     "output_type": "stream",
     "text": [
      "{'name': '홍길동', 'age': 45}\n"
     ]
    }
   ],
   "source": [
    "# dict 원소 삭제\n",
    "del person['address']\n",
    "print(person) # {'name': '홍길동', 'age': 45}"
   ]
  },
  {
   "cell_type": "code",
   "execution_count": 99,
   "id": "1aeac50a",
   "metadata": {},
   "outputs": [
    {
     "name": "stdout",
     "output_type": "stream",
     "text": [
      "{'name': '홍길동', 'age': 45, 'pay': 350}\n"
     ]
    }
   ],
   "source": [
    "# dict 원소 추가 \n",
    "person['pay'] = 350\n",
    "print(person) # {'name': '홍길동', 'pay': 350, 'age': 45}"
   ]
  },
  {
   "cell_type": "code",
   "execution_count": 100,
   "id": "97b28443",
   "metadata": {},
   "outputs": [
    {
     "name": "stdout",
     "output_type": "stream",
     "text": [
      "45\n",
      "True\n"
     ]
    }
   ],
   "source": [
    "# 요소 검사\n",
    "print(person['age']) # 45\n",
    "print('age' in person) # True"
   ]
  },
  {
   "cell_type": "code",
   "execution_count": 101,
   "id": "3c3f29da",
   "metadata": {},
   "outputs": [
    {
     "name": "stdout",
     "output_type": "stream",
     "text": [
      "name\n",
      "age\n",
      "pay\n"
     ]
    }
   ],
   "source": [
    "# 요소 반복\n",
    "for key in person.keys() : # key 넘김 \n",
    "    print(key) # key 출력 "
   ]
  },
  {
   "cell_type": "code",
   "execution_count": 102,
   "id": "04dfe934",
   "metadata": {},
   "outputs": [
    {
     "name": "stdout",
     "output_type": "stream",
     "text": [
      "홍길동\n",
      "45\n",
      "350\n"
     ]
    }
   ],
   "source": [
    "for v in person.values() : # value 넘김 \n",
    "    print(v) # value 출력  \n"
   ]
  },
  {
   "cell_type": "code",
   "execution_count": 103,
   "id": "2fdbfd7d",
   "metadata": {},
   "outputs": [
    {
     "name": "stdout",
     "output_type": "stream",
     "text": [
      "('name', '홍길동')\n",
      "('age', 45)\n",
      "('pay', 350)\n"
     ]
    }
   ],
   "source": [
    "for i in person.items() : # item 넘김 \n",
    "    print(i) # ('name', '홍길동')\n"
   ]
  },
  {
   "cell_type": "code",
   "execution_count": 104,
   "id": "762cf0ec",
   "metadata": {
    "scrolled": true
   },
   "outputs": [
    {
     "name": "stdout",
     "output_type": "stream",
     "text": [
      "홍길동\n",
      "홍길동\n"
     ]
    }
   ],
   "source": [
    "# 키로 값 가져오기 : get(key)\n",
    "print( person['name']) # index 형식\n",
    "print( person.get('name')) # get함수 -> 홍길동 \n"
   ]
  },
  {
   "cell_type": "code",
   "execution_count": 105,
   "id": "948f9918",
   "metadata": {},
   "outputs": [
    {
     "name": "stdout",
     "output_type": "stream",
     "text": [
      "{}\n"
     ]
    }
   ],
   "source": [
    "# 내용 지우기 obj.clear()\n",
    "person.clear()\n",
    "print(person) # {}\n"
   ]
  },
  {
   "cell_type": "code",
   "execution_count": 106,
   "id": "f097cf18",
   "metadata": {},
   "outputs": [],
   "source": [
    "#  {key : [val1, val2]} - {'영화' : [평점, 관객수]}\n",
    "movie = {'광해' : [9.24, 1200], \n",
    "         '공작' : [7.86, 500], \n",
    "         '관상' : [8.01, 900],}\n"
   ]
  },
  {
   "cell_type": "code",
   "execution_count": 107,
   "id": "52633fa6",
   "metadata": {},
   "outputs": [
    {
     "name": "stdout",
     "output_type": "stream",
     "text": [
      "('광해', [9.24, 1200])\n",
      "('공작', [7.86, 500])\n",
      "('관상', [8.01, 900])\n"
     ]
    }
   ],
   "source": [
    "for r in movie.items() :\n",
    "    print(r)"
   ]
  },
  {
   "cell_type": "code",
   "execution_count": 108,
   "id": "2ace696c",
   "metadata": {},
   "outputs": [
    {
     "name": "stdout",
     "output_type": "stream",
     "text": [
      "광해 [9.24, 1200]\n",
      "공작 [7.86, 500]\n",
      "관상 [8.01, 900]\n"
     ]
    }
   ],
   "source": [
    "for r, d in movie.items() :\n",
    "    print(r, d)   "
   ]
  },
  {
   "cell_type": "code",
   "execution_count": 109,
   "id": "3009e223",
   "metadata": {},
   "outputs": [
    {
     "name": "stdout",
     "output_type": "stream",
     "text": [
      "광해\n",
      "관상\n",
      "누적 관객수 =  2,100\n"
     ]
    }
   ],
   "source": [
    "tot = 0\n",
    "for r, d in movie.items() :\n",
    "    if d[0]  >= 8.0 :\n",
    "        print(r)  # 광해 관상\n",
    "        tot += d[1]\n",
    "print('누적 관객수 = ', format(tot, '3,d'))"
   ]
  },
  {
   "cell_type": "markdown",
   "id": "0ac4a7ce",
   "metadata": {},
   "source": [
    "[실습] 문자 빈도수 구하기[1]\n"
   ]
  },
  {
   "cell_type": "code",
   "execution_count": 110,
   "id": "76aea7a9",
   "metadata": {},
   "outputs": [
    {
     "name": "stdout",
     "output_type": "stream",
     "text": [
      "{'abc': 2, 'code': 1, 'band': 3}\n"
     ]
    }
   ],
   "source": [
    "charset = ['abc', 'code', 'band', 'band', 'abc','band']\n",
    "wc = {}\n",
    "\n",
    "for ch in charset :\n",
    "    if ch in wc :\n",
    "        wc[ch] += 1 # key이용 : 수정  \n",
    "    else :\n",
    "        wc[ch] = 1\n",
    "        \n",
    "print(wc) # {'a': 1, 'c': 0, 'b': 1}\n"
   ]
  },
  {
   "cell_type": "code",
   "execution_count": 111,
   "id": "fa0bd08e",
   "metadata": {
    "scrolled": true
   },
   "outputs": [
    {
     "name": "stdout",
     "output_type": "stream",
     "text": [
      "max =  band\n"
     ]
    }
   ],
   "source": [
    "# 최고 출현 단어\n",
    "print('max = ', max(wc, key=wc.get)) \n"
   ]
  },
  {
   "cell_type": "code",
   "execution_count": 112,
   "id": "27a06553",
   "metadata": {},
   "outputs": [
    {
     "name": "stdout",
     "output_type": "stream",
     "text": [
      "['band', 'abc', 'code']\n",
      "['code', 'abc', 'band']\n"
     ]
    }
   ],
   "source": [
    "# 출현 빈도수 단어 정렬\n",
    "print(sorted(wc, key=wc.get, reverse=True)) \n",
    "print(sorted(wc, key=wc.get)) \n"
   ]
  },
  {
   "cell_type": "markdown",
   "id": "837824f4",
   "metadata": {},
   "source": [
    "#### [실습] 문자 빈도수 구하기[2]\n",
    "- get(key, 0) + 1\n",
    "- 해당 key의 값이 없으면 0, 있으면 기존 값에 +1\n"
   ]
  },
  {
   "cell_type": "code",
   "execution_count": 113,
   "id": "c7dd2ec4",
   "metadata": {},
   "outputs": [
    {
     "name": "stdout",
     "output_type": "stream",
     "text": [
      "{'abc': 2, 'code': 1, 'band': 2}\n"
     ]
    }
   ],
   "source": [
    "charset = ['abc', 'code', 'band', 'band', 'abc']\n",
    "wc = {}\n",
    "\n",
    "for key in charset : \n",
    "    # get()함수 : key 이용 value 가져오기 \n",
    "    wc[key] = wc.get(key, 0) + 1 # get() 이용\n",
    "\n",
    "print(wc)\n"
   ]
  },
  {
   "cell_type": "markdown",
   "id": "0eb7593a",
   "metadata": {},
   "source": [
    "### 객체 복사\n",
    "- 얕은 복사 : 객체의 주소 복사\n",
    "- 깊은 복사 : 객체의 데이터 복사, deepcopy() 사용\n"
   ]
  },
  {
   "cell_type": "code",
   "execution_count": 114,
   "id": "27c9e891",
   "metadata": {},
   "outputs": [
    {
     "name": "stdout",
     "output_type": "stream",
     "text": [
      "name address = 1432193219328\n",
      "name2 address = 1432193219328\n",
      "['홍길동', '이순신', '강감찬']\n",
      "['홍길동', '이순신', '강감찬']\n"
     ]
    }
   ],
   "source": [
    "# 1. 얕은 복사 : 주소 복사(내용, 주소 동일)\n",
    "name = ['홍길동', '이순신', '강감찬']\n",
    "print('name address =', id(name)) \n",
    "\n",
    "name2 = name # 주소 복사\n",
    "print('name2 address =', id(name2)) \n",
    "\n",
    "print(name)\n",
    "print(name2)\n"
   ]
  },
  {
   "cell_type": "code",
   "execution_count": 115,
   "id": "9b86e356",
   "metadata": {},
   "outputs": [
    {
     "name": "stdout",
     "output_type": "stream",
     "text": [
      "['홍길순', '이순신', '강감찬']\n",
      "['홍길순', '이순신', '강감찬']\n"
     ]
    }
   ],
   "source": [
    "name2[0] = '홍길순'\n",
    "print(name)\n",
    "print(name2)"
   ]
  },
  {
   "cell_type": "code",
   "execution_count": 116,
   "id": "9d02d22b",
   "metadata": {},
   "outputs": [
    {
     "name": "stdout",
     "output_type": "stream",
     "text": [
      "['홍길순', '이순신', '강감찬']\n",
      "['홍길순', '이순신', '강감찬']\n",
      "name address = 1432193219328\n",
      "name3 address = 1432193216576\n",
      "['홍길순', '이순신장군', '강감찬']\n",
      "['홍길순', '이순신', '강감찬']\n"
     ]
    }
   ],
   "source": [
    "# 2. 깊은 복사 : 내용 복사(내용 동일, 주소 다름)\n",
    "import copy \n",
    "name3 = copy.deepcopy(name)\n",
    "print(name)\n",
    "print(name3)\n",
    "\n",
    "print('name address =', id(name)) \n",
    "print('name3 address =', id(name3)) \n",
    "\n",
    "# 원본 수정 \n",
    "name[1] = \"이순신장군\"\n",
    "print(name)\n",
    "print(name3)\n"
   ]
  },
  {
   "cell_type": "code",
   "execution_count": 117,
   "id": "fdcc1b35",
   "metadata": {},
   "outputs": [
    {
     "name": "stdout",
     "output_type": "stream",
     "text": [
      "name address = 1432193219328\n",
      "name4 address = 1432193218304\n"
     ]
    }
   ],
   "source": [
    "# 슬라이스 사용 복사\n",
    "name4 = name[:]\n",
    "print('name address =', id(name)) # 2049488\n",
    "print('name4 address =', id(name4)) # 6933520\n"
   ]
  },
  {
   "cell_type": "markdown",
   "id": "23cdcbab",
   "metadata": {},
   "source": [
    "## 알고리즘\n",
    "- 어떤 문제를 해결하기 위한 일련의 절차\n",
    "\n",
    "#### 알고리즘 조건\n",
    "- 입력 : 외부에서 제공되는 자료가 있을 수 있다\n",
    "- 출력 : 적어도 한 가지 이상의 결과가 나올 수 있다\n",
    "- 명백성 : 각 명령들은 애매한 부분 없이 간단명료해야 한다\n",
    "- 유한성 : 반드시 종료 조건이 있어야 한다\n",
    "- 효과성 : 모든 명령들은 명백하고 실행 가능한 것이어야 한다\n"
   ]
  },
  {
   "cell_type": "markdown",
   "id": "40028e15",
   "metadata": {},
   "source": [
    "### 1. 최댓값/최솟값\n"
   ]
  },
  {
   "cell_type": "code",
   "execution_count": 118,
   "id": "8e72ca70",
   "metadata": {},
   "outputs": [
    {
     "name": "stdout",
     "output_type": "stream",
     "text": [
      "[45, 61, 88, 53, 73, 14, 74, 46, 62, 89]\n"
     ]
    }
   ],
   "source": [
    "# 입력 자료 \n",
    "import random\n",
    "\n",
    "dataset = []\n",
    "for i in range(10) :\n",
    "    r = random.randint(1,100)\n",
    "    dataset.append(r)\n",
    "\n",
    "print(dataset)\n"
   ]
  },
  {
   "cell_type": "code",
   "execution_count": 119,
   "id": "671b3aff",
   "metadata": {
    "scrolled": true
   },
   "outputs": [
    {
     "name": "stdout",
     "output_type": "stream",
     "text": [
      "max = 89\n",
      "min = 14\n"
     ]
    }
   ],
   "source": [
    "# 변수 초기화\n",
    "vmax = vmin = dataset[0]\n",
    "\n",
    "# 최댓값/최솟값 구하기\n",
    "for i in dataset:\n",
    "    if vmax < i:\n",
    "        vmax = i\n",
    "    if vmin > i:\n",
    "        vmin = i\n",
    "\n",
    "# 결과 출력\n",
    "print('max =', vmax)\n",
    "print('min =', vmin)\n"
   ]
  },
  {
   "cell_type": "code",
   "execution_count": 121,
   "id": "20404578",
   "metadata": {},
   "outputs": [
    {
     "name": "stdout",
     "output_type": "stream",
     "text": [
      "[24, 100, 68, 44, 7, 71, 90, 5, 16, 7]\n"
     ]
    }
   ],
   "source": [
    "# 입력 자료 \n",
    "import random\n",
    "\n",
    "dataset = []\n",
    "for i in range(10) :\n",
    "    r = random.randint(1,100)\n",
    "    dataset.append(r)\n",
    "\n",
    "print(dataset)"
   ]
  },
  {
   "cell_type": "code",
   "execution_count": 124,
   "id": "171ac989",
   "metadata": {
    "scrolled": true
   },
   "outputs": [
    {
     "ename": "KeyboardInterrupt",
     "evalue": "",
     "output_type": "error",
     "traceback": [
      "\u001b[1;31m---------------------------------------------------------------------------\u001b[0m",
      "\u001b[1;31mKeyboardInterrupt\u001b[0m                         Traceback (most recent call last)",
      "Input \u001b[1;32mIn [124]\u001b[0m, in \u001b[0;36m<cell line: 5>\u001b[1;34m()\u001b[0m\n\u001b[0;32m      6\u001b[0m     \u001b[38;5;28;01mif\u001b[39;00m dataset[idx] \u001b[38;5;241m>\u001b[39m max_v:\n\u001b[0;32m      7\u001b[0m         max_v \u001b[38;5;241m=\u001b[39m dataset[idx]\n\u001b[1;32m----> 8\u001b[0m     \u001b[38;5;28;01mif\u001b[39;00m dataset[idx] \u001b[38;5;241m<\u001b[39m \u001b[43mmin_v\u001b[49m:\n\u001b[0;32m      9\u001b[0m         min_v \u001b[38;5;241m=\u001b[39m dataset[idx]\n\u001b[0;32m     11\u001b[0m \u001b[38;5;28mprint\u001b[39m(\u001b[38;5;124m'\u001b[39m\u001b[38;5;124mmax = \u001b[39m\u001b[38;5;132;01m%d\u001b[39;00m\u001b[38;5;124m, min = \u001b[39m\u001b[38;5;132;01m%d\u001b[39;00m\u001b[38;5;124m'\u001b[39m \u001b[38;5;241m%\u001b[39m (max_v, min_v))\n",
      "\u001b[1;31mKeyboardInterrupt\u001b[0m: "
     ]
    }
   ],
   "source": [
    "max_v = min_v = dataset[0]\n",
    "size = 10  # data 길이\n",
    "idx = 0\n",
    "\n",
    "while idx < size:  # data 길이 반복\n",
    "    if dataset[idx] > max_v:\n",
    "        max_v = dataset[idx]\n",
    "    if dataset[idx] < min_v:\n",
    "        min_v = dataset[idx]\n",
    "\n",
    "print('max = %d, min = %d' % (max_v, min_v))  # max = 45, min = 2\n"
   ]
  },
  {
   "cell_type": "markdown",
   "id": "186ab441",
   "metadata": {},
   "source": [
    "2. 정렬\n"
   ]
  },
  {
   "cell_type": "code",
   "execution_count": 126,
   "id": "13a342be",
   "metadata": {
    "scrolled": true
   },
   "outputs": [
    {
     "name": "stdout",
     "output_type": "stream",
     "text": [
      "[1, 5, 3, 2, 4]\n",
      "[1, 2, 5, 3, 4]\n",
      "[1, 2, 3, 5, 4]\n",
      "[1, 2, 3, 4, 5]\n",
      "[1, 2, 3, 4, 5]\n"
     ]
    }
   ],
   "source": [
    "# (1) 오름차순 정렬\n",
    "dataset = [3, 5, 1, 2, 4]\n",
    "n = len(dataset)\n",
    "for i in range(0, n-1) : # 1 ~ n-1\n",
    "    for j in range(i+1, n) : # i+1 ~ n-1\n",
    "        if dataset[i] > dataset[j] :\n",
    "            tmp = dataset[i]\n",
    "            dataset[i] = dataset[j] # 3 5\n",
    "            dataset[j] = tmp\n",
    "    print(dataset)\n",
    "\n",
    "print(dataset) # [1, 2, 3, 4, 5]\n"
   ]
  },
  {
   "cell_type": "code",
   "execution_count": 127,
   "id": "b2fdb439",
   "metadata": {
    "scrolled": true
   },
   "outputs": [
    {
     "name": "stdout",
     "output_type": "stream",
     "text": [
      "[5, 3, 1, 2, 4]\n",
      "[5, 4, 1, 2, 3]\n",
      "[5, 4, 3, 1, 2]\n",
      "[5, 4, 3, 2, 1]\n",
      "[5, 4, 3, 2, 1]\n"
     ]
    }
   ],
   "source": [
    "# (2) 내림차순 정렬\n",
    "dataset = [3, 5, 1, 2, 4]\n",
    "n = len(dataset)\n",
    "for i in range(0, n-1) : # 1 ~ n-1\n",
    "    for j in range(i+1, n) : # i+1 ~ n-1\n",
    "        if dataset[i] < dataset[j] :\n",
    "            tmp = dataset[i]\n",
    "            dataset[i] = dataset[j] # 3 5\n",
    "            dataset[j] = tmp\n",
    "    print(dataset)\n",
    "\n",
    "print(dataset) # [5, 4, 3, 2, 1]\n"
   ]
  },
  {
   "cell_type": "markdown",
   "id": "3dae5d7e",
   "metadata": {},
   "source": [
    "### 3. 검색\n",
    "- 순차검색, 이진검색\n",
    "- 이진검색의 검색 속도가 더 빠름\n",
    "- 이진검색 : 전체 원소가 정렬된 상태에서 중앙 위치를 계산해서 검색 수행\n"
   ]
  },
  {
   "cell_type": "code",
   "execution_count": 132,
   "id": "bc4ef864",
   "metadata": {},
   "outputs": [
    {
     "name": "stdout",
     "output_type": "stream",
     "text": [
      "검색할 값 입력 : 55\n",
      "찾은 위치 : 6 번째\n"
     ]
    }
   ],
   "source": [
    "dataset = [5, 10, 18, 22, 35, 55, 75, 103]\n",
    "value = int(input(\"검색할 값 입력 : \"))\n",
    "\n",
    "low = 0\n",
    "high = len(dataset) - 1\n",
    "loc = 0\n",
    "state = False\n",
    "while (low <= high):\n",
    "    mid = (low + high) // 2\n",
    "\n",
    "    if dataset[mid] > value:\n",
    "        high = mid - 1\n",
    "    elif dataset[mid] < value:\n",
    "        low = mid + 1\n",
    "    else: # 찾은 경우\n",
    "        loc =  mid\n",
    "        state = True\n",
    "        break # 반복 exit\n",
    "\n",
    "if state :\n",
    "    print('찾은 위치 : %d 번째' %(loc+1))\n",
    "else :\n",
    "    print('찾는 값은 없습니다.')\n"
   ]
  }
 ],
 "metadata": {
  "kernelspec": {
   "display_name": "Python 3 (ipykernel)",
   "language": "python",
   "name": "python3"
  },
  "language_info": {
   "codemirror_mode": {
    "name": "ipython",
    "version": 3
   },
   "file_extension": ".py",
   "mimetype": "text/x-python",
   "name": "python",
   "nbconvert_exporter": "python",
   "pygments_lexer": "ipython3",
   "version": "3.8.13"
  }
 },
 "nbformat": 4,
 "nbformat_minor": 5
}
