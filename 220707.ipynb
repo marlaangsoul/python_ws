{
 "cells": [
  {
   "cell_type": "markdown",
   "id": "e730df63",
   "metadata": {},
   "source": [
    "## 파이썬 자료구조\n",
    "- 열거형 객체 : 하나의 메모리 영역에 여러 개의 자료가 나열된 집합 자료구조\n",
    "- 자료구조 : 열거형 객체가 메모리에 배정될 때 기억공간에 적재되는 구조\n",
    "- 순서가 있는 자료구조와 순서가 없는 자료구조로 구분\n",
    "### 순서 있는 자료구조 Sequence Data Structure\n",
    "- 0 str, list, tuple 클래스\n",
    "### str\n",
    "- 문자들의 모음\n",
    "- 일정한 순서를 갖는다.\n",
    "- 색인을 이용하여 원소를 참조할 수 있다.\n"
   ]
  },
  {
   "cell_type": "code",
   "execution_count": 1,
   "id": "944ef54e",
   "metadata": {},
   "outputs": [],
   "source": [
    "#help(str) \n"
   ]
  },
  {
   "cell_type": "code",
   "execution_count": 2,
   "id": "f4e27371",
   "metadata": {},
   "outputs": [
    {
     "name": "stdout",
     "output_type": "stream",
     "text": [
      "string\n",
      "<class 'str'>\n",
      "s\n",
      "g\n"
     ]
    }
   ],
   "source": [
    "# str 클래스 형식\n",
    "str_var = str(object='string')\n",
    "print(str_var)\n",
    "print(type(str_var))\n",
    "print(str_var[0])\n",
    "print(str_var[-1])\n"
   ]
  },
  {
   "cell_type": "code",
   "execution_count": 3,
   "id": "7505c37a",
   "metadata": {},
   "outputs": [
    {
     "name": "stdout",
     "output_type": "stream",
     "text": [
      "string\n",
      "<class 'str'>\n",
      "s\n",
      "g\n"
     ]
    }
   ],
   "source": [
    "# str 클래스 간편 형식\n",
    "str_var2 = 'string'\n",
    "print(str_var2)\n",
    "print(type(str_var2))\n",
    "print(str_var2[0])\n",
    "print(str_var2[-1])\n"
   ]
  },
  {
   "cell_type": "markdown",
   "id": "739f5a23",
   "metadata": {},
   "source": [
    "#### list [ ] or list()\n",
    "- 1차원 배열 구조\n",
    "    - 형식) list변수 = [값1, 값2,..]\n",
    "- 다양한 자료형 저장 가능\n",
    "- index 사용(순서 있음)\n",
    "    - 형식) list변수[index]\n",
    "- 값 수정(추가,삽입,수정,삭제)\n"
   ]
  },
  {
   "cell_type": "code",
   "execution_count": 5,
   "id": "25443c98",
   "metadata": {},
   "outputs": [],
   "source": [
    "#help(list) # Help on class list in module builtins:"
   ]
  },
  {
   "cell_type": "code",
   "execution_count": 6,
   "id": "c38a7c31",
   "metadata": {},
   "outputs": [
    {
     "name": "stdout",
     "output_type": "stream",
     "text": [
      "[1, 2, 3, 4, 5]\n",
      "<class 'list'>\n",
      "[1]\n",
      "[1, 2]\n",
      "[1, 2, 3]\n",
      "[1, 2, 3, 4]\n",
      "[1, 2, 3, 4, 5]\n"
     ]
    }
   ],
   "source": [
    "# 단일 list 예\n",
    "lst = [1,2,3,4,5]\n",
    "print(lst)\n",
    "print(type(lst))\n",
    "for i in lst :\n",
    "    print(lst[:i]) # i 전까지\n"
   ]
  }
 ],
 "metadata": {
  "kernelspec": {
   "display_name": "Python 3 (ipykernel)",
   "language": "python",
   "name": "python3"
  },
  "language_info": {
   "codemirror_mode": {
    "name": "ipython",
    "version": 3
   },
   "file_extension": ".py",
   "mimetype": "text/x-python",
   "name": "python",
   "nbconvert_exporter": "python",
   "pygments_lexer": "ipython3",
   "version": "3.8.13"
  }
 },
 "nbformat": 4,
 "nbformat_minor": 5
}
