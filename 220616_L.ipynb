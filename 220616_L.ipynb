{
 "cells": [
  {
   "cell_type": "code",
   "execution_count": 1,
   "id": "4690006f",
   "metadata": {},
   "outputs": [],
   "source": [
    "# system 날짜/시간 모듈(*.py)\n",
    "import datetime\n"
   ]
  },
  {
   "cell_type": "code",
   "execution_count": 2,
   "id": "4f195880",
   "metadata": {},
   "outputs": [
    {
     "name": "stdout",
     "output_type": "stream",
     "text": [
      "2022-06-16 21:36:35.628406\n"
     ]
    }
   ],
   "source": [
    "today = datetime.datetime.now() # package.module.function()\n",
    "print(today)"
   ]
  },
  {
   "cell_type": "code",
   "execution_count": 3,
   "id": "4911a05e",
   "metadata": {},
   "outputs": [
    {
     "name": "stdout",
     "output_type": "stream",
     "text": [
      "<class 'datetime.datetime'>\n"
     ]
    }
   ],
   "source": [
    "print(type(today)) # <class 'datetime.datetime'"
   ]
  },
  {
   "cell_type": "code",
   "execution_count": 4,
   "id": "ba543874",
   "metadata": {},
   "outputs": [],
   "source": [
    "day = today.weekday()"
   ]
  },
  {
   "cell_type": "code",
   "execution_count": 5,
   "id": "0e934f7f",
   "metadata": {},
   "outputs": [
    {
     "name": "stdout",
     "output_type": "stream",
     "text": [
      "3\n"
     ]
    }
   ],
   "source": [
    "print(day) # 0~6(1)"
   ]
  },
  {
   "cell_type": "code",
   "execution_count": 6,
   "id": "838026c5",
   "metadata": {},
   "outputs": [
    {
     "name": "stdout",
     "output_type": "stream",
     "text": [
      "평일\n"
     ]
    }
   ],
   "source": [
    "if day >= 5 :\n",
    "    print('주말')\n",
    "else :\n",
    "    print('평일')"
   ]
  },
  {
   "cell_type": "code",
   "execution_count": 7,
   "id": "30fe216e",
   "metadata": {},
   "outputs": [
    {
     "name": "stdout",
     "output_type": "stream",
     "text": [
      "점수 입력(1~100) : 40\n",
      "num =  40\n",
      "짝수\n"
     ]
    }
   ],
   "source": [
    "num = int(input('점수 입력(1~100) : '))\n",
    "print('num = ', num)\n",
    "\n",
    "if num % 2 != 0 :\n",
    "    print('홀수')\n",
    "else :\n",
    "    print('짝수')"
   ]
  },
  {
   "cell_type": "code",
   "execution_count": 8,
   "id": "e01c4292",
   "metadata": {},
   "outputs": [],
   "source": [
    "# 문) num 변수 대상 -> 등급 계산(A:100~90,B:89~80,C:79~70,D:69~60,F:60미만 학점)\n",
    "# 출력 형식 => 점수 : 85, 등급 : B"
   ]
  },
  {
   "cell_type": "code",
   "execution_count": 27,
   "id": "c4c661bf",
   "metadata": {},
   "outputs": [
    {
     "name": "stdout",
     "output_type": "stream",
     "text": [
      "점수 입력 : 85\n",
      "85\n",
      "점수 : 85, 등급 : B\n",
      "점수 : 85, 등급 : B\n"
     ]
    }
   ],
   "source": [
    "num = int(input('점수 입력 : '))\n",
    "print(num)\n",
    "grade = \"\" # 공백\n",
    "if num >= 90 :\n",
    "    grade = \"A\"\n",
    "elif num >= 80 :\n",
    "    grade = \"B\"\n",
    "elif num >= 70 :\n",
    "    grade = \"C\"\n",
    "elif num >= 60 :\n",
    "    grade = \"D\"\n",
    "else :\n",
    "    grade = \"F\"\n",
    "    \n",
    "print(f\"점수 : {num}, 등급 : {grade}\")\n",
    "print(\"점수 : %d, 등급 : %s\"%(num, grade))"
   ]
  },
  {
   "cell_type": "code",
   "execution_count": 28,
   "id": "466809c5",
   "metadata": {},
   "outputs": [
    {
     "data": {
      "text/plain": [
       "'합격'"
      ]
     },
     "execution_count": 28,
     "metadata": {},
     "output_type": "execute_result"
    }
   ],
   "source": [
    "if num >= 60 :\n",
    "    grade =\"합격\"\n",
    "else :\n",
    "    grade =\"불합격\" \n",
    "grade"
   ]
  },
  {
   "cell_type": "code",
   "execution_count": 29,
   "id": "9bccb771",
   "metadata": {},
   "outputs": [
    {
     "name": "stdout",
     "output_type": "stream",
     "text": [
      "3항 연산자 :  합격\n"
     ]
    }
   ],
   "source": [
    "grade =  \"합격\"  if num >= 60 else \"불합격\"\n",
    "print('3항 연산자 : ', grade) # 3항 연산자 :  합격"
   ]
  },
  {
   "cell_type": "code",
   "execution_count": 30,
   "id": "626544fa",
   "metadata": {},
   "outputs": [
    {
     "name": "stdout",
     "output_type": "stream",
     "text": [
      "문자열 입력 : 홍길동은 차겁습니다.\n",
      "'홍길동' 단어 있음\n"
     ]
    }
   ],
   "source": [
    "s = input(\"문자열 입력 : \")\n",
    "\n",
    "# 단어 검색\n",
    "if '홍길동' in s :\n",
    "    print('\\'홍길동\\' 단어 있음')\n",
    "else :\n",
    "    print('\\'홍길동\\' 단어 없음')"
   ]
  },
  {
   "cell_type": "code",
   "execution_count": 31,
   "id": "5f4c77ce",
   "metadata": {},
   "outputs": [
    {
     "name": "stdout",
     "output_type": "stream",
     "text": [
      "문자열 입력 : 홍길동동\n",
      "'홍길동' 단어 있음\n"
     ]
    }
   ],
   "source": [
    "s = input(\"문자열 입력 : \")\n",
    "\n",
    "# 단어 검색\n",
    "if '홍길동' in s :\n",
    "    print('\\'홍길동\\' 단어 있음')\n",
    "else :\n",
    "    print('\\'홍길동\\' 단어 없음')"
   ]
  },
  {
   "cell_type": "code",
   "execution_count": 32,
   "id": "693ae06f",
   "metadata": {},
   "outputs": [
    {
     "name": "stdout",
     "output_type": "stream",
     "text": [
      "문자열 입력 : \n",
      "'홍길동' 단어 없음\n"
     ]
    }
   ],
   "source": [
    "s = input(\"문자열 입력 : \")\n",
    "\n",
    "# 단어 검색\n",
    "if '홍길동' in s :\n",
    "    print('\\'홍길동\\' 단어 있음')\n",
    "else :\n",
    "    print('\\'홍길동\\' 단어 없음')\n"
   ]
  },
  {
   "cell_type": "code",
   "execution_count": 33,
   "id": "c7e8b2ce",
   "metadata": {},
   "outputs": [
    {
     "name": "stdout",
     "output_type": "stream",
     "text": [
      "문자열 입력 : as i\n",
      "'홍길동' 단어 없음\n"
     ]
    }
   ],
   "source": [
    "s = input(\"문자열 입력 : \")\n",
    "\n",
    "# 단어 검색\n",
    "if 'asi' in s :\n",
    "    print('\\'홍길동\\' 단어 있음')\n",
    "else :\n",
    "    print('\\'홍길동\\' 단어 없음')"
   ]
  },
  {
   "cell_type": "code",
   "execution_count": 34,
   "id": "57e55b04",
   "metadata": {},
   "outputs": [],
   "source": [
    "idx = tot = 0"
   ]
  },
  {
   "cell_type": "code",
   "execution_count": 35,
   "id": "76513abf",
   "metadata": {},
   "outputs": [
    {
     "name": "stdout",
     "output_type": "stream",
     "text": [
      "1 1\n",
      "2 3\n",
      "3 6\n",
      "4 10\n",
      "5 15\n",
      "5 15\n"
     ]
    }
   ],
   "source": [
    "while idx < 5 : # 0 < 5    # True : loop(명령문 집합)- 수행\n",
    "    idx += 1 # 카운터 변수\n",
    "    tot += idx # 누적변수 : tot = tot + idx\n",
    "    print(idx, tot)\n",
    "\n",
    "print(idx, tot) # 5 10"
   ]
  },
  {
   "cell_type": "code",
   "execution_count": 36,
   "id": "90f8216c",
   "metadata": {},
   "outputs": [],
   "source": [
    "# 1 ~ 100 까지 3의 배수 합과 원소 추출하기\n",
    "cnt = tot = 0\n",
    "dataset = []  # 빈 list\n"
   ]
  },
  {
   "cell_type": "code",
   "execution_count": 38,
   "id": "e169126f",
   "metadata": {},
   "outputs": [
    {
     "name": "stdout",
     "output_type": "stream",
     "text": [
      "1 ~ 100사이 3의 배수 합 = 1683\n",
      "dataset = [3, 6, 9, 12, 15, 18, 21, 24, 27, 30, 33, 36, 39, 42, 45, 48, 51, 54, 57, 60, 63, 66, 69, 72, 75, 78, 81, 84, 87, 90, 93, 96, 99]\n"
     ]
    }
   ],
   "source": [
    "while cnt < 100:  # 100회 반복\n",
    "    cnt += 1  # 카운터\n",
    "    if cnt % 3 == 0:\n",
    "        tot += cnt  # 누적변수\n",
    "        dataset.append(cnt)  # 3차 작성\n",
    "print('1 ~ 100사이 3의 배수 합 = %d' % tot)  # 1683\n",
    "print('dataset =', dataset)  # [3, 6, 9, ... 99]\n"
   ]
  },
  {
   "cell_type": "markdown",
   "id": "7407a119",
   "metadata": {},
   "source": [
    "문1) 1~100 사이에서 5의 배수이면서(and) 3의 배수가 아닌 합 계산하기"
   ]
  },
  {
   "cell_type": "code",
   "execution_count": 40,
   "id": "30c5f5d8",
   "metadata": {},
   "outputs": [],
   "source": [
    "i = tot = 0"
   ]
  },
  {
   "cell_type": "code",
   "execution_count": 42,
   "id": "780a0930",
   "metadata": {},
   "outputs": [
    {
     "name": "stdout",
     "output_type": "stream",
     "text": [
      "dataset = []\n"
     ]
    }
   ],
   "source": [
    "dataset = []  # 빈list\n",
    "print('dataset =', dataset)  # [3, 6, 9, ... 99]"
   ]
  },
  {
   "cell_type": "code",
   "execution_count": 48,
   "id": "b53f3c73",
   "metadata": {},
   "outputs": [],
   "source": [
    "while i < 100:\n",
    "    i += 1\n",
    "    if i % 5 == 0 and i % 3 != 0:\n",
    "        dataset.append(i)\n",
    "        print(i)\n",
    "        tot += i"
   ]
  },
  {
   "cell_type": "code",
   "execution_count": 51,
   "id": "84738d71",
   "metadata": {},
   "outputs": [
    {
     "name": "stdout",
     "output_type": "stream",
     "text": [
      "tot = 735\n"
     ]
    }
   ],
   "source": [
    "print('tot = %d' % tot)  # tot = 867"
   ]
  },
  {
   "cell_type": "code",
   "execution_count": 50,
   "id": "88e53dcf",
   "metadata": {},
   "outputs": [
    {
     "name": "stdout",
     "output_type": "stream",
     "text": [
      "\n",
      "dataset : [5, 10, 20, 25, 35, 40, 50, 55, 65, 70, 80, 85, 95, 100]\n"
     ]
    }
   ],
   "source": [
    "print()\n",
    "print('dataset :', dataset)\n"
   ]
  }
 ],
 "metadata": {
  "kernelspec": {
   "display_name": "Python 3 (ipykernel)",
   "language": "python",
   "name": "python3"
  },
  "language_info": {
   "codemirror_mode": {
    "name": "ipython",
    "version": 3
   },
   "file_extension": ".py",
   "mimetype": "text/x-python",
   "name": "python",
   "nbconvert_exporter": "python",
   "pygments_lexer": "ipython3",
   "version": "3.8.13"
  }
 },
 "nbformat": 4,
 "nbformat_minor": 5
}
