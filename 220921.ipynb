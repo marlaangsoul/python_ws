{
 "cells": [
  {
   "cell_type": "markdown",
   "id": "9488e980",
   "metadata": {},
   "source": [
    "## 모듈(module)과 패키지 (package)\n",
    "- 모듈 : 함수나 클래스로 등의 소스 파일(*.py)\n",
    "- 패키지 : 여러 모듈을 모아서 폴더로 제공a\n"
   ]
  },
  {
   "cell_type": "markdown",
   "id": "ef38d85a",
   "metadata": {},
   "source": [
    "### 함수(function)\n",
    "- 외부에서 들어오는 값을 매개변수로 받아서 함수내의 실행문을 통해서 매개변수를 처리하고 그 결과를 반환\n",
    "- 내장함수, 사용자 정의 함수\n",
    "\n",
    "#### 내장 함수 : built-in or import\n",
    "- built-in : 별도의 import 없이 사용 , 함수()\n",
    "- import : 모듈.함수()\n",
    "- 모듈이나 패키지에서 제공하는 함수\n",
    "- import 모듈명\n",
    "- form 모듈명 import 함수명1, 함수명2 ...\n"
   ]
  },
  {
   "cell_type": "code",
   "execution_count": 1,
   "id": "623ad3d1",
   "metadata": {},
   "outputs": [],
   "source": [
    "import builtins\n",
    "#dir(builtins) # 내장 클래스, 내장 함수 목록 보기\n"
   ]
  },
  {
   "cell_type": "code",
   "execution_count": 2,
   "id": "5f08f6eb",
   "metadata": {},
   "outputs": [
    {
     "data": {
      "text/plain": [
       "['ArithmeticError',\n",
       " 'AssertionError',\n",
       " 'AttributeError',\n",
       " 'BaseException',\n",
       " 'BlockingIOError',\n",
       " 'BrokenPipeError',\n",
       " 'BufferError',\n",
       " 'BytesWarning',\n",
       " 'ChildProcessError',\n",
       " 'ConnectionAbortedError',\n",
       " 'ConnectionError',\n",
       " 'ConnectionRefusedError',\n",
       " 'ConnectionResetError',\n",
       " 'DeprecationWarning',\n",
       " 'EOFError',\n",
       " 'Ellipsis',\n",
       " 'EnvironmentError',\n",
       " 'Exception',\n",
       " 'False',\n",
       " 'FileExistsError',\n",
       " 'FileNotFoundError',\n",
       " 'FloatingPointError',\n",
       " 'FutureWarning',\n",
       " 'GeneratorExit',\n",
       " 'IOError',\n",
       " 'ImportError',\n",
       " 'ImportWarning',\n",
       " 'IndentationError',\n",
       " 'IndexError',\n",
       " 'InterruptedError',\n",
       " 'IsADirectoryError',\n",
       " 'KeyError',\n",
       " 'KeyboardInterrupt',\n",
       " 'LookupError',\n",
       " 'MemoryError',\n",
       " 'ModuleNotFoundError',\n",
       " 'NameError',\n",
       " 'None',\n",
       " 'NotADirectoryError',\n",
       " 'NotImplemented',\n",
       " 'NotImplementedError',\n",
       " 'OSError',\n",
       " 'OverflowError',\n",
       " 'PendingDeprecationWarning',\n",
       " 'PermissionError',\n",
       " 'ProcessLookupError',\n",
       " 'RecursionError',\n",
       " 'ReferenceError',\n",
       " 'ResourceWarning',\n",
       " 'RuntimeError',\n",
       " 'RuntimeWarning',\n",
       " 'StopAsyncIteration',\n",
       " 'StopIteration',\n",
       " 'SyntaxError',\n",
       " 'SyntaxWarning',\n",
       " 'SystemError',\n",
       " 'SystemExit',\n",
       " 'TabError',\n",
       " 'TimeoutError',\n",
       " 'True',\n",
       " 'TypeError',\n",
       " 'UnboundLocalError',\n",
       " 'UnicodeDecodeError',\n",
       " 'UnicodeEncodeError',\n",
       " 'UnicodeError',\n",
       " 'UnicodeTranslateError',\n",
       " 'UnicodeWarning',\n",
       " 'UserWarning',\n",
       " 'ValueError',\n",
       " 'Warning',\n",
       " 'WindowsError',\n",
       " 'ZeroDivisionError',\n",
       " '__IPYTHON__',\n",
       " '__build_class__',\n",
       " '__debug__',\n",
       " '__doc__',\n",
       " '__import__',\n",
       " '__loader__',\n",
       " '__name__',\n",
       " '__package__',\n",
       " '__spec__',\n",
       " 'abs',\n",
       " 'all',\n",
       " 'any',\n",
       " 'ascii',\n",
       " 'bin',\n",
       " 'bool',\n",
       " 'breakpoint',\n",
       " 'bytearray',\n",
       " 'bytes',\n",
       " 'callable',\n",
       " 'chr',\n",
       " 'classmethod',\n",
       " 'compile',\n",
       " 'complex',\n",
       " 'copyright',\n",
       " 'credits',\n",
       " 'delattr',\n",
       " 'dict',\n",
       " 'dir',\n",
       " 'display',\n",
       " 'divmod',\n",
       " 'enumerate',\n",
       " 'eval',\n",
       " 'exec',\n",
       " 'execfile',\n",
       " 'filter',\n",
       " 'float',\n",
       " 'format',\n",
       " 'frozenset',\n",
       " 'get_ipython',\n",
       " 'getattr',\n",
       " 'globals',\n",
       " 'hasattr',\n",
       " 'hash',\n",
       " 'help',\n",
       " 'hex',\n",
       " 'id',\n",
       " 'input',\n",
       " 'int',\n",
       " 'isinstance',\n",
       " 'issubclass',\n",
       " 'iter',\n",
       " 'len',\n",
       " 'license',\n",
       " 'list',\n",
       " 'locals',\n",
       " 'map',\n",
       " 'max',\n",
       " 'memoryview',\n",
       " 'min',\n",
       " 'next',\n",
       " 'object',\n",
       " 'oct',\n",
       " 'open',\n",
       " 'ord',\n",
       " 'pow',\n",
       " 'print',\n",
       " 'property',\n",
       " 'range',\n",
       " 'repr',\n",
       " 'reversed',\n",
       " 'round',\n",
       " 'runfile',\n",
       " 'set',\n",
       " 'setattr',\n",
       " 'slice',\n",
       " 'sorted',\n",
       " 'staticmethod',\n",
       " 'str',\n",
       " 'sum',\n",
       " 'super',\n",
       " 'tuple',\n",
       " 'type',\n",
       " 'vars',\n",
       " 'zip']"
      ]
     },
     "execution_count": 2,
     "metadata": {},
     "output_type": "execute_result"
    }
   ],
   "source": [
    "dir(builtins)"
   ]
  },
  {
   "cell_type": "code",
   "execution_count": 3,
   "id": "9bc369cc",
   "metadata": {},
   "outputs": [
    {
     "name": "stdout",
     "output_type": "stream",
     "text": [
      "[1, 2, 3, 4, 5]\n"
     ]
    }
   ],
   "source": [
    "dataset = list(range(1,6))\n",
    "print(dataset) # [1, 2, 3, 4, 5]\n"
   ]
  },
  {
   "cell_type": "code",
   "execution_count": 4,
   "id": "8c898d68",
   "metadata": {
    "scrolled": true
   },
   "outputs": [
    {
     "name": "stdout",
     "output_type": "stream",
     "text": [
      "len= 5\n",
      "sum= 15\n",
      "max= 5\n",
      "min= 1\n"
     ]
    }
   ],
   "source": [
    "# (1) builtins 함수\n",
    "print('len=', len(dataset))\n",
    "print('sum=', sum(dataset)) # sum= 15\n",
    "print('max=', max(dataset))\n",
    "print('min=', min(dataset))\n"
   ]
  },
  {
   "cell_type": "code",
   "execution_count": 5,
   "id": "499081e3",
   "metadata": {},
   "outputs": [
    {
     "name": "stdout",
     "output_type": "stream",
     "text": [
      "평균= 3\n",
      "중위수= 3\n"
     ]
    }
   ],
   "source": [
    "# (2) import 함수\n",
    "import statistics # 수학/통계 함수 모듈(statistics.py) - 방법1\n",
    "\n",
    "# import\n",
    "print('평균=', statistics.mean(dataset)) \n",
    "print('중위수=', statistics.median(dataset))\n"
   ]
  },
  {
   "cell_type": "code",
   "execution_count": 6,
   "id": "d81cb37f",
   "metadata": {},
   "outputs": [
    {
     "name": "stdout",
     "output_type": "stream",
     "text": [
      "표본 분산= 2.5\n",
      "표본 표준편차= 1.5811388300841898\n"
     ]
    }
   ],
   "source": [
    "from statistics import variance, stdev # - 방법2\n",
    "print(\"표본 분산=\", variance(dataset))\n",
    "print(\"표본 표준편차=\", stdev(dataset))\n"
   ]
  },
  {
   "cell_type": "code",
   "execution_count": 7,
   "id": "52ab6536",
   "metadata": {},
   "outputs": [
    {
     "name": "stdout",
     "output_type": "stream",
     "text": [
      "평균= 3\n",
      "중위수= 3\n",
      "표본 분산= 2.5\n",
      "표본 표준편차= 1.5811388300841898\n"
     ]
    }
   ],
   "source": [
    "from statistics import * # - 방법3\n",
    "print('평균=', mean(dataset)) \n",
    "print('중위수=', median(dataset))\n",
    "print(\"표본 분산=\", variance(dataset))\n",
    "print(\"표본 표준편차=\", stdev(dataset))\n"
   ]
  },
  {
   "cell_type": "code",
   "execution_count": 8,
   "id": "112378af",
   "metadata": {
    "scrolled": false
   },
   "outputs": [
    {
     "name": "stdout",
     "output_type": "stream",
     "text": [
      "['Counter', 'Decimal', 'Fraction', 'NormalDist', 'StatisticsError', '__all__', '__builtins__', '__cached__', '__doc__', '__file__', '__loader__', '__name__', '__package__', '__spec__', '_coerce', '_convert', '_exact_ratio', '_fail_neg', '_find_lteq', '_find_rteq', '_isfinite', '_normal_dist_inv_cdf', '_ss', '_sum', 'bisect_left', 'bisect_right', 'erf', 'exp', 'fabs', 'fmean', 'fsum', 'geometric_mean', 'groupby', 'harmonic_mean', 'hypot', 'itemgetter', 'log', 'math', 'mean', 'median', 'median_grouped', 'median_high', 'median_low', 'mode', 'multimode', 'numbers', 'pstdev', 'pvariance', 'quantiles', 'random', 'sqrt', 'stdev', 'tau', 'variance']\n",
      "--------------------------------------------------\n",
      "['__add__', '__class__', '__contains__', '__delattr__', '__delitem__', '__dir__', '__doc__', '__eq__', '__format__', '__ge__', '__getattribute__', '__getitem__', '__gt__', '__hash__', '__iadd__', '__imul__', '__init__', '__init_subclass__', '__iter__', '__le__', '__len__', '__lt__', '__mul__', '__ne__', '__new__', '__reduce__', '__reduce_ex__', '__repr__', '__reversed__', '__rmul__', '__setattr__', '__setitem__', '__sizeof__', '__str__', '__subclasshook__', 'append', 'clear', 'copy', 'count', 'extend', 'index', 'insert', 'pop', 'remove', 'reverse', 'sort']\n"
     ]
    }
   ],
   "source": [
    "# dir() : 객체의 변수, 내장함수, 내장클래스 목록 반환\n",
    "print(dir(statistics))\n",
    "print('-'*50)\n",
    "print(dir(dataset))"
   ]
  },
  {
   "cell_type": "code",
   "execution_count": 9,
   "id": "dd86a77c",
   "metadata": {},
   "outputs": [
    {
     "name": "stdout",
     "output_type": "stream",
     "text": [
      "[100, 1, 2, 3, 4, 5]\n",
      "[1, 2, 3, 4, 5]\n"
     ]
    }
   ],
   "source": [
    "dataset = list(range(1,6))\n",
    "dataset.insert(0, 100)# (변경.)\n",
    "print(dataset) \n",
    "dataset.pop(0) # 삭제\n",
    "print(dataset) "
   ]
  },
  {
   "cell_type": "code",
   "execution_count": 10,
   "id": "0b46a6c7",
   "metadata": {},
   "outputs": [
    {
     "data": {
      "text/plain": [
       "3"
      ]
     },
     "execution_count": 10,
     "metadata": {},
     "output_type": "execute_result"
    }
   ],
   "source": [
    "dataset.pop(2)"
   ]
  },
  {
   "cell_type": "code",
   "execution_count": 11,
   "id": "d8c9be2d",
   "metadata": {},
   "outputs": [
    {
     "name": "stdout",
     "output_type": "stream",
     "text": [
      "[1, 2, 4, 5]\n"
     ]
    }
   ],
   "source": [
    "print(dataset)"
   ]
  },
  {
   "cell_type": "code",
   "execution_count": 12,
   "id": "01aa5f5f",
   "metadata": {},
   "outputs": [
    {
     "name": "stdout",
     "output_type": "stream",
     "text": [
      "<zip object at 0x000002896CB653C0>\n",
      "[(1, 2), (3, 4), (5, 6)]\n",
      "{1: 2, 3: 4, 5: 6}\n"
     ]
    }
   ],
   "source": [
    "# zip : iterable 한 객체와 객체간의 원소를 묶어서 tuple로 반환\n",
    "\n",
    "z = zip([1,3,5], [2,4,6])\n",
    "print(z)\n",
    "\n",
    "l = list(z)\n",
    "print(l)\n",
    "\n",
    "d = dict(l)\n",
    "print(d)\n"
   ]
  },
  {
   "cell_type": "code",
   "execution_count": 13,
   "id": "b76d6647",
   "metadata": {
    "scrolled": true
   },
   "outputs": [
    {
     "data": {
      "text/plain": [
       "'\\n형식) \\ndef 함수([인수]) :\\n    실행문\\n    실행문\\n    [return 값] \\n'"
      ]
     },
     "execution_count": 13,
     "metadata": {},
     "output_type": "execute_result"
    }
   ],
   "source": [
    "'''\n",
    "형식) \n",
    "def 함수([인수]) :\n",
    "    실행문\n",
    "    실행문\n",
    "    [return 값] \n",
    "'''\n"
   ]
  },
  {
   "cell_type": "code",
   "execution_count": 14,
   "id": "3a42095b",
   "metadata": {},
   "outputs": [
    {
     "name": "stdout",
     "output_type": "stream",
     "text": [
      "userFunc1\n"
     ]
    }
   ],
   "source": [
    "# (1) 인수가 없는 함수\n",
    "def userFunc1():\n",
    "    print('userFunc1')\n",
    "\n",
    "userFunc1() # 함수 호출"
   ]
  },
  {
   "cell_type": "code",
   "execution_count": 15,
   "id": "ff3ba515",
   "metadata": {},
   "outputs": [
    {
     "name": "stdout",
     "output_type": "stream",
     "text": [
      "userFunc2\n",
      "z= 30\n"
     ]
    }
   ],
   "source": [
    "# (2) 인수가 있는 함수 : 값전달\n",
    "def userFunc2(x, y):\n",
    "    print('userFunc2')\n",
    "    z = x + y\n",
    "    print('z=', z)\n",
    "\n",
    "userFunc2(10, 20)  # 함수 호출"
   ]
  },
  {
   "cell_type": "code",
   "execution_count": 16,
   "id": "34e8c489",
   "metadata": {},
   "outputs": [
    {
     "name": "stdout",
     "output_type": "stream",
     "text": [
      "[100, 2, 3]\n",
      "[100, 2, 3]\n"
     ]
    }
   ],
   "source": [
    "# 인수가 있는 함수 : 객체 전달\n",
    "def refFunc(x):\n",
    "    x[0] = 100\n",
    "    print(x)\n",
    "    \n",
    "l = [1,2,3]\n",
    "refFunc(l)\n",
    "print(l)"
   ]
  },
  {
   "cell_type": "code",
   "execution_count": 17,
   "id": "27f17328",
   "metadata": {},
   "outputs": [],
   "source": [
    "# (3) return 있는 함수\n",
    "def userFunc3(x, y):\n",
    "    print('userFunc3')\n",
    "    tot = x + y\n",
    "    sub = x - y\n",
    "    mul = x * y\n",
    "    div = x / y\n",
    "    \n",
    "    return tot, sub, mul, div"
   ]
  },
  {
   "cell_type": "code",
   "execution_count": 18,
   "id": "e4626670",
   "metadata": {},
   "outputs": [
    {
     "name": "stdout",
     "output_type": "stream",
     "text": [
      "x 입력 : 5\n",
      "y 입력 : 5\n",
      "userFunc3\n",
      "tot = 10\n",
      "sub = 0\n",
      "mul = 25\n",
      "div = 1.0\n"
     ]
    }
   ],
   "source": [
    "x = int(input('x 입력 : '))\n",
    "y = int(input('y 입력 : '))\n",
    "\n",
    "t, s, m, d = userFunc3(x, y)\n",
    "print('tot =', t)\n",
    "print('sub =', s)\n",
    "print('mul =', m)\n",
    "print('div =', d)"
   ]
  },
  {
   "cell_type": "markdown",
   "id": "f8ae9f05",
   "metadata": {},
   "source": [
    "### 산포도 함수\n",
    "- 산포도 : 평균으로 부터 값의 분산정도를 나타내는 척도\n",
    "- 분산 = (sum(x변량-산술평균)**2)) / (n-1)\n",
    "- 표준편차 = sqrt(분산)\n"
   ]
  },
  {
   "cell_type": "code",
   "execution_count": 19,
   "id": "0d51518f",
   "metadata": {},
   "outputs": [],
   "source": [
    "from statistics import mean, variance\n",
    "from math import sqrt"
   ]
  },
  {
   "cell_type": "code",
   "execution_count": 20,
   "id": "4ea7fc15",
   "metadata": {},
   "outputs": [],
   "source": [
    "# 산술평균  \n",
    "def Avg(data):\n",
    "    avg = mean(data)\n",
    "    return avg"
   ]
  },
  {
   "cell_type": "code",
   "execution_count": 21,
   "id": "cc633a0b",
   "metadata": {},
   "outputs": [],
   "source": [
    "# 분산/표준편차 \n",
    "def var_sd(data): # [2,4,5,6,1,8] - avg\n",
    "    avg = Avg(data) # 함수 호출\n",
    "    # list 내포\n",
    "    diff = [ (d - avg)**2  for d in data]\n",
    "    \n",
    "    var = sum(diff) / (len(data) - 1)\n",
    "    sd = sqrt(var)\n",
    "    \n",
    "    return var, sd\n"
   ]
  },
  {
   "cell_type": "code",
   "execution_count": 22,
   "id": "27ed097d",
   "metadata": {},
   "outputs": [
    {
     "name": "stdout",
     "output_type": "stream",
     "text": [
      "산술평균 = 4.333333333333333\n"
     ]
    }
   ],
   "source": [
    "dataset = [2,4,5,6,1,8]\n",
    "\n",
    "print('산술평균 =', Avg(dataset))\n",
    "# 산술평균 = 4.333333333333333"
   ]
  },
  {
   "cell_type": "code",
   "execution_count": 23,
   "id": "ea70ff19",
   "metadata": {},
   "outputs": [
    {
     "name": "stdout",
     "output_type": "stream",
     "text": [
      "분산 = 6.666666666666666\n",
      "표준편차= 2.581988897471611\n"
     ]
    }
   ],
   "source": [
    "v, s = var_sd(dataset)\n",
    "print('분산 =', v)\n",
    "print('표준편차=', s)"
   ]
  },
  {
   "cell_type": "code",
   "execution_count": 24,
   "id": "317f7558",
   "metadata": {},
   "outputs": [
    {
     "name": "stdout",
     "output_type": "stream",
     "text": [
      "내장함수 분산 = 6.666666666666666\n"
     ]
    }
   ],
   "source": [
    "print('내장함수 분산 =', variance(dataset))"
   ]
  },
  {
   "cell_type": "code",
   "execution_count": 26,
   "id": "7cd21c39",
   "metadata": {},
   "outputs": [
    {
     "name": "stdout",
     "output_type": "stream",
     "text": [
      "피타고라스의 정리 : 3변의 길이 :  8 6 10\n"
     ]
    }
   ],
   "source": [
    "def pytha(s, t) :\n",
    "    a = s**2 - t**2\n",
    "    b = 2 * s * t\n",
    "    c = s**2 + t**2\n",
    "    print(\"피타고라스의 정리 : 3변의 길이 : \",a,b,c)\n",
    "\n",
    "pytha(3,1)"
   ]
  },
  {
   "cell_type": "markdown",
   "id": "8328bd3a",
   "metadata": {},
   "source": [
    "### 몬테카를로 시뮬레이션 함수\n",
    "- 현실적으로 불가능한 묹의 해답을 얻기 위해서 난수의 확률 분포를 이용하여 모의실험으로 근사적 해를 구하는 기법\n",
    "- 중심극한정리 : 표본의 크기가 클수록 근사적으로 표본의 평균이 모평균과 같고, 분산이 모분산과 같은 정규분포를 따름\n"
   ]
  },
  {
   "cell_type": "code",
   "execution_count": 27,
   "id": "e436e97b",
   "metadata": {},
   "outputs": [],
   "source": [
    "import random"
   ]
  },
  {
   "cell_type": "code",
   "execution_count": 33,
   "id": "a93552e0",
   "metadata": {},
   "outputs": [
    {
     "name": "stdout",
     "output_type": "stream",
     "text": [
      "[0, 0, 1, 1, 0, 0, 1, 0, 1, 0]\n"
     ]
    }
   ],
   "source": [
    "# 단계 1 : 동전 앞면과 뒷면의 난수 확률분포 함수 정의\n",
    "def coin(n) :\n",
    "    result = []\n",
    "    for i in range(n) :\n",
    "        r = random.randint(0, 1)\n",
    "        if (r == 1) :\n",
    "            result.append(1) # 앞면\n",
    "        else :\n",
    "            result.append(0) # 뒷면\n",
    "    #print(result[0])\n",
    "    return result\n",
    "\n",
    "print(coin(10)) # [0, 1, 1, 0, 1, 0, 0, 1, 0, 1]"
   ]
  },
  {
   "cell_type": "code",
   "execution_count": 41,
   "id": "cb7ed4c1",
   "metadata": {},
   "outputs": [
    {
     "name": "stdout",
     "output_type": "stream",
     "text": [
      "[1, 1, 0, 0, 0, 1, 0, 1, 0, 0, 1, 0, 1, 1, 0, 0, 1, 0, 1, 1, 1, 1, 1, 0, 0, 0, 1, 0, 1, 1]\n"
     ]
    }
   ],
   "source": [
    "print(coin(30))"
   ]
  },
  {
   "cell_type": "code",
   "execution_count": 43,
   "id": "1afd721d",
   "metadata": {},
   "outputs": [],
   "source": [
    "# 단계 2 : 몬테카를로 시뮬레이션 함수 정의\n",
    "def montaCoin(n) :\n",
    "    cnt = 0\n",
    "    for i in range(n) :\n",
    "        cnt += coin(1)[0] # coin 함수 호출\n",
    "\n",
    "    result = cnt / n # 동전 앞면과 뒷면의 누적 결과를 시행 횟수(n)로 나눈다.\n",
    "    #print(cnt, n)\n",
    "    return result"
   ]
  },
  {
   "cell_type": "code",
   "execution_count": 158,
   "id": "35bb1b90",
   "metadata": {},
   "outputs": [
    {
     "name": "stdout",
     "output_type": "stream",
     "text": [
      "0.526\n"
     ]
    }
   ],
   "source": [
    "print(montaCoin(500))"
   ]
  },
  {
   "cell_type": "code",
   "execution_count": 159,
   "id": "925fef53",
   "metadata": {},
   "outputs": [],
   "source": [
    "for i in range(30):\n",
    "    pass"
   ]
  },
  {
   "cell_type": "code",
   "execution_count": 162,
   "id": "3a41051d",
   "metadata": {
    "scrolled": true
   },
   "outputs": [
    {
     "name": "stdout",
     "output_type": "stream",
     "text": [
      "0.6\n",
      "0.5\n",
      "0.52\n",
      "0.493\n",
      "0.4981\n",
      "0.50105\n",
      "0.499823\n",
      "0.4996553\n"
     ]
    }
   ],
   "source": [
    "print(montaCoin(10)) \n",
    "print(montaCoin(30)) \n",
    "print(montaCoin(100)) \n",
    "print(montaCoin(1000))\n",
    "print(montaCoin(10000))\n",
    "print(montaCoin(100000))\n",
    "print(montaCoin(1000000))\n",
    "print(montaCoin(10000000))"
   ]
  },
  {
   "cell_type": "markdown",
   "id": "3435dfeb",
   "metadata": {},
   "source": [
    "### 가변인수 함수\n",
    "- 한 개 가인수로 여러 개 실인수 받을 수 있는 인수"
   ]
  },
  {
   "cell_type": "code",
   "execution_count": 163,
   "id": "0c425d15",
   "metadata": {},
   "outputs": [],
   "source": [
    "# (1) 여러 명의 이름 받는 가변인수 def 함수명(*인수)\n",
    "def Func1(name, *names):\n",
    "    print(name)  # 가인수 : 홍길동\n",
    "    print(names)  # 가변 인수 : ('이순신', '유관순')"
   ]
  },
  {
   "cell_type": "code",
   "execution_count": 164,
   "id": "63952918",
   "metadata": {
    "scrolled": true
   },
   "outputs": [
    {
     "name": "stdout",
     "output_type": "stream",
     "text": [
      "홍길동\n",
      "('이순신', '유관순')\n"
     ]
    }
   ],
   "source": [
    "Func1(\"홍길동\", \"이순신\", \"유관\n",
    "      순\")"
   ]
  },
  {
   "cell_type": "code",
   "execution_count": 165,
   "id": "77f4932a",
   "metadata": {
    "scrolled": true
   },
   "outputs": [
    {
     "name": "stdout",
     "output_type": "stream",
     "text": [
      "avg= 3\n",
      "var= 2.5\n",
      "std= 1.5811388300841898\n"
     ]
    }
   ],
   "source": [
    "# statistics 모듈 import\n",
    "from statistics import mean, variance, stdev\n",
    "\n",
    "# (2) 통계량 구하는 함수\n",
    "def statis(func, *data):\n",
    "    if func == 'avg':\n",
    "        return mean(data)\n",
    "    elif func == 'var':\n",
    "        return variance(data)\n",
    "    elif func == 'std':\n",
    "        return stdev(data)  # var, sd\n",
    "    else:\n",
    "        return 'TypeError'\n",
    "\n",
    "print('avg=', statis('avg', 1, 2, 3, 4, 5))  \n",
    "print('var=', statis('var', 1, 2, 3, 4, 5))  \n",
    "print('std=', statis('std', 1, 2, 3, 4, 5))  \n"
   ]
  },
  {
   "cell_type": "code",
   "execution_count": 166,
   "id": "5f60ad6b",
   "metadata": {},
   "outputs": [],
   "source": [
    "# (3) 사전형 가변인수 def 함수명(**인수)\n",
    "def emp_func(name, age, **other):\n",
    "    print(name)\n",
    "    print(age)\n",
    "    print(other)  # {'addre': '서울시', 'height': 175, 'weight': 65}\n"
   ]
  },
  {
   "cell_type": "code",
   "execution_count": 167,
   "id": "5f163709",
   "metadata": {},
   "outputs": [
    {
     "name": "stdout",
     "output_type": "stream",
     "text": [
      "홍길동\n",
      "35\n",
      "{'addre': '서울시', 'height': 175, 'weight': 65}\n"
     ]
    }
   ],
   "source": [
    "emp_func('홍길동', 35, addre='서울시', height=175, weight=65)\n"
   ]
  }
 ],
 "metadata": {
  "kernelspec": {
   "display_name": "Python 3 (ipykernel)",
   "language": "python",
   "name": "python3"
  },
  "language_info": {
   "codemirror_mode": {
    "name": "ipython",
    "version": 3
   },
   "file_extension": ".py",
   "mimetype": "text/x-python",
   "name": "python",
   "nbconvert_exporter": "python",
   "pygments_lexer": "ipython3",
   "version": "3.8.13"
  }
 },
 "nbformat": 4,
 "nbformat_minor": 5
}
