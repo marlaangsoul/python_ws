{
 "cells": [
  {
   "cell_type": "code",
   "execution_count": 1,
   "id": "e8f35221",
   "metadata": {},
   "outputs": [
    {
     "name": "stdout",
     "output_type": "stream",
     "text": [
      "11 21\n"
     ]
    }
   ],
   "source": [
    "i = tot = 10\n",
    "i += 1\n",
    "tot += i\n",
    "print (i, tot)"
   ]
  },
  {
   "cell_type": "code",
   "execution_count": 3,
   "id": "a8dcaf9e",
   "metadata": {},
   "outputs": [
    {
     "name": "stdout",
     "output_type": "stream",
     "text": [
      "20 10\n"
     ]
    }
   ],
   "source": [
    "v1 = 10\n",
    "v2 = 20\n",
    "\n",
    "v2, v1 = v1, v2\n",
    "print(v1, v2)"
   ]
  },
  {
   "cell_type": "code",
   "execution_count": 4,
   "id": "34b50262",
   "metadata": {},
   "outputs": [
    {
     "data": {
      "text/plain": [
       "(20, 10)"
      ]
     },
     "execution_count": 4,
     "metadata": {},
     "output_type": "execute_result"
    }
   ],
   "source": [
    "v1, v2"
   ]
  },
  {
   "cell_type": "code",
   "execution_count": 8,
   "id": "e2e7a108",
   "metadata": {},
   "outputs": [
    {
     "name": "stdout",
     "output_type": "stream",
     "text": [
      "1 [2, 3, 4, 5]\n"
     ]
    }
   ],
   "source": [
    "lst = [1,2,3,4,5]\n",
    "v1, *v2 = lst\n",
    "print(v1, v2)"
   ]
  },
  {
   "cell_type": "code",
   "execution_count": 9,
   "id": "8a56431c",
   "metadata": {},
   "outputs": [
    {
     "name": "stdout",
     "output_type": "stream",
     "text": [
      "1 2 [3, 4, 5]\n"
     ]
    }
   ],
   "source": [
    "v1, v2, *v3 = lst\n",
    "print(v1, v2, v3)"
   ]
  },
  {
   "cell_type": "code",
   "execution_count": 19,
   "id": "8290608a",
   "metadata": {},
   "outputs": [
    {
     "name": "stdout",
     "output_type": "stream",
     "text": [
      "1 2 [3, 4, 5]\n"
     ]
    }
   ],
   "source": [
    "v1, v2, *v3 = lst\n",
    "print(v1,v2,v3)"
   ]
  },
  {
   "cell_type": "code",
   "execution_count": 21,
   "id": "25f871e3",
   "metadata": {},
   "outputs": [
    {
     "name": "stdout",
     "output_type": "stream",
     "text": [
      "[1, 2, 3] 4 5\n"
     ]
    }
   ],
   "source": [
    "*v1, v2, v3 = lst\n",
    "print(v1,v2,v3)"
   ]
  },
  {
   "cell_type": "code",
   "execution_count": 22,
   "id": "2ea378f3",
   "metadata": {},
   "outputs": [
    {
     "name": "stdout",
     "output_type": "stream",
     "text": [
      "숫자입력 : 3\n",
      "num type :  <class 'str'>\n",
      "num =  3\n",
      "num =  33\n"
     ]
    }
   ],
   "source": [
    "num = input(\"숫자입력 : \")\n",
    "print('num type : ', type(num))\n",
    "print('num = ', num)\n",
    "print('num = ', num*2)"
   ]
  },
  {
   "cell_type": "code",
   "execution_count": 23,
   "id": "44943176",
   "metadata": {},
   "outputs": [
    {
     "name": "stdout",
     "output_type": "stream",
     "text": [
      "r\n",
      "num type :  <class 'str'>\n",
      "num =  r\n",
      "num =  rr\n"
     ]
    }
   ],
   "source": [
    "num = input()\n",
    "print('num type : ', type(num))\n",
    "print('num = ', num)\n",
    "print('num = ', num*2)"
   ]
  },
  {
   "cell_type": "code",
   "execution_count": 25,
   "id": "3537f5eb",
   "metadata": {},
   "outputs": [
    {
     "name": "stdout",
     "output_type": "stream",
     "text": [
      "QbQbasd\n",
      "num type :  <class 'str'>\n",
      "num =  asd\n",
      "num =  asdasd\n"
     ]
    }
   ],
   "source": [
    "num = input('QbQb')\n",
    "print('num type : ', type(num))\n",
    "print('num = ', num)\n",
    "print('num = ', num*2)"
   ]
  },
  {
   "cell_type": "code",
   "execution_count": 26,
   "id": "bbce287e",
   "metadata": {},
   "outputs": [
    {
     "name": "stdout",
     "output_type": "stream",
     "text": [
      "인풋 값의 변수는 ss\n"
     ]
    },
    {
     "ename": "TypeError",
     "evalue": "can only concatenate str (not \"int\") to str",
     "output_type": "error",
     "traceback": [
      "\u001b[1;31m---------------------------------------------------------------------------\u001b[0m",
      "\u001b[1;31mTypeError\u001b[0m                                 Traceback (most recent call last)",
      "Input \u001b[1;32mIn [26]\u001b[0m, in \u001b[0;36m<cell line: 2>\u001b[1;34m()\u001b[0m\n\u001b[0;32m      1\u001b[0m inputnum \u001b[38;5;241m=\u001b[39m \u001b[38;5;28minput\u001b[39m(\u001b[38;5;124m'\u001b[39m\u001b[38;5;124m인풋 값의 변수는 s\u001b[39m\u001b[38;5;124m'\u001b[39m)\n\u001b[1;32m----> 2\u001b[0m inputnum \u001b[38;5;241m+\u001b[39m\u001b[38;5;241m=\u001b[39m \u001b[38;5;241m2\u001b[39m\n\u001b[0;32m      3\u001b[0m \u001b[38;5;28mprint\u001b[39m(inputnum)\n",
      "\u001b[1;31mTypeError\u001b[0m: can only concatenate str (not \"int\") to str"
     ]
    }
   ],
   "source": [
    "inputnum = input('인풋 값의 변수는 s')\n",
    "inputnum += 2\n",
    "print(inputnum)"
   ]
  },
  {
   "cell_type": "code",
   "execution_count": 27,
   "id": "beea4926",
   "metadata": {},
   "outputs": [
    {
     "name": "stdout",
     "output_type": "stream",
     "text": [
      "인풋 값의 변수는 s2\n"
     ]
    },
    {
     "ename": "TypeError",
     "evalue": "can only concatenate str (not \"int\") to str",
     "output_type": "error",
     "traceback": [
      "\u001b[1;31m---------------------------------------------------------------------------\u001b[0m",
      "\u001b[1;31mTypeError\u001b[0m                                 Traceback (most recent call last)",
      "Input \u001b[1;32mIn [27]\u001b[0m, in \u001b[0;36m<cell line: 2>\u001b[1;34m()\u001b[0m\n\u001b[0;32m      1\u001b[0m inputnum \u001b[38;5;241m=\u001b[39m \u001b[38;5;28minput\u001b[39m(\u001b[38;5;124m'\u001b[39m\u001b[38;5;124m인풋 값의 변수는 s\u001b[39m\u001b[38;5;124m'\u001b[39m)\n\u001b[1;32m----> 2\u001b[0m inputnum \u001b[38;5;241m+\u001b[39m\u001b[38;5;241m=\u001b[39m \u001b[38;5;241m2\u001b[39m\n\u001b[0;32m      3\u001b[0m \u001b[38;5;28mprint\u001b[39m(inputnum)\n",
      "\u001b[1;31mTypeError\u001b[0m: can only concatenate str (not \"int\") to str"
     ]
    }
   ],
   "source": [
    "inputnum = input('인풋 값의 변수는 s')\n",
    "inputnum += 2\n",
    "print(inputnum)"
   ]
  },
  {
   "cell_type": "code",
   "execution_count": 31,
   "id": "2781b042",
   "metadata": {},
   "outputs": [
    {
     "name": "stdout",
     "output_type": "stream",
     "text": [
      "인풋 값의 변수는 s2\n",
      "4\n"
     ]
    }
   ],
   "source": [
    "inputnum = int(input('인풋 값의 변수는 s'))\n",
    "inputnum += 2\n",
    "print(inputnum)"
   ]
  },
  {
   "cell_type": "code",
   "execution_count": 32,
   "id": "665353bd",
   "metadata": {},
   "outputs": [
    {
     "name": "stdout",
     "output_type": "stream",
     "text": [
      "value =  150\n"
     ]
    }
   ],
   "source": [
    "print(\"value = \", 10+20+30+40+50)"
   ]
  },
  {
   "cell_type": "code",
   "execution_count": 33,
   "id": "b01ee041",
   "metadata": {},
   "outputs": [
    {
     "name": "stdout",
     "output_type": "stream",
     "text": [
      "010&1234&5678\n"
     ]
    }
   ],
   "source": [
    "print(\"010\", \"1234\", \"5678\", sep=\"&\") "
   ]
  },
  {
   "cell_type": "code",
   "execution_count": 35,
   "id": "64213f6d",
   "metadata": {},
   "outputs": [
    {
     "name": "stdout",
     "output_type": "stream",
     "text": [
      "01012345678\n"
     ]
    }
   ],
   "source": [
    "print(\"010\"\n",
    "      \"1234\"\n",
    "      \"5678\") "
   ]
  },
  {
   "cell_type": "code",
   "execution_count": 36,
   "id": "986a7775",
   "metadata": {},
   "outputs": [
    {
     "name": "stdout",
     "output_type": "stream",
     "text": [
      "01012345678\n"
     ]
    }
   ],
   "source": [
    "print(\"010\"\"1234\"\"5678\") "
   ]
  },
  {
   "cell_type": "code",
   "execution_count": 39,
   "id": "144a6f4d",
   "metadata": {},
   "outputs": [
    {
     "name": "stdout",
     "output_type": "stream",
     "text": [
      "value = 10, value = 20\n"
     ]
    }
   ],
   "source": [
    "print(\"value =\", 10, end = \", \")\n",
    "\n",
    "\n",
    "print(\"value =\", 20)"
   ]
  },
  {
   "cell_type": "code",
   "execution_count": 41,
   "id": "2bdc97a3",
   "metadata": {},
   "outputs": [
    {
     "name": "stdout",
     "output_type": "stream",
     "text": [
      "   3.200\n"
     ]
    }
   ],
   "source": [
    "print(format(3.2,'8.3f') )"
   ]
  },
  {
   "cell_type": "code",
   "execution_count": 42,
   "id": "3855e4fb",
   "metadata": {},
   "outputs": [
    {
     "name": "stdout",
     "output_type": "stream",
     "text": [
      "원주율 =     3.142\n"
     ]
    }
   ],
   "source": [
    "print('원주율 = ', format(3.14159, '8.3f'))"
   ]
  },
  {
   "cell_type": "code",
   "execution_count": 43,
   "id": "450efa82",
   "metadata": {},
   "outputs": [
    {
     "name": "stdout",
     "output_type": "stream",
     "text": [
      "10 + 20 = 30\n",
      "10 + 20 = 30\n",
      "이름은 홍길동 이고, 나이는 35 입니다.\n"
     ]
    }
   ],
   "source": [
    "num1 = 10; num2 = 20\n",
    "tot = num1 + num2\n",
    "print('10 + 20 = %d' %tot ) \n",
    "print('%d + %d = %d' %(num1, num2, tot) )\n",
    "print('이름은 %s 이고, 나이는 %d 입니다.' %('홍길동', 35))\n"
   ]
  },
  {
   "cell_type": "code",
   "execution_count": 47,
   "id": "b48b6c06",
   "metadata": {},
   "outputs": [
    {
     "name": "stdout",
     "output_type": "stream",
     "text": [
      "전체 50%가 170cm 이상이다.\n"
     ]
    }
   ],
   "source": [
    "print('전체 %d%%가 170cm 이상이다.' %50)"
   ]
  },
  {
   "cell_type": "code",
   "execution_count": 48,
   "id": "a388b32c",
   "metadata": {},
   "outputs": [],
   "source": [
    "# 외부 상수 받기\n",
    "# 형식) print( '{ }' .format(값) )"
   ]
  },
  {
   "cell_type": "code",
   "execution_count": 49,
   "id": "ac2a94bf",
   "metadata": {},
   "outputs": [
    {
     "name": "stdout",
     "output_type": "stream",
     "text": [
      "이름은 홍길동 이고, 나이는 35 입니다.\n",
      "이름은 홍길동 이고, 나이는 35 입니다.\n"
     ]
    }
   ],
   "source": [
    "print('이름은 {} 이고, 나이는 {} 입니다.' .format('홍길동', 35))\n",
    "print('이름은 {1} 이고, 나이는 {0} 입니다.' .format(35, '홍길동'))\n"
   ]
  },
  {
   "cell_type": "code",
   "execution_count": 50,
   "id": "05b3f17c",
   "metadata": {},
   "outputs": [
    {
     "name": "stdout",
     "output_type": "stream",
     "text": [
      "이름은 홍길동 이고, 나이는 35 입니다.\n"
     ]
    }
   ],
   "source": [
    "name = \"홍길동\"; age = 35\n",
    "print(f'이름은 {name} 이고, 나이는 {age} 입니다.')"
   ]
  },
  {
   "cell_type": "code",
   "execution_count": 55,
   "id": "677939bf",
   "metadata": {},
   "outputs": [
    {
     "ename": "SyntaxError",
     "evalue": "invalid syntax (1297891499.py, line 3)",
     "output_type": "error",
     "traceback": [
      "\u001b[1;36m  Input \u001b[1;32mIn [55]\u001b[1;36m\u001b[0m\n\u001b[1;33m    print('이름은 {'name'} 이고, 나이는 {'age'} 입니다.')\u001b[0m\n\u001b[1;37m                 ^\u001b[0m\n\u001b[1;31mSyntaxError\u001b[0m\u001b[1;31m:\u001b[0m invalid syntax\n"
     ]
    }
   ],
   "source": [
    "name = \"홍길동\"\n",
    "age = 35\n",
    "print('이름은 {'name'} 이고, 나이는 {'age'} 입니다.')"
   ]
  },
  {
   "cell_type": "code",
   "execution_count": 56,
   "id": "abcbcba6",
   "metadata": {},
   "outputs": [
    {
     "name": "stdout",
     "output_type": "stream",
     "text": [
      "이름은 홍길동 이고, 나이는 35 입니다.\n"
     ]
    }
   ],
   "source": [
    "name = \"홍길동\"\n",
    "age = 35\n",
    "print(f'이름은 {name} 이고, 나이는 {age} 입니다.')"
   ]
  },
  {
   "cell_type": "code",
   "execution_count": null,
   "id": "204b7c91",
   "metadata": {},
   "outputs": [],
   "source": [
    "# 축약형으로 Sql 쿼리만들기\n"
   ]
  },
  {
   "cell_type": "code",
   "execution_count": 57,
   "id": "ab8c834e",
   "metadata": {},
   "outputs": [
    {
     "name": "stdout",
     "output_type": "stream",
     "text": [
      "id input : lbh\n",
      "select * from member uid = lbh\n"
     ]
    }
   ],
   "source": [
    "uid = input(\"id input : \")\n",
    "query = f\"select * from member uid = {uid}\"\n",
    "print(query)"
   ]
  },
  {
   "cell_type": "code",
   "execution_count": 60,
   "id": "df9a79a0",
   "metadata": {},
   "outputs": [
    {
     "name": "stdout",
     "output_type": "stream",
     "text": [
      "this is one line string\n",
      "this is one line string\n",
      "this is\n",
      "multi line\n",
      "string\n",
      "this is\n",
      "multi line\n",
      "string\n"
     ]
    }
   ],
   "source": [
    "oneLine = 'this is one line string'\n",
    "oneLine2 = \"this is one line string\"\n",
    "\n",
    "multiLine = \"\"\"this is\n",
    "multi line\n",
    "string\"\"\"\n",
    "\n",
    "multiLine2 =\"this is\\nmulti line\\nstring\"\n",
    "\n",
    "print(oneLine)\n",
    "print(oneLine2)\n",
    "print(multiLine)\n",
    "print(multiLine2)"
   ]
  },
  {
   "cell_type": "code",
   "execution_count": 61,
   "id": "97cf3c1b",
   "metadata": {},
   "outputs": [
    {
     "name": "stdout",
     "output_type": "stream",
     "text": [
      "P\n",
      "N\n",
      "N\n",
      "P\n"
     ]
    }
   ],
   "source": [
    "string = \"PYTHON\"\n",
    "print(string[0])\n",
    "print(string[5])\n",
    "print(string[-1])\n",
    "print(string[-6])"
   ]
  },
  {
   "cell_type": "code",
   "execution_count": 62,
   "id": "5fc28e1b",
   "metadata": {},
   "outputs": [
    {
     "name": "stdout",
     "output_type": "stream",
     "text": [
      "python program\n"
     ]
    }
   ],
   "source": [
    "print(\"python\" + \" program\") # 결합연산자\n"
   ]
  },
  {
   "cell_type": "code",
   "execution_count": 63,
   "id": "91ba584c",
   "metadata": {},
   "outputs": [
    {
     "ename": "TypeError",
     "evalue": "can only concatenate str (not \"float\") to str",
     "output_type": "error",
     "traceback": [
      "\u001b[1;31m---------------------------------------------------------------------------\u001b[0m",
      "\u001b[1;31mTypeError\u001b[0m                                 Traceback (most recent call last)",
      "Input \u001b[1;32mIn [63]\u001b[0m, in \u001b[0;36m<cell line: 1>\u001b[1;34m()\u001b[0m\n\u001b[1;32m----> 1\u001b[0m \u001b[38;5;28mprint\u001b[39m(\u001b[38;5;124;43m\"\u001b[39;49m\u001b[38;5;124;43mpython-\u001b[39;49m\u001b[38;5;124;43m\"\u001b[39;49m\u001b[43m \u001b[49m\u001b[38;5;241;43m+\u001b[39;49m\u001b[43m \u001b[49m\u001b[38;5;241;43m3.7\u001b[39;49m \u001b[38;5;241m+\u001b[39m \u001b[38;5;124m\"\u001b[39m\u001b[38;5;124m.exe\u001b[39m\u001b[38;5;124m\"\u001b[39m)\n",
      "\u001b[1;31mTypeError\u001b[0m: can only concatenate str (not \"float\") to str"
     ]
    }
   ],
   "source": [
    "print(\"python-\" + 3.7 + \".exe\") # error\n"
   ]
  },
  {
   "cell_type": "code",
   "execution_count": 64,
   "id": "eec1c6f1",
   "metadata": {},
   "outputs": [
    {
     "name": "stdout",
     "output_type": "stream",
     "text": [
      "python-3.7.exe\n"
     ]
    }
   ],
   "source": [
    "print(\"python-\" + str(3.7) + \".exe\") "
   ]
  },
  {
   "cell_type": "code",
   "execution_count": 65,
   "id": "f56b662d",
   "metadata": {},
   "outputs": [
    {
     "name": "stdout",
     "output_type": "stream",
     "text": [
      "******************************\n"
     ]
    }
   ],
   "source": [
    "print(\"*\" * 30)"
   ]
  },
  {
   "cell_type": "code",
   "execution_count": 68,
   "id": "c71e7be5",
   "metadata": {},
   "outputs": [
    {
     "data": {
      "text/plain": [
       "'this is one line string'"
      ]
     },
     "execution_count": 68,
     "metadata": {},
     "output_type": "execute_result"
    }
   ],
   "source": [
    "oneLine = 'this is one line string'\n",
    "oneLine"
   ]
  },
  {
   "cell_type": "code",
   "execution_count": 69,
   "id": "486df74f",
   "metadata": {},
   "outputs": [
    {
     "name": "stdout",
     "output_type": "stream",
     "text": [
      "this is one line string\n",
      "문자열 길이 :  23\n",
      "this\n",
      "this\n",
      "this is one line string\n",
      "ti soeln tig\n"
     ]
    }
   ],
   "source": [
    "# 왼쪽 기준\n",
    "print(oneLine)\n",
    "print(\"문자열 길이 : \", len(oneLine))\n",
    "print(oneLine[0:4]) # [start:end-1] - this\n",
    "print(oneLine[:4]) # [:end-1] : 처음부터 ~\n",
    "print(oneLine[:]) # 전체 원소 : this is one line string\n",
    "print(oneLine[::2]) # 2의 배수 index : ti soeln tig"
   ]
  },
  {
   "cell_type": "code",
   "execution_count": 71,
   "id": "716db15f",
   "metadata": {},
   "outputs": [
    {
     "name": "stdout",
     "output_type": "stream",
     "text": [
      "this is one line string\n",
      "ti soeln ti\n",
      "strin\n",
      "git\n",
      "string\n"
     ]
    }
   ],
   "source": [
    "# 오른쪽 기준\n",
    "print(oneLine)\n",
    "print(oneLine[0:-1:2])\n",
    "print(oneLine[-6:-1]) # strin\n",
    "print(oneLine[-1:-6:-2])\n",
    "print(oneLine[-6:]) # [start:end] - string"
   ]
  },
  {
   "cell_type": "code",
   "execution_count": 76,
   "id": "b422782c",
   "metadata": {},
   "outputs": [
    {
     "name": "stdout",
     "output_type": "stream",
     "text": [
      "[ 1] [  1] [   1]\n",
      "[ 2] [  4] [   8]\n",
      "[ 3] [  9] [  27]\n",
      "\n"
     ]
    }
   ],
   "source": [
    "for x in range(1, 4):\n",
    "    print('[{0:2d}] [{1:3d}] [{2:4d}]'.format(x, x*x, x*x*x))\n",
    "print()"
   ]
  },
  {
   "cell_type": "code",
   "execution_count": 92,
   "id": "8e096575",
   "metadata": {
    "scrolled": true
   },
   "outputs": [
    {
     "name": "stdout",
     "output_type": "stream",
     "text": [
      "this is one line string\n",
      "ti soeln tig\n",
      "t ol i\n"
     ]
    }
   ],
   "source": [
    "# 오른쪽 기준\n",
    "print(oneLine)\n",
    "print(oneLine[0::2])\n",
    "print(oneLine[0:-1:4])"
   ]
  },
  {
   "cell_type": "code",
   "execution_count": 93,
   "id": "128ad5ef",
   "metadata": {},
   "outputs": [
    {
     "name": "stdout",
     "output_type": "stream",
     "text": [
      "line string\n"
     ]
    }
   ],
   "source": [
    "# 부분 문자열 생성\n",
    "subString = oneLine[-11:]\n",
    "print(subString) # line string"
   ]
  },
  {
   "cell_type": "code",
   "execution_count": 94,
   "id": "e8ee1c4f",
   "metadata": {},
   "outputs": [
    {
     "name": "stdout",
     "output_type": "stream",
     "text": [
      "t 글자 수 :  2\n"
     ]
    }
   ],
   "source": [
    "# 특정 글자 수 반환\n",
    "oneLine = \"this is one line string\"\n",
    "print('t 글자 수 : ', oneLine.count('t'))"
   ]
  },
  {
   "cell_type": "code",
   "execution_count": 95,
   "id": "c3894baa",
   "metadata": {},
   "outputs": [
    {
     "name": "stdout",
     "output_type": "stream",
     "text": [
      "True\n",
      "False\n"
     ]
    }
   ],
   "source": [
    "# 접두어 문자 비교 판단\n",
    "print(oneLine.startswith('this'))\n",
    "print(oneLine.startswith('that'))"
   ]
  },
  {
   "cell_type": "code",
   "execution_count": 96,
   "id": "38936598",
   "metadata": {},
   "outputs": [
    {
     "name": "stdout",
     "output_type": "stream",
     "text": [
      "that is one line string\n"
     ]
    },
    {
     "data": {
      "text/plain": [
       "'this is one line string'"
      ]
     },
     "execution_count": 96,
     "metadata": {},
     "output_type": "execute_result"
    }
   ],
   "source": [
    "# 문자열 교체\n",
    "print(oneLine.replace('this', 'that'))\n",
    "oneLine # 바뀌지 않았음"
   ]
  },
  {
   "cell_type": "code",
   "execution_count": 97,
   "id": "755bafee",
   "metadata": {},
   "outputs": [
    {
     "name": "stdout",
     "output_type": "stream",
     "text": [
      "문장 :  ['this is', 'multi line', 'string']\n"
     ]
    }
   ],
   "source": [
    "# 문자열 분리(split) : 문단 -> 문장\n",
    "multiLine = \"\"\"this is\n",
    "multi line\n",
    "string\"\"\"\n",
    "sent = multiLine.split('\\n')\n",
    "print('문장 : ', sent)"
   ]
  },
  {
   "cell_type": "code",
   "execution_count": 98,
   "id": "b3997806",
   "metadata": {},
   "outputs": [
    {
     "name": "stdout",
     "output_type": "stream",
     "text": [
      "단어 : ['this', 'is', 'one', 'line', 'string']\n"
     ]
    }
   ],
   "source": [
    "# 문자열 분리(split)2 : 문장 -> 단어\n",
    "words = oneLine.split()  # split(sep = ' ') : default\n",
    "print('단어 :', words)  # ['this', 'is', 'one', 'line', 'string']\n"
   ]
  },
  {
   "cell_type": "code",
   "execution_count": 99,
   "id": "639f2922",
   "metadata": {},
   "outputs": [
    {
     "name": "stdout",
     "output_type": "stream",
     "text": [
      "this,is,one,line,string\n",
      "<class 'str'>\n"
     ]
    }
   ],
   "source": [
    "# 문자열 결합(join) : 단어들 -> 문장\n",
    "sent2 = ','.join(words) # '구분자'.join(string) : 'this is',\n",
    "print(sent2) # this,is,one,line,string\n",
    "print(type(sent2))"
   ]
  },
  {
   "cell_type": "code",
   "execution_count": null,
   "id": "3616b484",
   "metadata": {},
   "outputs": [],
   "source": [
    "# escape 처리"
   ]
  },
  {
   "cell_type": "code",
   "execution_count": 100,
   "id": "99f70db4",
   "metadata": {},
   "outputs": [
    {
     "name": "stdout",
     "output_type": "stream",
     "text": [
      "\n",
      "출력 이스케이프 문자\n",
      "\\n출력 이스케이프 차단1\n",
      "\\n출력 이스케이프 차단2\n"
     ]
    }
   ],
   "source": [
    "print('\\n출력 이스케이프 문자') # \\n : 줄 바꿈 기능\n",
    "print('\\\\n출력 이스케이프 차단1') # escape 기능 차단1 - \\\n",
    "print(r'\\n출력 이스케이프 차단2') # escape 기능 차단2 "
   ]
  },
  {
   "cell_type": "code",
   "execution_count": 101,
   "id": "a3f08380",
   "metadata": {},
   "outputs": [
    {
     "name": "stdout",
     "output_type": "stream",
     "text": [
      "path = C:\\Python\test\n",
      "path = C:\\Python\\test\n",
      "path = C:\\Python\\test\n"
     ]
    }
   ],
   "source": [
    "#경로 표현  : C:\\Python\\test\n",
    "print('path =', 'C:\\Python\\test')\n",
    "print('path =', 'C:\\\\Python\\\\test')\n",
    "print('path =', r'C:\\Python\\test')"
   ]
  },
  {
   "cell_type": "raw",
   "id": "5eb82d79",
   "metadata": {},
   "source": [
    "con = '''\n",
    "if 조건식:\n",
    "  실행문\n",
    "  실행문\n",
    "'''"
   ]
  },
  {
   "cell_type": "code",
   "execution_count": 103,
   "id": "6d52e184",
   "metadata": {},
   "outputs": [
    {
     "name": "stdout",
     "output_type": "stream",
     "text": [
      "점수 입력(1~100) : 1\n",
      "num =  1\n"
     ]
    }
   ],
   "source": [
    "num = int(input('점수 입력(1~100) : '))\n",
    "print('num = ', num)"
   ]
  },
  {
   "cell_type": "code",
   "execution_count": 104,
   "id": "5f1a23a1",
   "metadata": {},
   "outputs": [
    {
     "name": "stdout",
     "output_type": "stream",
     "text": [
      "홀수\n"
     ]
    }
   ],
   "source": [
    "if num % 2 != 0 :\n",
    "    print('홀수')\n",
    "else :\n",
    "    print('짝수')"
   ]
  }
 ],
 "metadata": {
  "kernelspec": {
   "display_name": "Python 3 (ipykernel)",
   "language": "python",
   "name": "python3"
  },
  "language_info": {
   "codemirror_mode": {
    "name": "ipython",
    "version": 3
   },
   "file_extension": ".py",
   "mimetype": "text/x-python",
   "name": "python",
   "nbconvert_exporter": "python",
   "pygments_lexer": "ipython3",
   "version": "3.8.13"
  }
 },
 "nbformat": 4,
 "nbformat_minor": 5
}
