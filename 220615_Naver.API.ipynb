{
 "cells": [
  {
   "cell_type": "code",
   "execution_count": 1,
   "id": "94f27c3f",
   "metadata": {},
   "outputs": [],
   "source": [
    "import requests\n",
    "import urllib.request\n",
    "import json\n",
    "import requests\n"
   ]
  },
  {
   "cell_type": "markdown",
   "id": "e46e53af",
   "metadata": {},
   "source": [
    "https://developers.naver.com/docs/serviceapi/search/blog/blog.md#%EB%B8%94%EB%A1%9C%EA%B7%B8"
   ]
  },
  {
   "cell_type": "code",
   "execution_count": null,
   "id": "ee18ffdb",
   "metadata": {},
   "outputs": [],
   "source": [
    "# 네이버 검색 API예제는 블로그를 비롯 전문자료까지 호출방법이 동일하므로 blog검색만 대표로 예제를 올렸습니다.\n",
    "# 네이버 검색 Open API 예제 - 블로그 검색\n",
    "import os\n",
    "import sys\n",
    "import urllib.request\n",
    "client_id = \"2l0Dd0aMA66sILz2umZ4\"\n",
    "client_secret = \"a084hRZ7ZY\"\n",
    "encText = urllib.parse.quote(\"강아지\")\n",
    "url = \"https://openapi.naver.com/v1/search/blog?query=\" + encText # json 결과\n",
    "# url = \"https://openapi.naver.com/v1/search/blog.xml?query=\" + encText # xml 결과\n",
    "request = urllib.request.Request(url)\n",
    "request.add_header(\"X-Naver-Client-Id\",client_id)\n",
    "request.add_header(\"X-Naver-Client-Secret\",client_secret)\n",
    "response = urllib.request.urlopen(request)\n",
    "rescode = response.getcode()\n",
    "if(rescode==200):\n",
    "    response_body = response.read()\n",
    "    print(response_body.decode('utf-8'))\n",
    "else:\n",
    "    print(\"Error Code:\" + rescode)\n"
   ]
  },
  {
   "cell_type": "markdown",
   "id": "82f97d3b",
   "metadata": {},
   "source": [
    "request로 해보자."
   ]
  },
  {
   "cell_type": "code",
   "execution_count": null,
   "id": "9bfa9361",
   "metadata": {},
   "outputs": [],
   "source": [
    "# 네이버 검색 API예제는 블로그를 비롯 전문자료까지 호출방법이 동일하므로 blog검색만 대표로 예제를 올렸습니다.\n",
    "# 네이버 검색 Open API 예제 - 블로그 검색\n",
    "import os\n",
    "import sys\n",
    "import urllib.request\n",
    "client_id = \"2l0Dd0aMA66sILz2umZ4\"\n",
    "client_secret = \"a084hRZ7ZY\"\n",
    "encText = urllib.parse.quote(\"강아지\")\n",
    "url = \"https://openapi.naver.com/v1/search/blog?query=\" + encText # json 결과\n",
    "# url = \"https://openapi.naver.com/v1/search/blog.xml?query=\" + encText # xml 결과\n",
    "request = urllib.request.Request(url)\n",
    "request.add_header(\"X-Naver-Client-Id\",client_id)\n",
    "request.add_header(\"X-Naver-Client-Secret\",client_secret)\n",
    "response = urllib.request.urlopen(request)\n",
    "rescode = response.getcode()\n",
    "if(rescode==200):\n",
    "    response_body = response.read()\n",
    "    print(response_body.decode('utf-8'))\n",
    "else:\n",
    "    print(\"Error Code:\" + rescode)\n"
   ]
  },
  {
   "cell_type": "code",
   "execution_count": null,
   "id": "7030173c",
   "metadata": {},
   "outputs": [],
   "source": [
    "url = 'https://openapi.naver.com/v1/search/blog?query='\n",
    "params = {\n",
    "    'query' : '가뭄',\n",
    "    'display' : '20',\n",
    "    'start':'1',\n",
    "    'sort': 'sim'    \n",
    "}\n",
    "headers = {\n",
    "    'X-Naver-Client-Id' : '2l0Dd0aMA66sILz2umZ4',\n",
    "    'X-Naver-Client-Secret' : 'a084hRZ7ZY'\n",
    "}\n"
   ]
  },
  {
   "cell_type": "code",
   "execution_count": null,
   "id": "d6e6721c",
   "metadata": {},
   "outputs": [],
   "source": [
    "response = requests.get(url, headers=headers, params=params)\n",
    "response.status_code"
   ]
  },
  {
   "cell_type": "code",
   "execution_count": null,
   "id": "f8ef393f",
   "metadata": {},
   "outputs": [],
   "source": [
    "if response.status_code ==200:\n",
    "    data = response.json()"
   ]
  },
  {
   "cell_type": "code",
   "execution_count": null,
   "id": "5cd2efcc",
   "metadata": {},
   "outputs": [],
   "source": [
    "data"
   ]
  },
  {
   "cell_type": "code",
   "execution_count": null,
   "id": "c8f1c6fc",
   "metadata": {},
   "outputs": [],
   "source": [
    "items = data['items']\n",
    "item = items[0]\n",
    "item['title']"
   ]
  },
  {
   "cell_type": "code",
   "execution_count": null,
   "id": "eccaa683",
   "metadata": {},
   "outputs": [],
   "source": [
    "for item in items:\n",
    "    title = item['title']\n",
    "    title = title.replace('<b>','')\n",
    "    #print(title)"
   ]
  },
  {
   "cell_type": "code",
   "execution_count": null,
   "id": "7d7d173c",
   "metadata": {},
   "outputs": [],
   "source": [
    "print(title)"
   ]
  },
  {
   "cell_type": "code",
   "execution_count": null,
   "id": "363befae",
   "metadata": {},
   "outputs": [],
   "source": [
    "for item in items:\n",
    "    title = item['title']\n",
    "    title = title.replace('<b>','')\n",
    "    #print(title)"
   ]
  },
  {
   "cell_type": "code",
   "execution_count": null,
   "id": "f452407c",
   "metadata": {},
   "outputs": [],
   "source": [
    "print(items[1])\n",
    "bloggerlink = item['bloggerlink']\n",
    "bloggernum = item['bloggerlink'].plit('logNo=')[1]\n",
    "bloggertitle = item['title']\n",
    "bloggerdate = item['postdate']\n",
    "bloggername = item['bloggername']\n",
    "bloggerscript = item['description']\n",
    "\n",
    "print(bloggernum)\n",
    "print(bloggertitle)\n",
    "print(bloggername)\n",
    "print(bloggerdate)\n",
    "print(bloggerscript)\n",
    "print(bloggerlink)"
   ]
  },
  {
   "cell_type": "code",
   "execution_count": null,
   "id": "4cfdf9b0",
   "metadata": {},
   "outputs": [],
   "source": []
  }
 ],
 "metadata": {
  "kernelspec": {
   "display_name": "Python 3 (ipykernel)",
   "language": "python",
   "name": "python3"
  },
  "language_info": {
   "codemirror_mode": {
    "name": "ipython",
    "version": 3
   },
   "file_extension": ".py",
   "mimetype": "text/x-python",
   "name": "python",
   "nbconvert_exporter": "python",
   "pygments_lexer": "ipython3",
   "version": "3.8.13"
  }
 },
 "nbformat": 4,
 "nbformat_minor": 5
}
