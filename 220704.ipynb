{
 "cells": [
  {
   "cell_type": "markdown",
   "id": "0d08e324",
   "metadata": {},
   "source": [
    "## 파이썬 자료구조\n",
    "- 열거형 객체 : 하나의 메모리 영역에 여러 개의 자료가 나열된 집합 자료구조\n",
    "- 자료구조 : 열거형 객체가 메모리에 배정될 때 기억공간에 적재되는 구조\n",
    "- 순서가 있는 자료구조와 순서가 없는 자료구조로 구분\n",
    "### 순서 있는 자료구조 Sequence Data Structure\n",
    "- str, list, tuple 클래스\n",
    "### str\n",
    "- 문자들의 모음\n",
    "- 일정한 순서를 갖는다.\n",
    "- 색인을 이용하여 원소를 참조할 수 있다."
   ]
  },
  {
   "cell_type": "code",
   "execution_count": 56,
   "id": "c5cf2d48",
   "metadata": {},
   "outputs": [
    {
     "name": "stdout",
     "output_type": "stream",
     "text": [
      "string\n",
      "<class 'str'>\n",
      "s\n",
      "g\n"
     ]
    }
   ],
   "source": [
    "# str 클래스 형식\n",
    "str_var = str(object='string')\n",
    "print(str_var)\n",
    "print(type(str_var))\n",
    "print(str_var[0])\n",
    "print(str_var[-1])"
   ]
  },
  {
   "cell_type": "code",
   "execution_count": 57,
   "id": "82e732b3",
   "metadata": {},
   "outputs": [
    {
     "name": "stdout",
     "output_type": "stream",
     "text": [
      "string\n",
      "<class 'str'>\n",
      "s\n",
      "g\n"
     ]
    }
   ],
   "source": [
    "# str 클래스 간편 형식\n",
    "str_var2 = 'string'\n",
    "print(str_var2)\n",
    "print(type(str_var2))\n",
    "print(str_var2[0])\n",
    "print(str_var2[-1])\n"
   ]
  },
  {
   "cell_type": "markdown",
   "id": "9442b2ef",
   "metadata": {},
   "source": [
    "### list [] or list()\n",
    "- 1차원 배열 구조\n",
    "    - 형식) list변수 = [값1, 값2,..]\n",
    "- 다양한 자료형 저장 가능\n",
    "- index 사용(순서 있음)\n",
    "    - 형식) list변수[index]\n",
    "- 값 수정(추가,삽입,수정,삭제)\n"
   ]
  },
  {
   "cell_type": "code",
   "execution_count": 58,
   "id": "22f9905d",
   "metadata": {},
   "outputs": [],
   "source": [
    "#help(list) # Help on class list in module builtins:"
   ]
  },
  {
   "cell_type": "code",
   "execution_count": 59,
   "id": "43249880",
   "metadata": {
    "scrolled": true
   },
   "outputs": [
    {
     "name": "stdout",
     "output_type": "stream",
     "text": [
      "[1, 2, 3, 4, 5]\n",
      "<class 'list'>\n",
      "[1]\n",
      "[1, 2]\n",
      "[1, 2, 3]\n",
      "[1, 2, 3, 4]\n",
      "[1, 2, 3, 4, 5]\n"
     ]
    }
   ],
   "source": [
    "# 단일 list 예\n",
    "lst = [1,2,3,4,5]\n",
    "print(lst)\n",
    "print(type(lst))\n",
    "for i in lst :\n",
    "    print(lst[:i]) # i 전까지"
   ]
  },
  {
   "cell_type": "code",
   "execution_count": 60,
   "id": "0584d7f5",
   "metadata": {
    "scrolled": true
   },
   "outputs": [
    {
     "name": "stdout",
     "output_type": "stream",
     "text": [
      "[1, 2, 3, 4, 5]\n",
      "[2, 3, 4, 5]\n",
      "[3, 4, 5]\n",
      "[4, 5]\n",
      "[5]\n"
     ]
    }
   ],
   "source": [
    "for i in lst :\n",
    "    print(lst[i-1: ])\n"
   ]
  },
  {
   "cell_type": "code",
   "execution_count": 61,
   "id": "5e5b0db3",
   "metadata": {
    "scrolled": false
   },
   "outputs": [
    {
     "name": "stdout",
     "output_type": "stream",
     "text": [
      "[1, 2, 3, 4, 5, 6, 7, 8, 9, 10]\n",
      "[1, 2, 3, 4, 5]\n",
      "[6, 7, 8, 9, 10]\n"
     ]
    }
   ],
   "source": [
    "x = list(range(1, 11))\n",
    "print(x)\n",
    "print(x[:5]) # [1, 2, 3, 4, 5]\n",
    "print(x[-5:]) # [96, 97, 98, 99, 100]"
   ]
  },
  {
   "cell_type": "code",
   "execution_count": 62,
   "id": "6c16df1f",
   "metadata": {
    "scrolled": false
   },
   "outputs": [
    {
     "name": "stdout",
     "output_type": "stream",
     "text": [
      "[4, 5]\n"
     ]
    }
   ],
   "source": [
    "print(x[3:5])"
   ]
  },
  {
   "cell_type": "code",
   "execution_count": 63,
   "id": "342fd39c",
   "metadata": {
    "scrolled": true
   },
   "outputs": [
    {
     "name": "stdout",
     "output_type": "stream",
     "text": [
      "index 2씩 증가 \n",
      "[1, 3, 5, 7, 9]\n",
      "[2, 4, 6, 8, 10]\n"
     ]
    }
   ],
   "source": [
    "print('index 2씩 증가 ')\n",
    "print(x[::2]) # 홀수 \n",
    "print(x[1::2]) # 짝수(index 1부터 시작) \n"
   ]
  },
  {
   "cell_type": "code",
   "execution_count": 64,
   "id": "25e273e3",
   "metadata": {
    "scrolled": true
   },
   "outputs": [
    {
     "name": "stdout",
     "output_type": "stream",
     "text": [
      "[2, 4, 6, 8, 10]\n"
     ]
    }
   ],
   "source": [
    "print(x[1::2])"
   ]
  },
  {
   "cell_type": "code",
   "execution_count": 65,
   "id": "503db848",
   "metadata": {
    "scrolled": true
   },
   "outputs": [
    {
     "name": "stdout",
     "output_type": "stream",
     "text": [
      "[2, 4, 6, 8, 10]\n"
     ]
    }
   ],
   "source": [
    "print(x[1::2])"
   ]
  },
  {
   "cell_type": "markdown",
   "id": "d89be68c",
   "metadata": {},
   "source": [
    "### 아래 중요. 중첩 list 생성\n"
   ]
  },
  {
   "cell_type": "code",
   "execution_count": 66,
   "id": "6d2d40e7",
   "metadata": {
    "scrolled": true
   },
   "outputs": [
    {
     "name": "stdout",
     "output_type": "stream",
     "text": [
      "10\n",
      "['a', 'b', 'c']\n",
      "a\n",
      "['b', 'c']\n"
     ]
    }
   ],
   "source": [
    "a = ['a', 'b', 'c']  # list 생성 \n",
    "b = [10, 20, a, 5, True, '문자열'] # 서로 다른 type 가능\n",
    "print(b[0]) # 10\n",
    "print(b[2]) # ['a', 'b', 'c'] -> 중첩 list \n",
    "print(b[2][0]) # a  -> 중첩 list 1번 원소 \n",
    "print(b[2][1:]) # ['b', 'c'] -> 중첩 list 2번 이후 원소 "
   ]
  },
  {
   "cell_type": "code",
   "execution_count": 67,
   "id": "b8b02a72",
   "metadata": {
    "scrolled": true
   },
   "outputs": [
    {
     "name": "stdout",
     "output_type": "stream",
     "text": [
      "<class 'list'> <class 'list'>\n",
      "2429544634816 2429542972800\n"
     ]
    }
   ],
   "source": [
    "# 자료구조 확인\n",
    "print(type(a), type(b)) # <class 'list'>\n",
    "print(id(a), id(b)) # 40648584 40647432"
   ]
  },
  {
   "cell_type": "code",
   "execution_count": 68,
   "id": "c615b3a5",
   "metadata": {},
   "outputs": [
    {
     "name": "stdout",
     "output_type": "stream",
     "text": [
      "['one', 'two', 'three', 'four']\n",
      "4\n",
      "['one', 'two', 'three', 'four', 'five']\n",
      "['one', 'two', 'three', 'four']\n",
      "['one', 'two', 'three', '4']\n"
     ]
    }
   ],
   "source": [
    "# 추가,삭제,수정,삽입\n",
    "num = ['one', 'two', 'three', 'four']\n",
    "\n",
    "print(num) # ['one', 'two', 'three', 'four']\n",
    "print(len(num)) # 4\n",
    "\n",
    "num.append('five') # 추가\n",
    "print(num) # ['one', 'two', 'three', 'four', 'five']\n",
    "\n",
    "num.remove('five') # 삭제 \n",
    "print(num)\n",
    "\n",
    "num[3] = '4' # 수정 \n",
    "print(num)"
   ]
  },
  {
   "cell_type": "code",
   "execution_count": 69,
   "id": "13d4229a",
   "metadata": {},
   "outputs": [
    {
     "name": "stdout",
     "output_type": "stream",
     "text": [
      "[1, 2, 3, 4, 1.5, 2.5]\n"
     ]
    }
   ],
   "source": [
    "# list 결합 \n",
    "x =  [1, 2, 3, 4]\n",
    "y = [1.5, 2.5]\n",
    "z = x + y  # new object\n",
    "print(z) # [1, 2, 3, 4, 1.5, 2.5]"
   ]
  },
  {
   "cell_type": "code",
   "execution_count": 70,
   "id": "5c4f4c4a",
   "metadata": {
    "scrolled": true
   },
   "outputs": [
    {
     "name": "stdout",
     "output_type": "stream",
     "text": [
      "[1, 2, 3, 4, 1.5, 2.5]\n"
     ]
    }
   ],
   "source": [
    "# list 확장 \n",
    "x.extend(y)  # x 확장 \n",
    "print(x) # [1, 2, 3, 4, 1.5, 2.5]"
   ]
  },
  {
   "cell_type": "code",
   "execution_count": 71,
   "id": "d275015c",
   "metadata": {},
   "outputs": [
    {
     "name": "stdout",
     "output_type": "stream",
     "text": [
      "[1, 2, 3, 4, 1.5, 2.5, [1.5, 2.5]]\n"
     ]
    }
   ],
   "source": [
    "# list 추가 \n",
    "x.append(y) # x 추가 \n",
    "print(x) # [1, 2, 3, 4, 1.5, 2.5, [1.5, 2.5]]"
   ]
  },
  {
   "cell_type": "code",
   "execution_count": 72,
   "id": "b557d536",
   "metadata": {
    "scrolled": true
   },
   "outputs": [
    {
     "name": "stdout",
     "output_type": "stream",
     "text": [
      "[1, 2, 3, 4, 1, 2, 3, 4]\n"
     ]
    }
   ],
   "source": [
    "# list 제곱  \n",
    "lst = [1, 2, 3, 4] # list 생성\n",
    "\n",
    "# lst 원소를 2개씩 생성하여 result 저장\n",
    "result = lst * 2 # 각 원소 연산 안됨 \n",
    "print(result) # [1, 2, 3, 4, 1, 2, 3, 4]\n"
   ]
  },
  {
   "cell_type": "code",
   "execution_count": 73,
   "id": "4eb47e49",
   "metadata": {},
   "outputs": [
    {
     "name": "stdout",
     "output_type": "stream",
     "text": [
      "1.5 * 2 =  3.0\n"
     ]
    }
   ],
   "source": [
    "# list 사칙연산 : 원소 대상 \n",
    "print('1.5 * 2 = ', y[0] * 2) # 1.5 * 2 =  3.0"
   ]
  },
  {
   "cell_type": "code",
   "execution_count": 74,
   "id": "80fa1a25",
   "metadata": {
    "scrolled": true
   },
   "outputs": [
    {
     "name": "stdout",
     "output_type": "stream",
     "text": [
      "[1, 2, 3, 4, 1, 2, 3, 4]\n",
      "[1, 1, 2, 2, 3, 3, 4, 4]\n",
      "[4, 4, 3, 3, 2, 2, 1, 1]\n"
     ]
    }
   ],
   "source": [
    "# list 정렬과 원소 찾기\n",
    "print(result) # [1, 2, 3, 4, 1, 2, 3, 4]\n",
    "\n",
    "result.sort() # 오름차순 정렬 \n",
    "print(result) #[1, 1, 2, 2, 3, 3, 4, 4]\n",
    "\n",
    "result.sort(reverse = True) # 내림차순 정렬 \n",
    "print(result) # [4, 4, 3, 3, 2, 2, 1, 1]"
   ]
  },
  {
   "cell_type": "code",
   "execution_count": 75,
   "id": "678fb427",
   "metadata": {
    "scrolled": true
   },
   "outputs": [
    {
     "name": "stdout",
     "output_type": "stream",
     "text": [
      "[4, 4, 3, 3, 2, 2, 1, 1]\n"
     ]
    }
   ],
   "source": [
    "print(result)"
   ]
  },
  {
   "cell_type": "code",
   "execution_count": 76,
   "id": "752e8d60",
   "metadata": {},
   "outputs": [],
   "source": [
    "# list에서 원소 찾기\n",
    "tmp='''\n",
    "if '원소' in list : \n",
    "    참 실행문 : list에 '원소' 포함 \n",
    "else :\n",
    "    거짓 실행문 : 미 포함 \n",
    "'''"
   ]
  },
  {
   "cell_type": "code",
   "execution_count": 77,
   "id": "62c68e82",
   "metadata": {},
   "outputs": [
    {
     "name": "stdout",
     "output_type": "stream",
     "text": [
      "[5, 1, 4, 3, 2]\n",
      "있음\n"
     ]
    }
   ],
   "source": [
    "import random\n",
    "\n",
    "r = []\n",
    "for i in range(5) :\n",
    "    r.append(random.randint(1,5))\n",
    "\n",
    "print(r)\n",
    "    \n",
    "if 4 in r :\n",
    "    print('있음')\n",
    "else :\n",
    "    print('없음')\n"
   ]
  },
  {
   "cell_type": "markdown",
   "id": "326cb065",
   "metadata": {},
   "source": [
    "리스트 내포\n",
    "- list에 for문 포함\n",
    "- 형식1) 변수 = [ 실행문 for ]\n",
    "    - 실행순서 : 1.for문 > 2.실행문 > 3.변수 저장\n",
    "- 형식2) 변수 = [ 실행문 for if ]\n",
    "    - 실행순서 : 1.for문 > 2.if > [3.실행문 > 4.변수 저장]\n"
   ]
  },
  {
   "cell_type": "code",
   "execution_count": 78,
   "id": "5a6e0c33",
   "metadata": {},
   "outputs": [],
   "source": [
    "# x변량에 제곱 계산\n",
    "x = [2,4,1,5,7]\n",
    "# print(x ** 2) # error"
   ]
  },
  {
   "cell_type": "code",
   "execution_count": 79,
   "id": "d0a08a49",
   "metadata": {},
   "outputs": [
    {
     "name": "stdout",
     "output_type": "stream",
     "text": [
      "[4, 16, 1, 25, 49]\n"
     ]
    }
   ],
   "source": [
    "lst = [ i ** 2   for i in x ]\n",
    "print(lst) # [4, 16, 1, 25, 49]"
   ]
  },
  {
   "cell_type": "code",
   "execution_count": null,
   "id": "ef61ae8c",
   "metadata": {},
   "outputs": [],
   "source": [
    "# 1~10 -> 2의 배수 추출 -> i*2 -> list 저장\n",
    "lst2 = [\n",
    "    i*2 for i in num\n",
    "    if i % 2 == 0  ]\n",
    "print(lst2)"
   ]
  },
  {
   "cell_type": "markdown",
   "id": "25121c15",
   "metadata": {},
   "source": [
    "### tuple () or tuple()\n",
    "- 순서존재(index 사용 가능)\n",
    "- 수정 불가\n",
    "- 문자열 원소 표현\n",
    "- list 속도 빠름\n",
    "- 제공 함수 없음\n",
    "- 형식) (원소1, 원소2, ...n) : () 생략 가능"
   ]
  },
  {
   "cell_type": "code",
   "execution_count": 83,
   "id": "270d7c9e",
   "metadata": {},
   "outputs": [],
   "source": [
    "#help(tuple) # Help on class tuple in module builtins"
   ]
  },
  {
   "cell_type": "code",
   "execution_count": 84,
   "id": "cc8992dc",
   "metadata": {},
   "outputs": [
    {
     "name": "stdout",
     "output_type": "stream",
     "text": [
      "10\n",
      "10 (10,)\n"
     ]
    }
   ],
   "source": [
    "# 단일 인수\n",
    "t = 10 ; t1 = (10, )\n",
    "t = (10)\n",
    "\n",
    "print(t)\n",
    "print(t, t1) # 10 (10,)"
   ]
  },
  {
   "cell_type": "code",
   "execution_count": 85,
   "id": "e2144f6d",
   "metadata": {},
   "outputs": [
    {
     "name": "stdout",
     "output_type": "stream",
     "text": [
      "(1, 2, 3, 4, 5, 3)\n"
     ]
    }
   ],
   "source": [
    "# 여러개 인수\n",
    "t2 = (1,2,3,4,5,3)\n",
    "print(t2) # (1, 2, 3, 4, 5, 3)\n"
   ]
  }
 ],
 "metadata": {
  "kernelspec": {
   "display_name": "Python 3 (ipykernel)",
   "language": "python",
   "name": "python3"
  },
  "language_info": {
   "codemirror_mode": {
    "name": "ipython",
    "version": 3
   },
   "file_extension": ".py",
   "mimetype": "text/x-python",
   "name": "python",
   "nbconvert_exporter": "python",
   "pygments_lexer": "ipython3",
   "version": "3.8.13"
  }
 },
 "nbformat": 4,
 "nbformat_minor": 5
}
