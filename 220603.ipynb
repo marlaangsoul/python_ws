{
 "cells": [
  {
   "cell_type": "code",
   "execution_count": 8,
   "id": "16fa8d6d",
   "metadata": {},
   "outputs": [
    {
     "name": "stdout",
     "output_type": "stream",
     "text": [
      "True True True\n"
     ]
    }
   ],
   "source": [
    "# str\n",
    "s1 = str(True)\n",
    "s2 = 'True'\n",
    "s3 = \"True\"\n",
    "print(s1,s2,s3)"
   ]
  },
  {
   "cell_type": "code",
   "execution_count": 9,
   "id": "34cc6b44",
   "metadata": {},
   "outputs": [],
   "source": [
    "#list 1차원 배열 : 같은 자료형을 넣을 것인지? 다른 자료 형을 넣을것인지?\n",
    "#이 list는 사실상 arry list와 같다.\n",
    "\n",
    "l1=list()\n",
    "l2=[1, 'a', True, [2,3], {'name':'hong'}]"
   ]
  },
  {
   "cell_type": "code",
   "execution_count": 15,
   "id": "38719b0c",
   "metadata": {},
   "outputs": [],
   "source": [
    "# list = [1,2,3,4,5]\n",
    "# lst[1]\n",
    "# for i in lst:\n",
    "#     print(i)\n",
    "# for i in range(len(lst)):\n",
    "#     if i == 2:\n",
    "#         lst[i] += 100\n",
    "#     print(lst[i])"
   ]
  },
  {
   "cell_type": "code",
   "execution_count": 17,
   "id": "3e432e84",
   "metadata": {},
   "outputs": [
    {
     "name": "stdout",
     "output_type": "stream",
     "text": [
      "[1, 2, 3, 4, 5]\n",
      "<class 'list'>\n",
      "[1]\n",
      "[1, 2]\n",
      "[1, 2, 3]\n",
      "[1, 2, 3, 4]\n",
      "[1, 2, 3, 4, 5]\n"
     ]
    }
   ],
   "source": [
    "# 단일 list 예\n",
    "lst = [1,2,3,4,5]\n",
    "print(lst)\n",
    "print(type(lst))\n",
    "for i in lst :\n",
    "    print(lst[:i]) # i 전까지"
   ]
  },
  {
   "cell_type": "code",
   "execution_count": 18,
   "id": "e2e051f2",
   "metadata": {},
   "outputs": [
    {
     "name": "stdout",
     "output_type": "stream",
     "text": [
      "[1, 2, 3, 4, 5]\n",
      "[2, 3, 4, 5]\n",
      "[3, 4, 5]\n",
      "[4, 5]\n",
      "[5]\n"
     ]
    }
   ],
   "source": [
    "for i in lst :\n",
    "    print(lst[i-1:])"
   ]
  }
 ],
 "metadata": {
  "kernelspec": {
   "display_name": "Python 3 (ipykernel)",
   "language": "python",
   "name": "python3"
  },
  "language_info": {
   "codemirror_mode": {
    "name": "ipython",
    "version": 3
   },
   "file_extension": ".py",
   "mimetype": "text/x-python",
   "name": "python",
   "nbconvert_exporter": "python",
   "pygments_lexer": "ipython3",
   "version": "3.8.13"
  }
 },
 "nbformat": 4,
 "nbformat_minor": 5
}
