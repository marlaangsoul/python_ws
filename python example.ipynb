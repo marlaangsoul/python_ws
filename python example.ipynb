{
 "cells": [
  {
   "cell_type": "markdown",
   "id": "eca3983a",
   "metadata": {},
   "source": [
    "python example"
   ]
  },
  {
   "cell_type": "markdown",
   "id": "006d54cf",
   "metadata": {},
   "source": [
    "로또번호 뽑기\n"
   ]
  },
  {
   "cell_type": "code",
   "execution_count": 1,
   "id": "e2d3c621",
   "metadata": {},
   "outputs": [
    {
     "data": {
      "text/plain": [
       "{9, 14, 15, 22, 38, 40}"
      ]
     },
     "execution_count": 1,
     "metadata": {},
     "output_type": "execute_result"
    }
   ],
   "source": [
    "import random\n",
    "\n",
    "lottoOne = set()\n",
    "while True:\n",
    "    lottoOne.add(random.randint(1,45))\n",
    "    if len(lottoOne) == 6:\n",
    "        break\n",
    "lottoOne"
   ]
  },
  {
   "cell_type": "code",
   "execution_count": 4,
   "id": "40f362a2",
   "metadata": {},
   "outputs": [
    {
     "data": {
      "text/plain": [
       "[{1, 19, 21, 32, 38, 44},\n",
       " {9, 13, 28, 30, 34, 45},\n",
       " {3, 14, 15, 18, 21, 32},\n",
       " {1, 15, 26, 28, 35, 36},\n",
       " {3, 14, 15, 18, 29, 43}]"
      ]
     },
     "execution_count": 4,
     "metadata": {},
     "output_type": "execute_result"
    }
   ],
   "source": [
    "import random\n",
    "\n",
    "lottoOne = set()\n",
    "lottoFive = list()\n",
    "while True:\n",
    "    lottoOne.add(random.randint(1,45))\n",
    "    if len(lottoOne) == 6:\n",
    "        lottoFive.append(lottoOne)\n",
    "        lottoOne = set()\n",
    "    if len(lottoFive) == 5:\n",
    "        break\n",
    "\n",
    "lottoFive"
   ]
  },
  {
   "cell_type": "markdown",
   "id": "28ad8f85",
   "metadata": {},
   "source": [
    "로또번호 뽑기\n",
    "list 자료형을 사용해서 로또번호 6개 (1~45, 중복불가) 뽑기\n",
    "1장 뽑기\n",
    "5장 뽑기"
   ]
  },
  {
   "cell_type": "code",
   "execution_count": 6,
   "id": "3c0b773c",
   "metadata": {},
   "outputs": [
    {
     "data": {
      "text/plain": [
       "[19, 33, 24, 12, 3, 15]"
      ]
     },
     "execution_count": 6,
     "metadata": {},
     "output_type": "execute_result"
    }
   ],
   "source": [
    "import random\n",
    "\n",
    "lottoBox = []\n",
    "for i in range(45):\n",
    "    lottoBox.append(i+1)\n",
    "\n",
    "for i in range(777):\n",
    "    shuffle = random.randint(0,44)\n",
    "    tmp = lottoBox[0]\n",
    "    lottoBox[0] = lottoBox[shuffle]\n",
    "    lottoBox[shuffle] = tmp\n",
    "    \n",
    "lottoOne = lottoBox[:6]\n",
    "lottoOne"
   ]
  },
  {
   "cell_type": "code",
   "execution_count": 7,
   "id": "a4e7e53c",
   "metadata": {},
   "outputs": [
    {
     "data": {
      "text/plain": [
       "[[3, 17, 21, 22, 27, 31],\n",
       " [22, 23, 34, 39, 40, 44],\n",
       " [8, 20, 26, 29, 40, 41],\n",
       " [5, 7, 25, 28, 34, 39],\n",
       " [8, 15, 20, 25, 33, 45]]"
      ]
     },
     "execution_count": 7,
     "metadata": {},
     "output_type": "execute_result"
    }
   ],
   "source": [
    "import random\n",
    "\n",
    "lottoBox = []\n",
    "for i in range(45):\n",
    "    lottoBox.append(i+1)\n",
    "\n",
    "lottoFive = []\n",
    "while True:\n",
    "    for i in range(777):\n",
    "        shuffle = random.randint(0,44)\n",
    "        tmp = lottoBox[0]\n",
    "        lottoBox[0] = lottoBox[shuffle]\n",
    "        lottoBox[shuffle] = tmp\n",
    "    lottoOne = lottoBox[:6]\n",
    "    lottoOne.sort()\n",
    "    lottoFive.append(lottoOne)\n",
    "    if len(lottoFive) == 5:\n",
    "        break\n",
    "lottoFive\n"
   ]
  },
  {
   "cell_type": "code",
   "execution_count": 8,
   "id": "711927b5",
   "metadata": {},
   "outputs": [
    {
     "name": "stdout",
     "output_type": "stream",
     "text": [
      "*\n",
      "**\n",
      "***\n",
      "****\n",
      "*****\n"
     ]
    }
   ],
   "source": [
    "for i in range(1,6):\n",
    "    print('*'*i)\n"
   ]
  },
  {
   "cell_type": "code",
   "execution_count": 10,
   "id": "3ab34e93",
   "metadata": {},
   "outputs": [
    {
     "name": "stdout",
     "output_type": "stream",
     "text": [
      "*****\n",
      "****\n",
      "***\n",
      "**\n",
      "*\n"
     ]
    }
   ],
   "source": [
    "for i in range(5,0,-1):\n",
    "    print('*'*i)\n"
   ]
  },
  {
   "cell_type": "code",
   "execution_count": 11,
   "id": "e09b1e46",
   "metadata": {
    "scrolled": true
   },
   "outputs": [
    {
     "name": "stdout",
     "output_type": "stream",
     "text": [
      "    *\n",
      "   ***\n",
      "  *****\n",
      " *******\n",
      "*********\n"
     ]
    }
   ],
   "source": [
    "end = 9\n",
    "for i in range(1,10,2):\n",
    "    space = end // 2\n",
    "    print(space*' ','*'*i, sep='')\n",
    "    end -= 2\n"
   ]
  },
  {
   "cell_type": "code",
   "execution_count": 12,
   "id": "a4e3b212",
   "metadata": {},
   "outputs": [
    {
     "name": "stdout",
     "output_type": "stream",
     "text": [
      "*********\n",
      " *******\n",
      "  *****\n",
      "   ***\n",
      "    *\n"
     ]
    }
   ],
   "source": [
    "start = 1\n",
    "for i in range(9,0,-2):\n",
    "    space = start // 2\n",
    "    print(space*' ','*'*i, sep='')\n",
    "    start += 2"
   ]
  },
  {
   "cell_type": "code",
   "execution_count": 13,
   "id": "794ba08d",
   "metadata": {},
   "outputs": [
    {
     "name": "stdout",
     "output_type": "stream",
     "text": [
      "     *\n",
      "    ***\n",
      "   *****\n",
      "  *******\n",
      " *********\n",
      "***********\n",
      " *********\n",
      "  *******\n",
      "   *****\n",
      "    ***\n",
      "     *\n"
     ]
    }
   ],
   "source": [
    "end = 11\n",
    "end2 = end\n",
    "for i in range(1,end+1,2):\n",
    "    space = end // 2\n",
    "    print(space*' ','*'*i, sep='')\n",
    "    end -= 2\n",
    "start = 3\n",
    "for i in range(end2-2,0,-2):\n",
    "    space = start // 2\n",
    "    print(space*' ','*'*i, sep='')\n",
    "    start += 2\n"
   ]
  },
  {
   "cell_type": "code",
   "execution_count": 122,
   "id": "bc4a9fbf",
   "metadata": {},
   "outputs": [
    {
     "data": {
      "text/plain": [
       "[4, 5, 9, 3, 0, 2, 0, 1, 7, 4]"
      ]
     },
     "execution_count": 122,
     "metadata": {},
     "output_type": "execute_result"
    }
   ],
   "source": [
    "import random\n",
    "\n",
    "listNum = []\n",
    "for i in range(10):\n",
    "    listNum.append(random.randint(0,9))\n",
    "listNum"
   ]
  },
  {
   "cell_type": "code",
   "execution_count": 126,
   "id": "86694570",
   "metadata": {},
   "outputs": [
    {
     "data": {
      "text/plain": [
       "[0, 2, 0, 1, 3, 4, 4, 5, 7, 9]"
      ]
     },
     "execution_count": 126,
     "metadata": {},
     "output_type": "execute_result"
    }
   ],
   "source": [
    "for i in range(9):\n",
    "    if listNum[i] > listNum[i+1]:\n",
    "        tmp = listNum[i]\n",
    "        listNum[i] = listNum[i+1]\n",
    "        listNum[i+1] = tmp\n",
    "listNum\n"
   ]
  },
  {
   "cell_type": "code",
   "execution_count": 132,
   "id": "80e0b92b",
   "metadata": {},
   "outputs": [
    {
     "name": "stdout",
     "output_type": "stream",
     "text": [
      "[0, 0, 1, 2, 3, 4, 4, 5, 7, 9]\n",
      "[0, 0, 1, 2, 3, 4, 4, 5, 7, 9]\n",
      "[0, 0, 1, 2, 3, 4, 4, 5, 7, 9]\n",
      "[0, 0, 1, 2, 3, 4, 4, 5, 7, 9]\n",
      "[0, 0, 1, 2, 3, 4, 4, 5, 7, 9]\n",
      "[0, 0, 1, 2, 3, 4, 4, 5, 7, 9]\n",
      "[0, 0, 1, 2, 3, 4, 4, 5, 7, 9]\n",
      "[0, 0, 1, 2, 3, 4, 4, 5, 7, 9]\n",
      "[0, 0, 1, 2, 3, 4, 4, 5, 7, 9]\n",
      "[0, 0, 1, 2, 3, 4, 4, 5, 7, 9]\n"
     ]
    }
   ],
   "source": [
    "print(listNum)\n",
    "for j in range(9):\n",
    "    for i in range(9):\n",
    "        if listNum[i] > listNum[i+1]:\n",
    "            tmp = listNum[i]\n",
    "            listNum[i] = listNum[i+1]\n",
    "            listNum[i+1] = tmp\n",
    "    print(listNum)\n"
   ]
  },
  {
   "cell_type": "code",
   "execution_count": 133,
   "id": "cc419d48",
   "metadata": {},
   "outputs": [
    {
     "name": "stdout",
     "output_type": "stream",
     "text": [
      "[0, 0, 1, 2, 3, 4, 4, 5, 7, 9]\n",
      "[0, 0, 1, 2, 3, 4, 4, 5, 7, 9]\n",
      "[0, 0, 1, 2, 3, 4, 4, 5, 7, 9]\n",
      "[0, 0, 1, 2, 3, 4, 4, 5, 7, 9]\n",
      "[0, 0, 1, 2, 3, 4, 4, 5, 7, 9]\n",
      "[0, 0, 1, 2, 3, 4, 4, 5, 7, 9]\n",
      "[0, 0, 1, 2, 3, 4, 4, 5, 7, 9]\n",
      "[0, 0, 1, 2, 3, 4, 4, 5, 7, 9]\n",
      "[0, 0, 1, 2, 3, 4, 4, 5, 7, 9]\n",
      "[0, 0, 1, 2, 3, 4, 4, 5, 7, 9]\n"
     ]
    }
   ],
   "source": [
    "print(listNum)\n",
    "for j in range(9):\n",
    "    for i in range(9-j):\n",
    "        if listNum[i] > listNum[i+1]:\n",
    "            tmp = listNum[i]\n",
    "            listNum[i] = listNum[i+1]\n",
    "            listNum[i+1] = tmp\n",
    "    print(listNum)"
   ]
  },
  {
   "cell_type": "code",
   "execution_count": 140,
   "id": "7af18627",
   "metadata": {},
   "outputs": [
    {
     "name": "stdout",
     "output_type": "stream",
     "text": [
      "[0, 0, 1, 2, 3, 4, 4, 5, 7, 9]\n",
      "[0, 0, 1, 2, 3, 4, 4, 5, 7, 9] False\n"
     ]
    }
   ],
   "source": [
    "print(listNum)\n",
    "for j in range(9):\n",
    "    isChange = False\n",
    "    for i in range(9-j):\n",
    "        if listNum[i] > listNum[i+1]:\n",
    "            tmp = listNum[i]\n",
    "            listNum[i] = listNum[i+1]\n",
    "            listNum[i+1] = tmp\n",
    "            isChange = True\n",
    "    print(listNum,isChange)\n",
    "    if not isChange:\n",
    "        break\n"
   ]
  }
 ],
 "metadata": {
  "kernelspec": {
   "display_name": "Python 3 (ipykernel)",
   "language": "python",
   "name": "python3"
  },
  "language_info": {
   "codemirror_mode": {
    "name": "ipython",
    "version": 3
   },
   "file_extension": ".py",
   "mimetype": "text/x-python",
   "name": "python",
   "nbconvert_exporter": "python",
   "pygments_lexer": "ipython3",
   "version": "3.8.13"
  }
 },
 "nbformat": 4,
 "nbformat_minor": 5
}
