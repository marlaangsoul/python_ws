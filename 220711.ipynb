{
 "cells": [
  {
   "cell_type": "markdown",
   "id": "ceb103db",
   "metadata": {},
   "source": [
    "## 파이썬 자료구조\n",
    "- 열거형 객체 : 하나의 메모리 영역에 여러 개의 자료가 나열된 집합 자료구조\n",
    "- 자료구조 : 열거형 객체가 메모리에 배정될 때 기억공간에 적재되는 구조\n",
    "- 순서가 있는 자료구조와 순서가 없는 자료구조로 구분\n",
    "### 순서 있는 자료구조 Sequence Data Structure\n",
    "- str, list, tuple 클래스\n",
    "#### str\n",
    "- 문자들의 모음\n",
    "- 일정한 순서를 갖는다.\n",
    "- 색인을 이용하여 원소를 참조할 수 있다."
   ]
  },
  {
   "cell_type": "code",
   "execution_count": 1,
   "id": "3e9d1bf5",
   "metadata": {},
   "outputs": [
    {
     "name": "stdout",
     "output_type": "stream",
     "text": [
      "string\n",
      "<class 'str'>\n",
      "s\n",
      "g\n"
     ]
    }
   ],
   "source": [
    "# str 클래스 형식\n",
    "str_var = str(object='string')\n",
    "print(str_var)\n",
    "print(type(str_var))\n",
    "print(str_var[0])\n",
    "print(str_var[-1])"
   ]
  },
  {
   "cell_type": "code",
   "execution_count": 2,
   "id": "88011bd8",
   "metadata": {},
   "outputs": [
    {
     "name": "stdout",
     "output_type": "stream",
     "text": [
      "string\n",
      "<class 'str'>\n",
      "s\n",
      "g\n"
     ]
    }
   ],
   "source": [
    "# str 클래스 간편 형식\n",
    "str_var2 = 'string'\n",
    "print(str_var2)\n",
    "print(type(str_var2))\n",
    "print(str_var2[0])\n",
    "print(str_var2[-1])"
   ]
  },
  {
   "cell_type": "markdown",
   "id": "7e3dccbb",
   "metadata": {},
   "source": [
    "list [ ] or list()\n",
    "- 1차원 배열 구조\n",
    "    - 형식) list변수 = [값1, 값2,..]\n",
    "- 다양한 자료형 저장 가능\n",
    "- index 사용(순서 있음)\n",
    "    - 형식) list변수[index]\n",
    "- 값 수정(추가,삽입,수정,삭제)\n"
   ]
  },
  {
   "cell_type": "markdown",
   "id": "64828699",
   "metadata": {},
   "source": [
    "단일 list"
   ]
  },
  {
   "cell_type": "code",
   "execution_count": 3,
   "id": "eb5f4dd0",
   "metadata": {
    "scrolled": true
   },
   "outputs": [
    {
     "name": "stdout",
     "output_type": "stream",
     "text": [
      "[1, 2, 3, 4, 5]\n",
      "<class 'list'>\n",
      "[1]\n",
      "[1, 2]\n",
      "[1, 2, 3]\n",
      "[1, 2, 3, 4]\n",
      "[1, 2, 3, 4, 5]\n"
     ]
    }
   ],
   "source": [
    "# 단일 list 예\n",
    "lst = [1,2,3,4,5]\n",
    "print(lst)\n",
    "print(type(lst))\n",
    "for i in lst :\n",
    "    print(lst[:i]) # i 전까지"
   ]
  },
  {
   "cell_type": "code",
   "execution_count": 4,
   "id": "9d0b92c3",
   "metadata": {},
   "outputs": [
    {
     "name": "stdout",
     "output_type": "stream",
     "text": [
      "[1, 2, 3, 4, 5]\n",
      "[2, 3, 4, 5]\n",
      "[3, 4, 5]\n",
      "[4, 5]\n",
      "[5]\n"
     ]
    }
   ],
   "source": [
    "for i in lst :\n",
    "    print(lst[i-1: ])"
   ]
  },
  {
   "cell_type": "code",
   "execution_count": 5,
   "id": "9c5a1533",
   "metadata": {},
   "outputs": [
    {
     "name": "stdout",
     "output_type": "stream",
     "text": [
      "[1, 2, 3, 4, 5, 6, 7, 8, 9, 10]\n",
      "[1, 2, 3, 4, 5]\n",
      "[6, 7, 8, 9, 10]\n"
     ]
    }
   ],
   "source": [
    "x = list(range(1, 11))\n",
    "print(x)\n",
    "print(x[:5]) # [1, 2, 3, 4, 5]\n",
    "print(x[-5:]) # [96, 97, 98, 99, 100]"
   ]
  },
  {
   "cell_type": "code",
   "execution_count": 9,
   "id": "c949ae55",
   "metadata": {},
   "outputs": [
    {
     "name": "stdout",
     "output_type": "stream",
     "text": [
      "index 2씩 증가 \n",
      "[1, 3, 5, 7, 9]\n",
      "[2, 4, 6, 8, 10]\n"
     ]
    }
   ],
   "source": [
    "print('index 2씩 증가 ')\n",
    "print(x[::2]) # 홀수 \n",
    "print(x[1::2]) # 짝수(index 1부터 시작) "
   ]
  },
  {
   "cell_type": "markdown",
   "id": "916fa77e",
   "metadata": {},
   "source": [
    "중첩 list 생성"
   ]
  },
  {
   "cell_type": "code",
   "execution_count": 10,
   "id": "6ca71a3f",
   "metadata": {},
   "outputs": [
    {
     "name": "stdout",
     "output_type": "stream",
     "text": [
      "10\n",
      "['a', 'b', 'c']\n",
      "a\n",
      "['b', 'c']\n"
     ]
    }
   ],
   "source": [
    "a = ['a', 'b', 'c']  # list 생성 \n",
    "b = [10, 20, a, 5, True, '문자열'] # 서로 다른 type 가능\n",
    "print(b[0]) # 10\n",
    "print(b[2]) # ['a', 'b', 'c'] -> 중첩 list \n",
    "print(b[2][0]) # a  -> 중첩 list 1번 원소 \n",
    "print(b[2][1:]) # ['b', 'c'] -> 중첩 list 2번 이후 원소 "
   ]
  },
  {
   "cell_type": "code",
   "execution_count": 11,
   "id": "9eae6d37",
   "metadata": {},
   "outputs": [
    {
     "name": "stdout",
     "output_type": "stream",
     "text": [
      "<class 'list'> <class 'list'>\n",
      "1602522780224 1602522767744\n"
     ]
    }
   ],
   "source": [
    "# 자료구조 확인\n",
    "print(type(a), type(b)) # <class 'list'>\n",
    "print(id(a), id(b)) # 40648584 40647432"
   ]
  },
  {
   "cell_type": "code",
   "execution_count": 12,
   "id": "73bbf12d",
   "metadata": {
    "scrolled": true
   },
   "outputs": [
    {
     "name": "stdout",
     "output_type": "stream",
     "text": [
      "['one', 'two', 'three', 'four']\n",
      "4\n",
      "['one', 'two', 'three', 'four', 'five']\n",
      "['one', 'two', 'three', 'four']\n",
      "['one', 'two', 'three', '4']\n"
     ]
    }
   ],
   "source": [
    "# 추가,삭제,수정,삽입\n",
    "num = ['one', 'two', 'three', 'four']\n",
    "\n",
    "print(num) # ['one', 'two', 'three', 'four']\n",
    "print(len(num)) # 4\n",
    "\n",
    "num.append('five') # 추가\n",
    "print(num) # ['one', 'two', 'three', 'four', 'five']\n",
    "\n",
    "num.remove('five') # 삭제 \n",
    "print(num)\n",
    "\n",
    "num[3] = '4' # 수정 \n",
    "print(num)"
   ]
  },
  {
   "cell_type": "markdown",
   "id": "07f7aca1",
   "metadata": {},
   "source": [
    "list 연산\n"
   ]
  },
  {
   "cell_type": "code",
   "execution_count": 13,
   "id": "f59e9e53",
   "metadata": {},
   "outputs": [
    {
     "name": "stdout",
     "output_type": "stream",
     "text": [
      "[1, 2, 3, 4, 1.5, 2.5]\n"
     ]
    }
   ],
   "source": [
    "# list 결합 \n",
    "x =  [1, 2, 3, 4]\n",
    "y = [1.5, 2.5]\n",
    "z = x + y  # new object\n",
    "print(z) # [1, 2, 3, 4, 1.5, 2.5]"
   ]
  },
  {
   "cell_type": "code",
   "execution_count": 14,
   "id": "e6c45a3e",
   "metadata": {},
   "outputs": [
    {
     "name": "stdout",
     "output_type": "stream",
     "text": [
      "['one', 'two', 'three', '4']\n"
     ]
    }
   ],
   "source": [
    "print(num)"
   ]
  },
  {
   "cell_type": "code",
   "execution_count": 15,
   "id": "8ddcf038",
   "metadata": {},
   "outputs": [],
   "source": [
    "num.append('five')"
   ]
  },
  {
   "cell_type": "code",
   "execution_count": 16,
   "id": "edc7d1f1",
   "metadata": {},
   "outputs": [
    {
     "name": "stdout",
     "output_type": "stream",
     "text": [
      "['one', 'two', 'three', '4', 'five']\n"
     ]
    }
   ],
   "source": [
    "print(num)"
   ]
  },
  {
   "cell_type": "code",
   "execution_count": 17,
   "id": "16996819",
   "metadata": {},
   "outputs": [
    {
     "name": "stdout",
     "output_type": "stream",
     "text": [
      "[1, 2, 3, 4, 1.5, 2.5]\n"
     ]
    }
   ],
   "source": [
    "# list 확장 \n",
    "x.extend(y)  # x 확장 \n",
    "print(x) # [1, 2, 3, 4, 1.5, 2.5]"
   ]
  },
  {
   "cell_type": "code",
   "execution_count": 18,
   "id": "a967778b",
   "metadata": {
    "scrolled": true
   },
   "outputs": [
    {
     "name": "stdout",
     "output_type": "stream",
     "text": [
      "[1, 2, 3, 4, 1.5, 2.5, [1.5, 2.5]]\n"
     ]
    }
   ],
   "source": [
    "# list 추가 \n",
    "x.append(y) # x 추가 \n",
    "print(x) # [1, 2, 3, 4, 1.5, 2.5, [1.5, 2.5]]"
   ]
  },
  {
   "cell_type": "code",
   "execution_count": 19,
   "id": "d8bac7b0",
   "metadata": {},
   "outputs": [
    {
     "name": "stdout",
     "output_type": "stream",
     "text": [
      "[1, 2, 3, 4, 1, 2, 3, 4]\n"
     ]
    }
   ],
   "source": [
    "# list 제곱  \n",
    "lst = [1, 2, 3, 4] # list 생성\n",
    "\n",
    "# lst 원소를 2개씩 생성하여 result 저장\n",
    "result = lst * 2 # 각 원소 연산 안됨 \n",
    "print(result) # [1, 2, 3, 4, 1, 2, 3, 4]"
   ]
  },
  {
   "cell_type": "code",
   "execution_count": 20,
   "id": "8bd4e72b",
   "metadata": {
    "scrolled": true
   },
   "outputs": [
    {
     "name": "stdout",
     "output_type": "stream",
     "text": [
      "1.5 * 2 =  3.0\n"
     ]
    }
   ],
   "source": [
    "# list 사칙연산 : 원소 대상 \n",
    "print('1.5 * 2 = ', y[0] * 2) # 1.5 * 2 =  3.0"
   ]
  },
  {
   "cell_type": "code",
   "execution_count": 21,
   "id": "b2ca5f7a",
   "metadata": {
    "scrolled": true
   },
   "outputs": [
    {
     "name": "stdout",
     "output_type": "stream",
     "text": [
      "[1, 2, 3, 4, 1, 2, 3, 4]\n",
      "[1, 1, 2, 2, 3, 3, 4, 4]\n",
      "[4, 4, 3, 3, 2, 2, 1, 1]\n"
     ]
    }
   ],
   "source": [
    "# list 정렬과 원소 찾기\n",
    "print(result) # [1, 2, 3, 4, 1, 2, 3, 4]\n",
    "\n",
    "result.sort() # 오름차순 정렬 \n",
    "print(result) #[1, 1, 2, 2, 3, 3, 4, 4]\n",
    "\n",
    "result.sort(reverse = True) # 내림차순 정렬 \n",
    "print(result) # [4, 4, 3, 3, 2, 2, 1, 1]"
   ]
  },
  {
   "cell_type": "code",
   "execution_count": 22,
   "id": "a134534f",
   "metadata": {},
   "outputs": [],
   "source": [
    "# list에서 원소 찾기\n",
    "tmp='''\n",
    "if '원소' in list : \n",
    "    참 실행문 : list에 '원소' 포함 \n",
    "else :\n",
    "    거짓 실행문 : 미 포함 \n",
    "'''\n"
   ]
  },
  {
   "cell_type": "code",
   "execution_count": 23,
   "id": "238b84e6",
   "metadata": {
    "scrolled": true
   },
   "outputs": [
    {
     "name": "stdout",
     "output_type": "stream",
     "text": [
      "[2, 5, 3, 4, 1]\n",
      "있음\n"
     ]
    }
   ],
   "source": [
    "import random\n",
    "\n",
    "r = []\n",
    "for i in range(5) :\n",
    "    r.append(random.randint(1,5))\n",
    "\n",
    "print(r)\n",
    "    \n",
    "if 4 in r :\n",
    "    print('있음')\n",
    "else :\n",
    "    print('없음')\n"
   ]
  },
  {
   "cell_type": "markdown",
   "id": "d2e9d562",
   "metadata": {},
   "source": [
    "### 리스트 내포\n",
    "- list에 for문 포함\n",
    "- 형식1) 변수 = [ 실행문 for ]\n",
    "    - 실행순서 : 1.for문 > 2.실행문 > 3.변수 저장\n",
    "- 형식2) 변수 = [ 실행문 for if ]\n",
    "    - 실행순서 : 1.for문 > 2.if > [3.실행문 > 4.변수 저장]\n"
   ]
  },
  {
   "cell_type": "code",
   "execution_count": 24,
   "id": "39c7b38c",
   "metadata": {},
   "outputs": [],
   "source": [
    "# x변량에 제곱 계산\n",
    "x = [2,4,1,5,7]\n",
    "# print(x ** 2) # error"
   ]
  },
  {
   "cell_type": "code",
   "execution_count": 25,
   "id": "41bacdc4",
   "metadata": {},
   "outputs": [
    {
     "name": "stdout",
     "output_type": "stream",
     "text": [
      "[4, 16, 1, 25, 49]\n"
     ]
    }
   ],
   "source": [
    "lst = [ i ** 2   for i in x ]\n",
    "print(lst) # [4, 16, 1, 25, 49]\n"
   ]
  },
  {
   "cell_type": "code",
   "execution_count": 2,
   "id": "d309855a",
   "metadata": {},
   "outputs": [
    {
     "name": "stdout",
     "output_type": "stream",
     "text": [
      "['one', 'two', 'three', 'four']\n",
      "4\n",
      "['one', 'two', 'three', 'four', 'five']\n",
      "['one', 'two', 'three', 'four']\n",
      "['one', 'two', 'three', '4']\n"
     ]
    }
   ],
   "source": [
    "# 추가,삭제,수정,삽입\n",
    "num = ['one', 'two', 'three', 'four']\n",
    "\n",
    "print(num) # ['one', 'two', 'three', 'four']\n",
    "print(len(num)) # 4\n",
    "\n",
    "num.append('five') # 추가\n",
    "print(num) # ['one', 'two', 'three', 'four', 'five']\n",
    "\n",
    "num.remove('five') # 삭제 \n",
    "print(num)\n",
    "\n",
    "num[3] = '4' # 수정 \n",
    "print(num)\n"
   ]
  },
  {
   "cell_type": "code",
   "execution_count": 7,
   "id": "a9381479",
   "metadata": {
    "scrolled": true
   },
   "outputs": [
    {
     "name": "stdout",
     "output_type": "stream",
     "text": [
      "[4, 8, 12, 16, 20]\n"
     ]
    }
   ],
   "source": [
    "# 1~10 -> 2의 배수 추출 -> i*2 -> list 저장\n",
    "num = [1,2,3,4,5,6,7,8,9,10]\n",
    "lst2 = [ i*2  for i in num  if i % 2 == 0  ]\n",
    "print(lst2)"
   ]
  },
  {
   "cell_type": "markdown",
   "id": "53f8d800",
   "metadata": {},
   "source": [
    "#### tuple () or tuple()\n",
    "- 순서존재(index 사용 가능)\n",
    "- 수정 불가\n",
    "- 문자열 원소 표현\n",
    "- list 속도 빠름\n",
    "- 제공 함수 없음\n",
    "- 형식) (원소1, 원소2, ...n) : () 생략 가능\n"
   ]
  },
  {
   "cell_type": "code",
   "execution_count": 9,
   "id": "971ceb27",
   "metadata": {},
   "outputs": [],
   "source": [
    "#help(tuple) # Help on class tuple in module builtins\n"
   ]
  },
  {
   "cell_type": "code",
   "execution_count": 14,
   "id": "6b2f3821",
   "metadata": {},
   "outputs": [
    {
     "name": "stdout",
     "output_type": "stream",
     "text": [
      "10\n",
      "10 (10,)\n"
     ]
    }
   ],
   "source": [
    "# 단일 인수\n",
    "t = 10 ; t1 = (10, )\n",
    "t = 10\n",
    "t = (10)\n",
    "print(t)\n",
    "print(t, t1) # 10 (10,)\n"
   ]
  },
  {
   "cell_type": "code",
   "execution_count": 15,
   "id": "1e3a8649",
   "metadata": {},
   "outputs": [
    {
     "name": "stdout",
     "output_type": "stream",
     "text": [
      "(1, 2, 3, 4, 5, 3)\n"
     ]
    }
   ],
   "source": [
    "# 여러개 인수\n",
    "t2 = (1,2,3,4,5,3)\n",
    "print(t2) # (1, 2, 3, 4, 5, 3)\n"
   ]
  },
  {
   "cell_type": "code",
   "execution_count": 16,
   "id": "35c2d251",
   "metadata": {},
   "outputs": [
    {
     "name": "stdout",
     "output_type": "stream",
     "text": [
      "1 (2, 3, 4) 3\n"
     ]
    }
   ],
   "source": [
    "# index\n",
    "print(t2[0], t2[1:4], t2[-1]) # 1 (2, 3, 4) 5\n"
   ]
  },
  {
   "cell_type": "code",
   "execution_count": 17,
   "id": "1522619f",
   "metadata": {},
   "outputs": [],
   "source": [
    "#  수정 불가 \n",
    "# t2[0] = 10 # error\n"
   ]
  },
  {
   "cell_type": "code",
   "execution_count": 18,
   "id": "2f142e37",
   "metadata": {},
   "outputs": [
    {
     "name": "stdout",
     "output_type": "stream",
     "text": [
      "1 2 3 4 5 3 "
     ]
    }
   ],
   "source": [
    "for i in t2 :\n",
    "    print(i, end=' ')"
   ]
  },
  {
   "cell_type": "code",
   "execution_count": 19,
   "id": "2afd8043",
   "metadata": {},
   "outputs": [
    {
     "name": "stdout",
     "output_type": "stream",
     "text": [
      "6 없음\n"
     ]
    }
   ],
   "source": [
    "# 요소 검사\n",
    "if 6 in t2 :\n",
    "    print(\"6 있음\")\n",
    "else :\n",
    "    print(\"6 없음\")\n"
   ]
  },
  {
   "cell_type": "code",
   "execution_count": 22,
   "id": "205b271c",
   "metadata": {},
   "outputs": [
    {
     "name": "stdout",
     "output_type": "stream",
     "text": [
      "(1, 2, 3, 4, 5)\n",
      "5 <class 'tuple'>\n",
      "1\n",
      "3\n"
     ]
    }
   ],
   "source": [
    "# tuple 함수\n",
    "lst = list(range(1,6))\n",
    "t3 = tuple(lst)\n",
    "print(t3) # (1, 2, 3, 4, 5, 3)\n",
    "print(len(t3), type(t3)) # 5 <class 'tuple'>\n",
    "print(t3.count(3)) # 1\n",
    "print(t3.index(4)) # 4의 색인 위치 값 -> 3\n"
   ]
  },
  {
   "cell_type": "markdown",
   "id": "7ac6b0fa",
   "metadata": {},
   "source": [
    "순서 없는 자료구조 None-Sequence Data Structure\n"
   ]
  },
  {
   "cell_type": "markdown",
   "id": "6d0c18aa",
   "metadata": {},
   "source": [
    "- set, dict 클래스\n",
    "#### set {} or set()\n",
    "- 순서 없음, 중복 허용 불가\n",
    "- 형식) 변수 = {값1, 값2,...}\n",
    "- 집합 개념\n"
   ]
  },
  {
   "cell_type": "code",
   "execution_count": 23,
   "id": "926bca48",
   "metadata": {},
   "outputs": [
    {
     "name": "stdout",
     "output_type": "stream",
     "text": [
      "3\n",
      "{1, 3, 5}\n"
     ]
    }
   ],
   "source": [
    "# 중복 불가\n",
    "s = {1,3,5,3,1}\n",
    "print(len(s)) # 3\n",
    "print(s) # {1, 3, 5}\n"
   ]
  },
  {
   "cell_type": "markdown",
   "id": "bf0744d9",
   "metadata": {},
   "source": [
    "파이썬의 자료 구조는 순서가 있는 자료구조와 없는 자료 구조로 나눌수 있구나!"
   ]
  },
  {
   "cell_type": "code",
   "execution_count": 24,
   "id": "8d54c2bd",
   "metadata": {},
   "outputs": [
    {
     "name": "stdout",
     "output_type": "stream",
     "text": [
      "1 3 5 "
     ]
    }
   ],
   "source": [
    "# for + set 이용\n",
    "for d in s :\n",
    "    print(d, end=' ')  # 1 3 5\n"
   ]
  },
  {
   "cell_type": "code",
   "execution_count": 26,
   "id": "a96fa93b",
   "metadata": {},
   "outputs": [],
   "source": [
    "s = {1,3,5,3,1}"
   ]
  },
  {
   "cell_type": "code",
   "execution_count": 27,
   "id": "a98d66d0",
   "metadata": {
    "scrolled": true
   },
   "outputs": [
    {
     "name": "stdout",
     "output_type": "stream",
     "text": [
      "{1, 3, 5, 6}\n",
      "{1, 5}\n",
      "{3}\n"
     ]
    }
   ],
   "source": [
    "# 집합관련 함수\n",
    "s2 = {3, 6}\n",
    "print(s.union(s2)) # 합집합 : s + s2 = {1, 3, 5, 6}\n",
    "print(s.difference(s2)) # 차집합 : s - s2 = {1, 5}\n",
    "print(s.intersection(s2)) # 교집합 : {3}"
   ]
  },
  {
   "cell_type": "code",
   "execution_count": 28,
   "id": "5a3f2be1",
   "metadata": {},
   "outputs": [
    {
     "name": "stdout",
     "output_type": "stream",
     "text": [
      "{1, 3, 5}\n"
     ]
    }
   ],
   "source": [
    "# 추가, 수정, 삭제 함수\n",
    "s3 = {1, 3, 5}\n",
    "print(s3)\n"
   ]
  },
  {
   "cell_type": "code",
   "execution_count": 29,
   "id": "b415fdc4",
   "metadata": {
    "scrolled": true
   },
   "outputs": [
    {
     "name": "stdout",
     "output_type": "stream",
     "text": [
      "{1, 3, 5, 7}\n"
     ]
    }
   ],
   "source": [
    "# 원소 추가 \n",
    "s3.add(7) \n",
    "print(s3) # {1, 3, 5, 7}\n"
   ]
  },
  {
   "cell_type": "code",
   "execution_count": 30,
   "id": "1f07b57f",
   "metadata": {
    "scrolled": true
   },
   "outputs": [
    {
     "name": "stdout",
     "output_type": "stream",
     "text": [
      "{1, 3, 5, 7, '다섯'}\n"
     ]
    }
   ],
   "source": [
    "# 원소 수정\n",
    "s3.update([5, '다섯'])\n",
    "print(s3)\n"
   ]
  },
  {
   "cell_type": "code",
   "execution_count": 31,
   "id": "1313b7de",
   "metadata": {},
   "outputs": [
    {
     "name": "stdout",
     "output_type": "stream",
     "text": [
      "{1, 5, 7, '다섯'}\n"
     ]
    }
   ],
   "source": [
    "# 원소 삭제\n",
    "s3.discard(3) \n",
    "print(s3) # {1, 5, 7}"
   ]
  },
  {
   "cell_type": "code",
   "execution_count": 32,
   "id": "f7061af5",
   "metadata": {
    "scrolled": true
   },
   "outputs": [
    {
     "name": "stdout",
     "output_type": "stream",
     "text": [
      "['남', '여']\n",
      "여\n"
     ]
    }
   ],
   "source": [
    "# 중복 데이터 제거\n",
    "gender = ['남','여','남','여']\n",
    "sgender = set(gender) # list -> set\n",
    "lgender = list(sgender) # set -> list\n",
    "print(lgender) # ['남', '여']\n",
    "\n",
    "print(lgender[1])"
   ]
  },
  {
   "cell_type": "markdown",
   "id": "6a8ce79d",
   "metadata": {},
   "source": [
    "#### dict {k:v}, dict()\n",
    "- {'key':value, 'key':value, ...}\n",
    "- json 형식, R의 list 동일\n",
    "- key 접근만 가능함(index, value 사용 불가)\n",
    "- key 중복 불가\n",
    "- 출력 순서 random\n",
    "\n",
    "##### dict 생성 방법1\n"
   ]
  }
 ],
 "metadata": {
  "kernelspec": {
   "display_name": "Python 3 (ipykernel)",
   "language": "python",
   "name": "python3"
  },
  "language_info": {
   "codemirror_mode": {
    "name": "ipython",
    "version": 3
   },
   "file_extension": ".py",
   "mimetype": "text/x-python",
   "name": "python",
   "nbconvert_exporter": "python",
   "pygments_lexer": "ipython3",
   "version": "3.8.13"
  }
 },
 "nbformat": 4,
 "nbformat_minor": 5
}
